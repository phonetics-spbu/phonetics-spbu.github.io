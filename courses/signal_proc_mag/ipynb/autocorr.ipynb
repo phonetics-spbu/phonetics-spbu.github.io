{
 "cells": [
  {
   "cell_type": "markdown",
   "metadata": {},
   "source": [
    "Функция автокорреляции"
   ]
  },
  {
   "cell_type": "markdown",
   "metadata": {},
   "source": [
    "Задание 1:\n",
    "1. Задать частоту дискретизации и сгенерировать сигнал длиной 1 с, состоящий из двух синусоид частотой 150 и 350 Гц."
   ]
  },
  {
   "cell_type": "code",
   "execution_count": 6,
   "metadata": {},
   "outputs": [],
   "source": [
    "import numpy as np\n",
    "import matplotlib.pyplot as plt"
   ]
  },
  {
   "cell_type": "code",
   "execution_count": null,
   "metadata": {},
   "outputs": [],
   "source": [
    "from IPython.display import Audio"
   ]
  },
  {
   "cell_type": "markdown",
   "metadata": {},
   "source": [
    "2. Вычислить функцию автокорреляции для сигнала и построить график."
   ]
  },
  {
   "cell_type": "code",
   "execution_count": null,
   "metadata": {},
   "outputs": [],
   "source": []
  },
  {
   "cell_type": "markdown",
   "metadata": {},
   "source": [
    "3. Повторить то же самое на разных фрагментах реального речевого сигнала."
   ]
  },
  {
   "cell_type": "code",
   "execution_count": null,
   "metadata": {},
   "outputs": [],
   "source": []
  },
  {
   "cell_type": "markdown",
   "metadata": {},
   "source": [
    "Задание 2:\n",
    "\n",
    "Реализовать упрощённый алгоритм Praat\n",
    "1. Делим сигнал на окна: шаг = 0.01 с (настраивается), длина = 3 / минимальная F0.\n",
    "2. Из каждого окна вычитаем среднее\n",
    "3. Умножаем на оконную функцию (окно Ханна)\n",
    "4. Добавляем ещё 1/2 окна 0\n",
    "5. Добавляем 0 до ближайшей степени двойки\n",
    "6. FFT\n",
    "7. Модуль\n",
    "8. Квадрат\n",
    "9. IFFT\n",
    "10. Модуль\n",
    "11. Пункты 4-10 нужно заранее сделать для самого окна Ханна\n",
    "12. Полученное в п. 10 делим на полученное в п. 11 (поэлементно)\n",
    "13. Ищем максимум\n",
    "14. Положение максимума = период сигнала в данном фрейме (в отсчётах) (если он помещается в заданные рамки; если не помещается, то фрейм глухой)\n",
    "15. ???\n",
    "16. Профит\n",
    "17. Полученное нарисовать на графике"
   ]
  }
 ],
 "metadata": {
  "kernelspec": {
   "display_name": "Python 3",
   "language": "python",
   "name": "python3"
  },
  "language_info": {
   "codemirror_mode": {
    "name": "ipython",
    "version": 3
   },
   "file_extension": ".py",
   "mimetype": "text/x-python",
   "name": "python",
   "nbconvert_exporter": "python",
   "pygments_lexer": "ipython3",
   "version": "3.9.0"
  },
  "orig_nbformat": 4
 },
 "nbformat": 4,
 "nbformat_minor": 2
}
