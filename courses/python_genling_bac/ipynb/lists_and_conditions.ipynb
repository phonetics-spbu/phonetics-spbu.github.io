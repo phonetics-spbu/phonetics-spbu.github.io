{
 "cells": [
  {
   "cell_type": "markdown",
   "metadata": {},
   "source": [
    "### Списки\n",
    "\n",
    "Список &ndash; это упорядоченный набор элементов. Чтобы задать список, нужно перечислить элементы через запятую в квадратных скобках. Если скобки оставить пустыми, то и список будет пустым. Каждый элемент может быть любого типа:"
   ]
  },
  {
   "cell_type": "code",
   "execution_count": 9,
   "metadata": {},
   "outputs": [
    {
     "name": "stdout",
     "output_type": "stream",
     "text": [
      "[1, 'a', 0.5]\n"
     ]
    }
   ],
   "source": [
    "new_list = [1, \"a\", 0.5]\n",
    "print(new_list)"
   ]
  },
  {
   "cell_type": "markdown",
   "metadata": {},
   "source": [
    "Списки можно получать с помощью функции `list()` из других т.н. итерируемых объектов (то есть тех, которые представляют собой последовательности &ndash; пока мы знаем только строки):"
   ]
  },
  {
   "cell_type": "code",
   "execution_count": 2,
   "metadata": {},
   "outputs": [
    {
     "name": "stdout",
     "output_type": "stream",
     "text": [
      "['a', 'b', 'c', 'd', 'e', 'f']\n"
     ]
    }
   ],
   "source": [
    "new_str = \"abcdef\"\n",
    "new_list_2 = list(new_str)\n",
    "print(new_list_2)"
   ]
  },
  {
   "cell_type": "markdown",
   "metadata": {},
   "source": [
    "У списка, как и у строки, есть длина:"
   ]
  },
  {
   "cell_type": "code",
   "execution_count": 11,
   "metadata": {},
   "outputs": [
    {
     "name": "stdout",
     "output_type": "stream",
     "text": [
      "6\n"
     ]
    }
   ],
   "source": [
    "print(len(new_list_2))"
   ]
  },
  {
   "cell_type": "markdown",
   "metadata": {},
   "source": [
    "Можно обратиться к любому элементу списка по его индексу (начинается с **нуля**!). Для этого напишем индекс в квадратных скобках."
   ]
  },
  {
   "cell_type": "code",
   "execution_count": 12,
   "metadata": {},
   "outputs": [
    {
     "name": "stdout",
     "output_type": "stream",
     "text": [
      "a\n"
     ]
    }
   ],
   "source": [
    "print(new_list_2[0])"
   ]
  },
  {
   "cell_type": "markdown",
   "metadata": {},
   "source": [
    "Можно перезаписать элемент по этому индексу:"
   ]
  },
  {
   "cell_type": "code",
   "execution_count": 3,
   "metadata": {},
   "outputs": [
    {
     "name": "stdout",
     "output_type": "stream",
     "text": [
      "['x', 'b', 'c', 'd', 'e', 'f']\n"
     ]
    }
   ],
   "source": [
    "new_list_2[0] = \"x\"\n",
    "print(new_list_2)"
   ]
  },
  {
   "cell_type": "markdown",
   "metadata": {},
   "source": [
    "Если индекс отрицательный, отсчёт начинается с конца. Индекс `-1` &ndash; это последний элемент."
   ]
  },
  {
   "cell_type": "code",
   "execution_count": 13,
   "metadata": {},
   "outputs": [
    {
     "name": "stdout",
     "output_type": "stream",
     "text": [
      "f\n"
     ]
    }
   ],
   "source": [
    "print(new_list_2[-1])"
   ]
  },
  {
   "cell_type": "markdown",
   "metadata": {},
   "source": [
    "Если такого индекса в списке нет, возникнет ошибка."
   ]
  },
  {
   "cell_type": "code",
   "execution_count": 14,
   "metadata": {},
   "outputs": [
    {
     "ename": "IndexError",
     "evalue": "list index out of range",
     "output_type": "error",
     "traceback": [
      "\u001b[1;31m---------------------------------------------------------------------------\u001b[0m",
      "\u001b[1;31mIndexError\u001b[0m                                Traceback (most recent call last)",
      "Cell \u001b[1;32mIn[14], line 1\u001b[0m\n\u001b[1;32m----> 1\u001b[0m \u001b[38;5;28mprint\u001b[39m(\u001b[43mnew_list\u001b[49m\u001b[43m[\u001b[49m\u001b[38;5;241;43m10\u001b[39;49m\u001b[43m]\u001b[49m)  \u001b[38;5;66;03m# <- ошибка IndexErrorǃ\u001b[39;00m\n",
      "\u001b[1;31mIndexError\u001b[0m: list index out of range"
     ]
    }
   ],
   "source": [
    "print(new_list_2[10])  # <- ошибка IndexErrorǃ"
   ]
  },
  {
   "cell_type": "markdown",
   "metadata": {},
   "source": [
    "### Методы списков\n",
    "\n",
    "Зададим пустой список:"
   ]
  },
  {
   "cell_type": "code",
   "execution_count": 15,
   "metadata": {},
   "outputs": [],
   "source": [
    "new_list_3 = []"
   ]
  },
  {
   "cell_type": "markdown",
   "metadata": {},
   "source": [
    "Методы списков вызываются через точку: сначала пишется имя переменной, указывающей на список, потом точка, потом название метода, потом круглые скобки. В круглых скобках напишем через запятую параметры.\n",
    "\n",
    "`.append()` позволяет добавить в конец списка новый элемент."
   ]
  },
  {
   "cell_type": "code",
   "execution_count": 16,
   "metadata": {},
   "outputs": [
    {
     "name": "stdout",
     "output_type": "stream",
     "text": [
      "[1, 2, 3]\n"
     ]
    }
   ],
   "source": [
    "new_list_3.append(1)\n",
    "new_list_3.append(2)\n",
    "new_list_3.append(3)\n",
    "print(new_list_3)"
   ]
  },
  {
   "cell_type": "markdown",
   "metadata": {},
   "source": [
    "`.insert()` позволяет вставить элемет в любую позицию: в скобках сначала напишем индекс места, куда хотим вставить элемент, а потом через запятую &ndash; сам элемент."
   ]
  },
  {
   "cell_type": "code",
   "execution_count": 17,
   "metadata": {},
   "outputs": [
    {
     "name": "stdout",
     "output_type": "stream",
     "text": [
      "[-1, 1, 2, 3]\n"
     ]
    }
   ],
   "source": [
    "new_list_3.insert(0, -1)\n",
    "print(new_list_3)"
   ]
  },
  {
   "cell_type": "markdown",
   "metadata": {},
   "source": [
    "`.remove()` позволяет убрать элемент с заданным значением. Если такого элемента нет, возникнет ошибка."
   ]
  },
  {
   "cell_type": "code",
   "execution_count": 18,
   "metadata": {},
   "outputs": [
    {
     "name": "stdout",
     "output_type": "stream",
     "text": [
      "[-1, 2, 3]\n"
     ]
    }
   ],
   "source": [
    "new_list_3.remove(1) # значение элемента\n",
    "print(new_list_3)"
   ]
  },
  {
   "cell_type": "code",
   "execution_count": 19,
   "metadata": {},
   "outputs": [
    {
     "ename": "ValueError",
     "evalue": "list.remove(x): x not in list",
     "output_type": "error",
     "traceback": [
      "\u001b[1;31m---------------------------------------------------------------------------\u001b[0m",
      "\u001b[1;31mValueError\u001b[0m                                Traceback (most recent call last)",
      "Cell \u001b[1;32mIn[19], line 1\u001b[0m\n\u001b[1;32m----> 1\u001b[0m \u001b[43mnew_list_3\u001b[49m\u001b[38;5;241;43m.\u001b[39;49m\u001b[43mremove\u001b[49m\u001b[43m(\u001b[49m\u001b[38;5;241;43m12345\u001b[39;49m\u001b[43m)\u001b[49m \u001b[38;5;66;03m# <- ошибка ValueError!\u001b[39;00m\n",
      "\u001b[1;31mValueError\u001b[0m: list.remove(x): x not in list"
     ]
    }
   ],
   "source": [
    "new_list_3.remove(12345) # <- ошибка ValueError!"
   ]
  },
  {
   "cell_type": "markdown",
   "metadata": {},
   "source": [
    "`.pop()` позволяет убрать элемент с заданным индексом. Если такого индекса нет, возникнет ошибка."
   ]
  },
  {
   "cell_type": "code",
   "execution_count": 20,
   "metadata": {},
   "outputs": [
    {
     "name": "stdout",
     "output_type": "stream",
     "text": [
      "[2, 3]\n"
     ]
    }
   ],
   "source": [
    "new_list_3.pop(0) # по индексу\n",
    "print(new_list_3)"
   ]
  },
  {
   "cell_type": "code",
   "execution_count": 21,
   "metadata": {},
   "outputs": [
    {
     "ename": "IndexError",
     "evalue": "pop index out of range",
     "output_type": "error",
     "traceback": [
      "\u001b[1;31m---------------------------------------------------------------------------\u001b[0m",
      "\u001b[1;31mIndexError\u001b[0m                                Traceback (most recent call last)",
      "Cell \u001b[1;32mIn[21], line 1\u001b[0m\n\u001b[1;32m----> 1\u001b[0m \u001b[43mnew_list_3\u001b[49m\u001b[38;5;241;43m.\u001b[39;49m\u001b[43mpop\u001b[49m\u001b[43m(\u001b[49m\u001b[38;5;241;43m4\u001b[39;49m\u001b[43m)\u001b[49m \u001b[38;5;66;03m# <- ошибка IndexError!\u001b[39;00m\n",
      "\u001b[1;31mIndexError\u001b[0m: pop index out of range"
     ]
    }
   ],
   "source": [
    "new_list_3.pop(4) # <- ошибка IndexError!"
   ]
  },
  {
   "cell_type": "markdown",
   "metadata": {},
   "source": [
    "### Логические значения\n",
    "\n",
    "У каждого выражения в Python есть своё логическое (Булево) значение: `True` или `False`"
   ]
  },
  {
   "cell_type": "code",
   "execution_count": 22,
   "metadata": {},
   "outputs": [
    {
     "name": "stdout",
     "output_type": "stream",
     "text": [
      "True\n",
      "False\n"
     ]
    }
   ],
   "source": [
    "print(bool(1))\n",
    "print(bool(0))"
   ]
  },
  {
   "cell_type": "markdown",
   "metadata": {},
   "source": [
    "В основном пустые или нулевые объекты &ndash; `False`, другие &ndash; `True`.\n"
   ]
  },
  {
   "cell_type": "code",
   "execution_count": 2,
   "metadata": {},
   "outputs": [
    {
     "name": "stdout",
     "output_type": "stream",
     "text": [
      "False\n",
      "True\n"
     ]
    }
   ],
   "source": [
    "print(bool(\"\"))\n",
    "print(bool(\"hello\"))"
   ]
  },
  {
   "cell_type": "code",
   "execution_count": 4,
   "metadata": {},
   "outputs": [
    {
     "name": "stdout",
     "output_type": "stream",
     "text": [
      "False\n",
      "True\n"
     ]
    }
   ],
   "source": [
    "print(bool([]))\n",
    "print(bool([1, 2]))"
   ]
  },
  {
   "cell_type": "markdown",
   "metadata": {},
   "source": [
    "Что выведет код?"
   ]
  },
  {
   "cell_type": "code",
   "execution_count": null,
   "metadata": {},
   "outputs": [],
   "source": [
    "print(bool([\"\"]))"
   ]
  },
  {
   "cell_type": "markdown",
   "metadata": {},
   "source": [
    "\n",
    "Булевы значения также возвращают операторы сравнения:  \n",
    "`==` равно  \n",
    "`!=` не равно  \n",
    "`>` больше  \n",
    "`<` меньше  \n",
    "`>=` больше или равно  \n",
    "`<=` меньше или равно  "
   ]
  },
  {
   "cell_type": "markdown",
   "metadata": {},
   "source": [
    "### Условный оператор (оператор ветвления):\n",
    "\n",
    "Две ветки: в случае истинности условия (пишется после `if`) и в случае его ложности. Обратите внимание, что весь код внутри ветки пишется с отступом!\n",
    "\n",
    "Каждый отступ должен быть одинаковым и равен четырём пробелам. Большинство IDE сами определяют, где нужен отступ. Размер отступа определяется в настройках. Если вы хотите регулировать отступы вручную, это можно делать с помощью клавиши `Tab`.\n",
    "\n",
    "> NB: в Google Colab ширина отступа по умолчанию равна 2 пробелам. В настройках необходимо установить её равной 4 пробелам, а также включить отображение направляющих отступов.\n",
    "\n",
    "Если вы хотите сдвинуть фрагмент кода на отступ вправо, выделите его и нажмите `Tab`, если влево &mdash; `Shift`+`Tab`.\n",
    "\n",
    "После условия нужно обязательно поставить двоеточие."
   ]
  },
  {
   "cell_type": "code",
   "execution_count": 25,
   "metadata": {},
   "outputs": [
    {
     "name": "stdout",
     "output_type": "stream",
     "text": [
      "Can't divide by zero!\n"
     ]
    }
   ],
   "source": [
    "a = 100\n",
    "b = int(input())\n",
    "if b == 0:\n",
    "    print(\"Can't divide by zero!\")  # выполняется, только если b == 0\n",
    "else:\n",
    "    print(a / b)  # выполняется, только если b != 0"
   ]
  },
  {
   "cell_type": "markdown",
   "metadata": {},
   "source": [
    "Одна ветка:"
   ]
  },
  {
   "cell_type": "code",
   "execution_count": 26,
   "metadata": {},
   "outputs": [
    {
     "name": "stdout",
     "output_type": "stream",
     "text": [
      "finished\n"
     ]
    }
   ],
   "source": [
    "a = 100\n",
    "b = int(input())\n",
    "if b == 0:\n",
    "    print(\"Can't divide by zero!\")  # выполняется, только если b == 0\n",
    "print(\"finished\")  # выполняется в любом случае"
   ]
  },
  {
   "cell_type": "markdown",
   "metadata": {},
   "source": [
    "Больше веток можно задать с помощью `elif`:"
   ]
  },
  {
   "cell_type": "code",
   "execution_count": 27,
   "metadata": {},
   "outputs": [
    {
     "name": "stdout",
     "output_type": "stream",
     "text": [
      "first\n"
     ]
    }
   ],
   "source": [
    "state = 1\n",
    "if state == 1:\n",
    "    print(\"first\")\n",
    "elif state == 2:\n",
    "    print(\"second\")\n",
    "else:\n",
    "    print(\"other\")"
   ]
  },
  {
   "cell_type": "markdown",
   "metadata": {},
   "source": [
    "Посмотрим на блок-схему:"
   ]
  },
  {
   "cell_type": "markdown",
   "metadata": {},
   "source": [
    "<img src=\"https://pkholyavin.github.io/mastersprogramming/if_elif_else_diagram.svg\" width=\"700\">"
   ]
  },
  {
   "cell_type": "markdown",
   "metadata": {},
   "source": [
    "### Логические операции:\n",
    "\n",
    "`and` &ndash; логическое И  \n",
    "`or` &ndash; логическое ИЛИ  \n",
    "`not` &ndash; логическое НЕ\n",
    "\n",
    "Приоритеты логических операций:\n",
    "\n",
    "1. Логическое НЕ\n",
    "2. Логическое И\n",
    "3. Логическое ИЛИ"
   ]
  },
  {
   "cell_type": "markdown",
   "metadata": {},
   "source": [
    "Что выведет код?"
   ]
  },
  {
   "cell_type": "code",
   "execution_count": null,
   "metadata": {},
   "outputs": [],
   "source": [
    "a = False\n",
    "b = False\n",
    "c = True\n",
    "\n",
    "print(a or not b and c)"
   ]
  },
  {
   "cell_type": "code",
   "execution_count": null,
   "metadata": {},
   "outputs": [],
   "source": [
    "X = True\n",
    "Y = False\n",
    "Z = True\n",
    "\n",
    "print(not X and Y or Z)"
   ]
  },
  {
   "cell_type": "code",
   "execution_count": null,
   "metadata": {},
   "outputs": [],
   "source": [
    "D = False\n",
    "E = True\n",
    "F = False\n",
    "\n",
    "print(D and E or F and E)"
   ]
  },
  {
   "cell_type": "code",
   "execution_count": 28,
   "metadata": {},
   "outputs": [
    {
     "name": "stdout",
     "output_type": "stream",
     "text": [
      "both positive\n",
      "at least 1 positive\n"
     ]
    }
   ],
   "source": [
    "a = 5\n",
    "b = 6\n",
    "if a > 0 and b > 0:\n",
    "    print(\"both positive\")\n",
    "if a > 0 or b > 0:\n",
    "    print(\"at least 1 positive\")\n",
    "if not (a > 0 or b > 0):\n",
    "    print(\"both negative\")"
   ]
  },
  {
   "cell_type": "markdown",
   "metadata": {},
   "source": [
    "Если несколько значений соединены оператором `and`, то они будут оцениваться интерпретатором до первого ложного.\n",
    "Если несколько значений соединены оператором `or`, то они будут оцениваться интерпретатором до первого истинного."
   ]
  },
  {
   "cell_type": "code",
   "execution_count": 29,
   "metadata": {},
   "outputs": [
    {
     "name": "stdout",
     "output_type": "stream",
     "text": [
      "no error\n"
     ]
    }
   ],
   "source": [
    "a = 100\n",
    "b = 0\n",
    "if b == 0 or a / b:\n",
    "    print(\"no error\")"
   ]
  },
  {
   "cell_type": "markdown",
   "metadata": {},
   "source": [
    "### Задание на самостоятельное выполнение"
   ]
  },
  {
   "cell_type": "markdown",
   "metadata": {},
   "source": [
    "#### Задание 1\n",
    "\n",
    "Напишите программу, которая принимает на вход координаты точки (x, y) и определяет, в каком месте плоскости она находится: в одной из четвертей, на одной из осей или в начале координат."
   ]
  },
  {
   "cell_type": "markdown",
   "metadata": {},
   "source": [
    "![image](https://phonetics-spbu.github.io/courses/python_genling_bac/images/plane.png)"
   ]
  },
  {
   "cell_type": "markdown",
   "metadata": {},
   "source": [
    "#### Задание 2\n",
    "\n",
    "Напишите программу, которая считывает с клавиатуры целое число от 1 до 12 и выводит на экран название соответствующего месяца. Если число меньше 1 или больше 12, выведите на экран, что такого месяца не существует.\n",
    "\n",
    "Подсказка: создайте список, содержащий названия всех месяцев в строковом представлении. Помните, что индексация списков в Python начинается с 0!"
   ]
  },
  {
   "cell_type": "markdown",
   "metadata": {},
   "source": [
    "#### Задание 3\n",
    "\n",
    "Напишите программу, которая принимает на вход длины трёх сторон треугольника и классифицирует его как равносторонний, равнобедренный или разносторонний."
   ]
  },
  {
   "cell_type": "markdown",
   "metadata": {},
   "source": [
    "### Домашнее задание\n",
    "\n",
    "1. Напишите программу, которая принимает на вход целое число H от 0 до 24, и выводит на экран текст \"Сейчас H часов\". При этом слово \"час\" должно стоять в нужной форме. Если число некорректно, выведите сообщение об ошибке.\n",
    "\n",
    "2. Напишите программу, которая считывает с клавиатуры два целых числа (день и номер месяца) и выводит на экран либо дату на русском языке (например, 29 сентября) либо сообщение об ошибке, если такой даты не существует (например, если пользователь ввёл 31 и 9).\n",
    "\n",
    "Подсказка: создайте список, который содержит количество дней в каждом месяце."
   ]
  }
 ],
 "metadata": {
  "kernelspec": {
   "display_name": "Python 3",
   "language": "python",
   "name": "python3"
  },
  "language_info": {
   "codemirror_mode": {
    "name": "ipython",
    "version": 3
   },
   "file_extension": ".py",
   "mimetype": "text/x-python",
   "name": "python",
   "nbconvert_exporter": "python",
   "pygments_lexer": "ipython3",
   "version": "3.13.2"
  }
 },
 "nbformat": 4,
 "nbformat_minor": 2
}
