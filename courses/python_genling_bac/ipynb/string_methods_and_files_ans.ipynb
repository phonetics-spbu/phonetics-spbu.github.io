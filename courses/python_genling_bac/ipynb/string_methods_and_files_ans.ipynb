{
 "cells": [
  {
   "cell_type": "markdown",
   "id": "fe40efc7",
   "metadata": {},
   "source": [
    "#### Задание 1\n",
    "\n",
    "а) Дан список слов. Создайте новый список, где все буквы \"а\" будут заменены на \"ы\"."
   ]
  },
  {
   "cell_type": "code",
   "execution_count": null,
   "id": "1776df5c",
   "metadata": {},
   "outputs": [
    {
     "name": "stdout",
     "output_type": "stream",
     "text": [
      "['ыбрикос', 'ырбы', 'ылтын', 'ыбык', 'ыббытство', 'ыркын']\n"
     ]
    }
   ],
   "source": [
    "words = [\"абрикос\", \"арба\", \"алтын\", \"абак\", \"аббатство\", \"аркан\"]\n",
    "y_words = [w.replace(\"а\", \"ы\") for w in words]\n",
    "print(y_words)"
   ]
  },
  {
   "cell_type": "markdown",
   "id": "f5f26d9d",
   "metadata": {},
   "source": [
    "\n",
    "б) Дан текст. Сделайте так, чтобы после каждой точки был перевод строки."
   ]
  },
  {
   "cell_type": "code",
   "execution_count": null,
   "id": "99fca1a8",
   "metadata": {},
   "outputs": [
    {
     "name": "stdout",
     "output_type": "stream",
     "text": [
      "Text text.\n",
      "Text text text.\n",
      "Text.\n",
      "Text text text\n"
     ]
    }
   ],
   "source": [
    "text = \"Text text.Text text text.Text.Text text text\"\n",
    "print(text.replace(\".\", \".\\n\"))"
   ]
  },
  {
   "cell_type": "markdown",
   "id": "26dde28e",
   "metadata": {},
   "source": [
    "#### Задание 2\n",
    "\n",
    "Откройте файл *test.txt* и прочитайте из него текст. Уберите из него запятые и точки с помощью `.replace()`, приведите к нижнему регистру и создайте список всех слов, которые начинаются на букву \"т\". Выведите на экран все эти слова через нижнее подчёркнивание."
   ]
  },
  {
   "cell_type": "code",
   "execution_count": null,
   "id": "1b838644",
   "metadata": {},
   "outputs": [],
   "source": [
    "!wget https://phonetics-spbu.github.io/courses/python_genling_bac/files/test.txt"
   ]
  },
  {
   "cell_type": "code",
   "execution_count": null,
   "id": "c73dc66e",
   "metadata": {},
   "outputs": [
    {
     "name": "stdout",
     "output_type": "stream",
     "text": [
      "тихий_тёплый_тучами\n"
     ]
    }
   ],
   "source": [
    "with open(\"test.txt\", \"r\") as f:\n",
    "    text = f.read()\n",
    "\n",
    "text = text.lower()\n",
    "text = text.replace(\".\", \"\")\n",
    "text = text.replace(\",\", \"\")\n",
    "words = text.split()\n",
    "t_words = [w for w in words if w.startswith(\"т\")]\n",
    "print(\"_\".join(t_words))"
   ]
  }
 ],
 "metadata": {
  "kernelspec": {
   "display_name": "Python 3",
   "language": "python",
   "name": "python3"
  },
  "language_info": {
   "codemirror_mode": {
    "name": "ipython",
    "version": 3
   },
   "file_extension": ".py",
   "mimetype": "text/x-python",
   "name": "python",
   "nbconvert_exporter": "python",
   "pygments_lexer": "ipython3",
   "version": "3.13.2"
  }
 },
 "nbformat": 4,
 "nbformat_minor": 5
}
