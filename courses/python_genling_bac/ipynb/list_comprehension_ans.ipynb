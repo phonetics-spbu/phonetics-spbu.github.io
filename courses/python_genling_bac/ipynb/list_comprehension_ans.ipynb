{
 "cells": [
  {
   "cell_type": "markdown",
   "id": "8b1f9004",
   "metadata": {},
   "source": [
    "#### Задание 1\n",
    "\n",
    "Дан список слов. Создать новый список, где каждым элементом будет длина слова из первого списка.\n",
    "\n",
    "а) С помощью цикла `for`"
   ]
  },
  {
   "cell_type": "code",
   "execution_count": 2,
   "id": "ed6ba4b8",
   "metadata": {},
   "outputs": [
    {
     "name": "stdout",
     "output_type": "stream",
     "text": [
      "[5, 6, 6, 4, 9]\n"
     ]
    }
   ],
   "source": [
    "words = [\"apple\", \"banana\", \"orange\", \"pear\", \"pineapple\"]\n",
    "\n",
    "word_lengths = []\n",
    "for wrd in words:\n",
    "    word_lengths.append(len(wrd))\n",
    "print(word_lengths)"
   ]
  },
  {
   "cell_type": "markdown",
   "id": "ba45efa6",
   "metadata": {},
   "source": [
    "б) с помощью list comprehension"
   ]
  },
  {
   "cell_type": "code",
   "execution_count": null,
   "id": "cab6705e",
   "metadata": {},
   "outputs": [],
   "source": [
    "words = [\"apple\", \"banana\", \"orange\", \"pear\", \"pineapple\"]\n",
    "\n",
    "word_lengths = [len(wrd) for wrd in words]\n",
    "print(word_lengths)"
   ]
  },
  {
   "cell_type": "markdown",
   "id": "2988e6fb",
   "metadata": {},
   "source": [
    "#### Задание 2\n",
    "\n",
    "Дана переменная, содержащая фамилию, и список, содержащий имена. Создать новый список, где каждым элементом будет полное имя (имя и фамилия)."
   ]
  },
  {
   "cell_type": "code",
   "execution_count": 4,
   "id": "84805653",
   "metadata": {},
   "outputs": [
    {
     "name": "stdout",
     "output_type": "stream",
     "text": [
      "['John Smith', 'Mary Smith', 'Peter Smith', 'Aerith Smith', 'Bob Smith']\n"
     ]
    }
   ],
   "source": [
    "lastname = \"Smith\"\n",
    "firstnames = [\"John\", \"Mary\", \"Peter\", \"Aerith\", \"Bob\"]\n",
    "# не забудем поставить между фамилией и именем пробел\n",
    "\n",
    "fullnames = [name + \" \" + lastname for name in firstnames]\n",
    "print(fullnames)"
   ]
  },
  {
   "cell_type": "markdown",
   "id": "5cf5678b",
   "metadata": {},
   "source": [
    "#### Задание 3\n",
    "\n",
    "Из списка полных имён создать новый, в котором будут только те, длина которых не превышает 10 символов."
   ]
  },
  {
   "cell_type": "code",
   "execution_count": 5,
   "id": "f479523d",
   "metadata": {},
   "outputs": [
    {
     "name": "stdout",
     "output_type": "stream",
     "text": [
      "['John Smith', 'Mary Smith', 'Bob Smith']\n"
     ]
    }
   ],
   "source": [
    "shortnames = [name for name in fullnames if len(name) <= 10]\n",
    "print(shortnames)"
   ]
  },
  {
   "cell_type": "markdown",
   "id": "f8c41e50",
   "metadata": {},
   "source": [
    "#### Задание 4\n",
    "\n",
    "Дана последовательность букв. Создайте новую строку, в которой будет каждая четвёртая буква из старой, начиная с четвёртой."
   ]
  },
  {
   "cell_type": "code",
   "execution_count": 6,
   "id": "38b58518",
   "metadata": {},
   "outputs": [
    {
     "name": "stdout",
     "output_type": "stream",
     "text": [
      "helloworld\n"
     ]
    }
   ],
   "source": [
    "text = \"lorhmipeumdllorlitaoetcwnseotetrradlpisding\"\n",
    "\n",
    "newtext = text[3::4]\n",
    "print(newtext)"
   ]
  },
  {
   "cell_type": "markdown",
   "id": "17729345",
   "metadata": {},
   "source": [
    "#### Задание 5\n",
    "\n",
    "Дан список строк. Постройте новый список, в котором будут все те же строки, но написанные задом наперёд."
   ]
  },
  {
   "cell_type": "code",
   "execution_count": 8,
   "id": "c6a07b5d",
   "metadata": {},
   "outputs": [
    {
     "name": "stdout",
     "output_type": "stream",
     "text": [
      "['variable', 'iteration', 'list', 'python']\n"
     ]
    }
   ],
   "source": [
    "words = [\"elbairav\", \"noitareti\", \"tsil\", \"nohtyp\"]\n",
    "backwards_words = [wrd[::-1] for wrd in words]\n",
    "print(backwards_words)"
   ]
  },
  {
   "cell_type": "markdown",
   "id": "d68a9a82",
   "metadata": {},
   "source": [
    "#### Задание 6\n",
    "\n",
    "Дан список слов. Из-за плохого алгоритма OCR в конце каждого слова стоит по одному лишнему символу. Создайте новый список, где будут все слова без последнего символа."
   ]
  },
  {
   "cell_type": "code",
   "execution_count": 11,
   "id": "cacd9f4f",
   "metadata": {},
   "outputs": [
    {
     "name": "stdout",
     "output_type": "stream",
     "text": [
      "['computer', 'language', 'variable', 'phonetics', 'classroom', 'grammar', 'syntax', 'semantics']\n"
     ]
    }
   ],
   "source": [
    "words = [\"computer%\", \"language#\", \"variable!\", \"phonetics*\", \"classroom$\", \"grammar^\", \"syntax<\", \"semantics?\"]\n",
    "\n",
    "clean_words = [wrd[:-1] for wrd in words]\n",
    "print(clean_words)"
   ]
  },
  {
   "cell_type": "markdown",
   "id": "c4e3a3ec",
   "metadata": {},
   "source": [
    "#### Задание 7\n",
    "\n",
    "Напишите программу, которая принимает на вход целое число N и выводит список всех чисел от 1 до N включительно, поделённых на 2, если они делятся на 2, и умноженных на 2 в противном случае. Используйте list comprehension.\n",
    "\n",
    "Например:\n",
    "\n",
    "```\n",
    "Введите число: 13\n",
    "```\n",
    "```\n",
    "[2, 1, 6, 2, 10, 3, 14, 4, 18, 5, 22, 6, 26]\n",
    "```"
   ]
  },
  {
   "cell_type": "code",
   "execution_count": 12,
   "id": "ec8b9987",
   "metadata": {},
   "outputs": [
    {
     "name": "stdout",
     "output_type": "stream",
     "text": [
      "[2, 1, 6, 2, 10, 3, 14, 4, 18, 5, 22, 6, 26]\n"
     ]
    }
   ],
   "source": [
    "N = int(input(\"Введите число: \"))\n",
    "print([i // 2 if i % 2 == 0 else i * 2 for i in range(1, N + 1)])"
   ]
  },
  {
   "cell_type": "markdown",
   "id": "52afb132",
   "metadata": {},
   "source": [
    "#### Задание 8\n",
    "\n",
    "Модифицируйте программу так, чтобы числа, делящиеся на 5, пропускались. Например:\n",
    "\n",
    "```\n",
    "Введите число: 13\n",
    "```\n",
    "```\n",
    "[2, 1, 6, 2, 3, 14, 4, 18, 22, 6, 26]\n",
    "```"
   ]
  },
  {
   "cell_type": "code",
   "execution_count": 13,
   "id": "408b5386",
   "metadata": {},
   "outputs": [
    {
     "name": "stdout",
     "output_type": "stream",
     "text": [
      "[2, 1, 6, 2, 3, 14, 4, 18, 22, 6, 26]\n"
     ]
    }
   ],
   "source": [
    "N = int(input(\"Введите число: \"))\n",
    "print([i // 2 if i % 2 == 0 else i * 2 for i in range(1, N + 1) if i % 5 != 0])"
   ]
  }
 ],
 "metadata": {
  "kernelspec": {
   "display_name": "Python 3",
   "language": "python",
   "name": "python3"
  },
  "language_info": {
   "codemirror_mode": {
    "name": "ipython",
    "version": 3
   },
   "file_extension": ".py",
   "mimetype": "text/x-python",
   "name": "python",
   "nbconvert_exporter": "python",
   "pygments_lexer": "ipython3",
   "version": "3.13.2"
  }
 },
 "nbformat": 4,
 "nbformat_minor": 5
}
