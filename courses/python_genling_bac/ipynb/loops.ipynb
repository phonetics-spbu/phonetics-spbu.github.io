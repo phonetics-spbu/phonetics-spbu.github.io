{
 "cells": [
  {
   "cell_type": "markdown",
   "metadata": {},
   "source": [
    "### Циклы"
   ]
  },
  {
   "cell_type": "markdown",
   "metadata": {},
   "source": [
    "Циклы позволяют одному и тому же отрывку кода повторяться несколько раз. Если вы обнаружили, что повторяете уже написанный выше код, задумайтесь: а нельзя ли использовать цикл?"
   ]
  },
  {
   "cell_type": "markdown",
   "metadata": {},
   "source": [
    "#### Цикл `for`"
   ]
  },
  {
   "cell_type": "markdown",
   "metadata": {},
   "source": [
    "Цикл `for` (цикл по коллекции, цикл просмотра) позволяет перебрать по очереди все элементы в последовательности (списке или строке). Всё то, что находится после `for` и написано с отступом (не забывайте про отступы!), будет выполняться один раз для каждого элемента последовательности. Один шаг цикла называется **итерацией**.\n",
    "\n",
    "*Примечание: в других языках такие циклы называются* `foreach`.\n",
    "\n",
    "После первой строчки цикла (перед началом отступов) обязательно двоеточие."
   ]
  },
  {
   "cell_type": "markdown",
   "metadata": {},
   "source": [
    "Дан список целых чисел. Переберём все числа и выведем квадрат каждого."
   ]
  },
  {
   "cell_type": "code",
   "execution_count": 3,
   "metadata": {},
   "outputs": [
    {
     "name": "stdout",
     "output_type": "stream",
     "text": [
      "36\n",
      "25\n",
      "16\n",
      "9\n",
      "4\n",
      "1\n",
      "done\n"
     ]
    }
   ],
   "source": [
    "numbers = [6, 5, 4, 3, 2, 1]\n",
    "for num in numbers:\n",
    "    print(num ** 2)\n",
    "    num = 10  # эта строчка ни на что не влияет! На следующей итерации num будет следующим по порядку элементом списка numbers\n",
    "print(\"done\")"
   ]
  },
  {
   "cell_type": "markdown",
   "metadata": {},
   "source": [
    "Дана строка. Напечатаем отдельно каждый символ этой строки:"
   ]
  },
  {
   "cell_type": "code",
   "execution_count": 26,
   "metadata": {},
   "outputs": [
    {
     "name": "stdout",
     "output_type": "stream",
     "text": [
      "a\n",
      "b\n",
      "c\n",
      "d\n",
      "e\n",
      "f\n"
     ]
    }
   ],
   "source": [
    "letters = \"abcdef\"\n",
    "for let in letters:\n",
    "    print(let)"
   ]
  },
  {
   "cell_type": "markdown",
   "metadata": {},
   "source": [
    "И `list`, и `str` относятся к итерируемым объектам (*iterable*): по ним можно итерировать, то есть ходить циклом."
   ]
  },
  {
   "cell_type": "markdown",
   "metadata": {},
   "source": [
    "#### `range()` vs `enumerate()`"
   ]
  },
  {
   "cell_type": "markdown",
   "metadata": {},
   "source": [
    "Функция `range()` генерирует последовательность целых чисел.\n",
    "\n",
    "Выведем все целые числа от 0 до 5 (не включая!)"
   ]
  },
  {
   "cell_type": "code",
   "execution_count": null,
   "metadata": {},
   "outputs": [
    {
     "name": "stdout",
     "output_type": "stream",
     "text": [
      "0\n",
      "1\n",
      "2\n",
      "3\n",
      "4\n"
     ]
    }
   ],
   "source": [
    "for i in range(5):  # передали конец\n",
    "    print(i)"
   ]
  },
  {
   "cell_type": "markdown",
   "metadata": {},
   "source": [
    "Выведем все целые числа от 2 до 10 (не включая!)"
   ]
  },
  {
   "cell_type": "code",
   "execution_count": null,
   "metadata": {},
   "outputs": [
    {
     "name": "stdout",
     "output_type": "stream",
     "text": [
      "2\n",
      "3\n",
      "4\n",
      "5\n",
      "6\n",
      "7\n",
      "8\n",
      "9\n"
     ]
    }
   ],
   "source": [
    "for i in range(2, 10):  # передали начало и конец\n",
    "    print(i)"
   ]
  },
  {
   "cell_type": "markdown",
   "metadata": {},
   "source": [
    "Выведем каждое третье число от 2 до 12 (не включая!)"
   ]
  },
  {
   "cell_type": "code",
   "execution_count": 3,
   "metadata": {},
   "outputs": [
    {
     "name": "stdout",
     "output_type": "stream",
     "text": [
      "2\n",
      "5\n",
      "8\n",
      "11\n"
     ]
    }
   ],
   "source": [
    "for i in range(2, 12, 3):  # передали начало, конец и шаг\n",
    "    print(i)"
   ]
  },
  {
   "cell_type": "markdown",
   "metadata": {},
   "source": [
    "Выведем все числа от 12 до 2 (не включая!) в обратном порядке:"
   ]
  },
  {
   "cell_type": "code",
   "execution_count": 2,
   "metadata": {},
   "outputs": [
    {
     "name": "stdout",
     "output_type": "stream",
     "text": [
      "12\n",
      "11\n",
      "10\n",
      "9\n",
      "8\n",
      "7\n",
      "6\n",
      "5\n",
      "4\n",
      "3\n"
     ]
    }
   ],
   "source": [
    "for i in range(12, 2, -1):\n",
    "    print(i)"
   ]
  },
  {
   "cell_type": "markdown",
   "metadata": {},
   "source": [
    "Если в функцию `range()` передать длину списка, она сгенерирует последовательность индексов этого списка.\n",
    "\n",
    "Если в списке `N` элементов, то его индексы &ndash; `0, 1, 2, ..., N - 2, N - 1`.\n",
    "\n",
    "Теперь мы можем перебрать все **индексы** списка и обратиться через них к элементам этого списка."
   ]
  },
  {
   "cell_type": "code",
   "execution_count": null,
   "metadata": {},
   "outputs": [
    {
     "name": "stdout",
     "output_type": "stream",
     "text": [
      "0 36\n",
      "1 25\n",
      "2 16\n",
      "3 9\n",
      "4 4\n",
      "5 1\n"
     ]
    }
   ],
   "source": [
    "numbers = [6, 5, 4, 3, 2, 1]\n",
    "for i in range(len(numbers)):\n",
    "    print(i, numbers[i] ** 2)\n",
    "    # печатаем индекс и квадрат элемента по этому индексу"
   ]
  },
  {
   "cell_type": "markdown",
   "metadata": {},
   "source": [
    "Чуть более удобно использовать функцию `enumerate()`. Если передать в неё список (или строку), она сгенерирует последовательность парочек (индекс, значение). Чтобы они записались у нас в разные переменные, перечислим обе через запятую."
   ]
  },
  {
   "cell_type": "code",
   "execution_count": null,
   "metadata": {},
   "outputs": [
    {
     "name": "stdout",
     "output_type": "stream",
     "text": [
      "0 36\n",
      "1 25\n",
      "2 16\n",
      "3 9\n",
      "4 4\n",
      "5 1\n"
     ]
    }
   ],
   "source": [
    "numbers = [6, 5, 4, 3, 2, 1]\n",
    "for i, num in enumerate(numbers):\n",
    "    print(i, num ** 2)\n",
    "    # печатаем индекс и квадрат элемента по этому индексу"
   ]
  },
  {
   "cell_type": "markdown",
   "metadata": {},
   "source": [
    "Это может пригодиться, если нам на каждом шаге нужно смотреть не только на текущий элемент, но и на его соседей. В этом случае нужно не забыть проверить, что соседние индексы существуют (иначе на первом и последнем индексах могут возникнуть ошибки!)"
   ]
  },
  {
   "cell_type": "code",
   "execution_count": null,
   "metadata": {},
   "outputs": [
    {
     "name": "stdout",
     "output_type": "stream",
     "text": [
      "0 36\n",
      "1 25\n",
      "2 16\n",
      "wow\n",
      "3 9\n",
      "4 4\n",
      "5 1\n"
     ]
    }
   ],
   "source": [
    "numbers = [6, 5, 4, 3, 2, 1]\n",
    "for i, num in enumerate(numbers):\n",
    "    print(i, num ** 2)\n",
    "    if i < len(numbers) - 1 and numbers[i + 1] == 3:\n",
    "        # если i + 1 не вылезает за пределы списка И элемент по индексу i + 1 равен 3\n",
    "        print(\"wow\")"
   ]
  },
  {
   "cell_type": "markdown",
   "metadata": {},
   "source": [
    "#### `zip()`"
   ]
  },
  {
   "cell_type": "markdown",
   "metadata": {},
   "source": [
    "Эта функция позволяет итерировать сразу по нескольким спискам. Например:"
   ]
  },
  {
   "cell_type": "code",
   "execution_count": 1,
   "metadata": {},
   "outputs": [
    {
     "name": "stdout",
     "output_type": "stream",
     "text": [
      "John Smith 5\n",
      "Jack Jones 4\n",
      "Jill Banks 5\n"
     ]
    }
   ],
   "source": [
    "names_list = [\"John\", \"Jack\", \"Jill\"]\n",
    "last_names_list = [\"Smith\", \"Jones\", \"Banks\"]\n",
    "grades_list = [5, 4, 5]\n",
    "for name, last_name, grade in zip(names_list, last_names_list, grades_list):\n",
    "    print(name, last_name, grade)"
   ]
  },
  {
   "cell_type": "markdown",
   "metadata": {},
   "source": [
    "Или:"
   ]
  },
  {
   "cell_type": "code",
   "execution_count": 35,
   "metadata": {},
   "outputs": [
    {
     "name": "stdout",
     "output_type": "stream",
     "text": [
      "('John', 5)\n",
      "('Jack', 4)\n",
      "('Jill', 5)\n"
     ]
    }
   ],
   "source": [
    "names_list = [\"John\", \"Jack\", \"Jill\"]\n",
    "grades_list = [5, 4, 5]\n",
    "for item in zip(names_list, grades_list):\n",
    "    print(item)"
   ]
  },
  {
   "cell_type": "markdown",
   "metadata": {},
   "source": [
    "Если списки неравной длины, то цикл закончится, когда закончится более короткий список:"
   ]
  },
  {
   "cell_type": "code",
   "execution_count": null,
   "metadata": {},
   "outputs": [],
   "source": [
    "list_a = [1, 2, 3, 4, 5, 6, 7, 8]\n",
    "list_b = [5, 6, 7, 8, 9]\n",
    "for i, j in zip(list_a, list_b):\n",
    "    print(i, j)"
   ]
  },
  {
   "cell_type": "markdown",
   "metadata": {},
   "source": [
    "#### Цикл `while`\n",
    "\n",
    "Цикл `while`, или цикл с предусловием, будет выполняться до тех пор, пока выполняется условие в его шапке. После условия обязательно двоеточие."
   ]
  },
  {
   "cell_type": "code",
   "execution_count": 36,
   "metadata": {},
   "outputs": [
    {
     "name": "stdout",
     "output_type": "stream",
     "text": [
      "9\n",
      "8\n",
      "7\n",
      "6\n",
      "5\n",
      "4\n",
      "3\n",
      "2\n",
      "1\n",
      "0\n"
     ]
    }
   ],
   "source": [
    "num = 10\n",
    "while num > 0:\n",
    "    num -= 1\n",
    "    print(num)"
   ]
  },
  {
   "cell_type": "markdown",
   "metadata": {},
   "source": [
    "С помощью `while` легко случайно создать бесконечный цикл. Например:"
   ]
  },
  {
   "cell_type": "code",
   "execution_count": null,
   "metadata": {},
   "outputs": [],
   "source": [
    "num = 10\n",
    "while num > 0:\n",
    "    num += 1  # num всегда увеличивается и никогда не будет равно 0!\n",
    "    print(num)"
   ]
  },
  {
   "cell_type": "markdown",
   "metadata": {},
   "source": [
    "### Управление циклами"
   ]
  },
  {
   "cell_type": "markdown",
   "metadata": {},
   "source": [
    "#### ```break``` / ```else```\n",
    "\n",
    "`break` позволяет досрочно завершить цикл. Внутри цикла мы можем проверять, выполняется ли какое-то условие, и, если оно выполняется, завершить цикл. Например: дан список целых чисел. Переберём все числа по очереди и проверим, есть ли среди них тройки. Если есть, то цикл можно заканчивать, не доходя до конца.\n",
    "\n",
    "`else` будет выполняться, если цикл завершился штатно, без досрочного выхода."
   ]
  },
  {
   "cell_type": "code",
   "execution_count": null,
   "metadata": {},
   "outputs": [],
   "source": [
    "x = [1, 2, 3, 4, 5]\n",
    "for i in x:\n",
    "    if i == 3:\n",
    "        print(\"found three\")\n",
    "        break\n",
    "else:\n",
    "    print(\"no threes detected\")"
   ]
  },
  {
   "cell_type": "code",
   "execution_count": null,
   "metadata": {},
   "outputs": [],
   "source": [
    "x = [1, 2, 8, 4, 5]\n",
    "for i in x:\n",
    "    if i == 3:\n",
    "        print(\"found three\")\n",
    "        break\n",
    "else:\n",
    "    print(\"no threes detected\")"
   ]
  },
  {
   "cell_type": "markdown",
   "metadata": {},
   "source": [
    "Пример: можем задать бесконечный цикл (`while True`) и внутри него проверять, не выполняется ли какое-то условие."
   ]
  },
  {
   "cell_type": "code",
   "execution_count": null,
   "metadata": {},
   "outputs": [],
   "source": [
    "a = 20\n",
    "while True:\n",
    "    if a % 2 != 0:  # if a % 2:\n",
    "        break\n",
    "    a //= 2\n",
    "print(a)"
   ]
  },
  {
   "cell_type": "markdown",
   "metadata": {},
   "source": [
    "Эквивалентный код:"
   ]
  },
  {
   "cell_type": "code",
   "execution_count": null,
   "metadata": {},
   "outputs": [],
   "source": [
    "a = 20\n",
    "while a % 2 == 0:\n",
    "    a //= 2\n",
    "print(a)"
   ]
  },
  {
   "cell_type": "markdown",
   "metadata": {},
   "source": [
    "#### `continue`\n",
    "\n",
    "Оператор `continue` позволяет завершить текущий шаг (итерацию цикла) и сразу перейти к следующему, не отрабатывая этот до конца. Например: дан список целых чисел. Выведем на экран квадраты всех, кроме тех, которые равны трём."
   ]
  },
  {
   "cell_type": "code",
   "execution_count": null,
   "metadata": {},
   "outputs": [],
   "source": [
    "x = [1, 2, 3, 4, 5]\n",
    "for i in x:\n",
    "    if i == 3: # guard clause\n",
    "        print(\"threes are weird\")\n",
    "        continue\n",
    "    print(\"square\", i ** 2)"
   ]
  },
  {
   "cell_type": "markdown",
   "metadata": {},
   "source": [
    "### Задания для самостоятельного выполнения"
   ]
  },
  {
   "cell_type": "markdown",
   "metadata": {},
   "source": [
    "#### Задание 1\n",
    "\n",
    "a. Найдите и выведите на экран все степени числа 3, не превосходящие 1000.  \n",
    "b. Измените код так, чтобы выводилась только максимальная степень 3, не превосходящая 1000."
   ]
  },
  {
   "cell_type": "code",
   "execution_count": null,
   "metadata": {},
   "outputs": [],
   "source": []
  },
  {
   "cell_type": "markdown",
   "metadata": {},
   "source": [
    "#### Задание 2\n",
    "\n",
    "Пусть пользователь вводит с клавиатуры строку. С помощью цикла `for` переберите все символы в этой строке и определите, совпадает ли количество открывающих и закрывающих скобок. Выведите на экран одно из трёх сообщений: открывающих больше, закрывающих больше или их количество равно.\n",
    "\n",
    "Подсказка: используйте специальную переменную-счётчик (если не получается придумать, как использовать одну, можно использовать две)"
   ]
  },
  {
   "cell_type": "code",
   "execution_count": null,
   "metadata": {},
   "outputs": [],
   "source": []
  },
  {
   "cell_type": "markdown",
   "metadata": {},
   "source": [
    "#### Задание 3\n",
    "\n",
    "Напишите программу, которая принимает на вход произвольное количество чисел и вычисляет их среднее значение. При этом отрицательные числа нужно пропускать.\n",
    "\n",
    "* используйте бесконечный цикл\n",
    "* чтобы остановить ввод чисел, пусть пользователь введёт слово `\"stop\"`\n",
    "* в этом случае вы должны остановить цикл с помощью оператора `break`\n",
    "* если не было введено ни одного неотрицательного числа, выведите сообщение об этом\n",
    "* иначе выведите среднее"
   ]
  },
  {
   "cell_type": "code",
   "execution_count": null,
   "metadata": {},
   "outputs": [],
   "source": []
  },
  {
   "cell_type": "markdown",
   "metadata": {},
   "source": [
    "#### Задание 4\n",
    "\n",
    "Вывести на экран все числа от 1 до 100. Если число делится на 3, вместо него написать Fizz. Если число делится на 5, вместо него написать Buzz. Если число делится и на 3, и на 5, вместо него написать FizzBuzz. \n",
    "\n",
    "`a % 3 == 0` -> Fizz  \n",
    "`a % 5 == 0` -> Buzz  \n",
    "`a % 3 == 0 and a % 5 == 0` -> FizzBuzz  "
   ]
  },
  {
   "cell_type": "code",
   "execution_count": null,
   "metadata": {},
   "outputs": [],
   "source": []
  },
  {
   "cell_type": "markdown",
   "metadata": {},
   "source": [
    "### Домашнее задание\n",
    "\n",
    "#### Задание 1\n",
    "\n",
    "Напишите программу, которая принимает на вход целое число N. Она должна перебрать все числа от 1 до N и для каждого вычислить и вывести на экран следующее:\n",
    "\n",
    "* само число\n",
    "* сумму его цифр\n",
    "* сумму его делителей"
   ]
  },
  {
   "cell_type": "markdown",
   "metadata": {},
   "source": [
    "#### Задание 2: Расстояние Хэмминга\n",
    "\n",
    "Напишите программу, которая принимает на вход две строки. Если строки неравной длины, нужно вывести ошибку. Если они равной длины, нужно вывести количество позиций, на которых стоят разные символы. Например: у слов \"стол\" и \"стул\" разные символы стоят только на третьей позиции."
   ]
  }
 ],
 "metadata": {
  "kernelspec": {
   "display_name": "Python 3",
   "language": "python",
   "name": "python3"
  },
  "language_info": {
   "codemirror_mode": {
    "name": "ipython",
    "version": 3
   },
   "file_extension": ".py",
   "mimetype": "text/x-python",
   "name": "python",
   "nbconvert_exporter": "python",
   "pygments_lexer": "ipython3",
   "version": "3.13.2"
  }
 },
 "nbformat": 4,
 "nbformat_minor": 2
}
