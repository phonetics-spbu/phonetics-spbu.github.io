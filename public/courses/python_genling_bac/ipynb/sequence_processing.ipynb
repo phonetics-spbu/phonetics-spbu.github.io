{
 "cells": [
  {
   "cell_type": "markdown",
   "metadata": {},
   "source": [
    "### Дальнейшие средства для работы с последовательностями (списками и строками)"
   ]
  },
  {
   "cell_type": "markdown",
   "metadata": {},
   "source": [
    "Вспомним, как работает оператор вхождения:"
   ]
  },
  {
   "cell_type": "code",
   "execution_count": null,
   "metadata": {},
   "outputs": [
    {
     "name": "stdout",
     "output_type": "stream",
     "text": [
      "True\n",
      "False\n"
     ]
    }
   ],
   "source": [
    "x = [1, 2, 4, 5]\n",
    "print(2 in x)\n",
    "print(3 in x)"
   ]
  },
  {
   "cell_type": "markdown",
   "metadata": {},
   "source": [
    "#### Контрольный вопрос\n",
    "\n",
    "Даны два списка целых чисел. Пройдите циклом по второму списку и, если числа нет в первом, добавьте его туда."
   ]
  },
  {
   "cell_type": "code",
   "execution_count": 1,
   "metadata": {},
   "outputs": [],
   "source": [
    "nums1 = [1, 5, 15, 3, 7, 21]\n",
    "nums2 = [6, 2, 3, 1, 16, 15, 44]\n"
   ]
  },
  {
   "cell_type": "markdown",
   "metadata": {},
   "source": [
    "<details>\n",
    "<summary>Ответ:</summary>\n",
    "<pre>\n",
    "for num in nums2:\n",
    "    if num not in nums1:\n",
    "        nums1.append(num)\n",
    "print(nums1)\n",
    "</pre>\n",
    "</details>"
   ]
  },
  {
   "cell_type": "markdown",
   "metadata": {},
   "source": [
    "То же самое можно делать и со строками, но здесь ещё можно проводить проверку на вхождение подстроки:"
   ]
  },
  {
   "cell_type": "code",
   "execution_count": null,
   "metadata": {},
   "outputs": [
    {
     "name": "stdout",
     "output_type": "stream",
     "text": [
      "True\n",
      "False\n"
     ]
    }
   ],
   "source": [
    "text = \"Hello world!\"\n",
    "print(\"or\" in text)\n",
    "print(\"ol\" in text)"
   ]
  },
  {
   "cell_type": "markdown",
   "metadata": {},
   "source": [
    "Мы знаем, что для определения длины списка или строки есть встроенная функция `len()`. Какие ещё есть функции?"
   ]
  },
  {
   "cell_type": "code",
   "execution_count": null,
   "metadata": {},
   "outputs": [
    {
     "name": "stdout",
     "output_type": "stream",
     "text": [
      "5.5\n",
      "1\n",
      "0.1\n"
     ]
    }
   ],
   "source": [
    "a = [0.1, 0.2, 0.3, 0.4, 0.5, 0.6, 0.7, 0.8, 0.9, 1]\n",
    "print(sum(a))  # сумма - только для чисел!\n",
    "print(max(a))\n",
    "print(min(a))  # максимум - все элементы должны быть сравнимы!"
   ]
  },
  {
   "cell_type": "code",
   "execution_count": 3,
   "metadata": {},
   "outputs": [
    {
     "ename": "TypeError",
     "evalue": "unsupported operand type(s) for +: 'int' and 'str'",
     "output_type": "error",
     "traceback": [
      "\u001b[31m---------------------------------------------------------------------------\u001b[39m",
      "\u001b[31mTypeError\u001b[39m                                 Traceback (most recent call last)",
      "\u001b[36mCell\u001b[39m\u001b[36m \u001b[39m\u001b[32mIn[3]\u001b[39m\u001b[32m, line 2\u001b[39m\n\u001b[32m      1\u001b[39m b = [\u001b[33m\"\u001b[39m\u001b[33mword3\u001b[39m\u001b[33m\"\u001b[39m, \u001b[33m\"\u001b[39m\u001b[33mword1\u001b[39m\u001b[33m\"\u001b[39m, \u001b[33m\"\u001b[39m\u001b[33mword2\u001b[39m\u001b[33m\"\u001b[39m]\n\u001b[32m----> \u001b[39m\u001b[32m2\u001b[39m \u001b[38;5;28mprint\u001b[39m(\u001b[38;5;28;43msum\u001b[39;49m\u001b[43m(\u001b[49m\u001b[43mb\u001b[49m\u001b[43m)\u001b[49m)  \u001b[38;5;66;03m# <-- ошибка!\u001b[39;00m\n",
      "\u001b[31mTypeError\u001b[39m: unsupported operand type(s) for +: 'int' and 'str'"
     ]
    }
   ],
   "source": [
    "b = [\"word3\", \"word1\", \"word2\"]\n",
    "print(sum(b))  # <-- ошибка!"
   ]
  },
  {
   "cell_type": "code",
   "execution_count": null,
   "metadata": {},
   "outputs": [
    {
     "name": "stdout",
     "output_type": "stream",
     "text": [
      "word3\n",
      "word1\n"
     ]
    }
   ],
   "source": [
    "print(max(b))\n",
    "print(min(b))  # для строк - сравнение в алфавитном порядке!"
   ]
  },
  {
   "cell_type": "code",
   "execution_count": null,
   "metadata": {},
   "outputs": [
    {
     "ename": "TypeError",
     "evalue": "'<' not supported between instances of 'str' and 'float'",
     "output_type": "error",
     "traceback": [
      "\u001b[1;31m---------------------------------------------------------------------------\u001b[0m\n",
      "\u001b[1;31mTypeError\u001b[0m                                 Traceback (most recent call last)\n",
      "Cell \u001b[1;32mIn[20], line 2\u001b[0m\n",
      "\u001b[0;32m      1\u001b[0m \u001b[38;5;66;03m# вспомним, что два списка можно соединить через +\u001b[39;00m\n",
      "\u001b[1;32m----> 2\u001b[0m \u001b[38;5;28mprint\u001b[39m(\u001b[38;5;28;43mmin\u001b[39;49m\u001b[43m(\u001b[49m\u001b[43ma\u001b[49m\u001b[43m \u001b[49m\u001b[38;5;241;43m+\u001b[39;49m\u001b[43m \u001b[49m\u001b[43mb\u001b[49m\u001b[43m)\u001b[49m)  \u001b[38;5;66;03m# <- ошибка - нельзя сравнить строку и число!\u001b[39;00m\n",
      "\n",
      "\u001b[1;31mTypeError\u001b[0m: '<' not supported between instances of 'str' and 'float'"
     ]
    }
   ],
   "source": [
    "# вспомним, что два списка можно соединить через +\n",
    "print(min(a + b))  # <- ошибка - нельзя сравнить строку и число!"
   ]
  },
  {
   "cell_type": "markdown",
   "metadata": {},
   "source": [
    "#### Контрольные вопросы\n",
    "\n",
    "1. Определите сумму всех чисел от 1 до 100, которые делятся на 7."
   ]
  },
  {
   "cell_type": "code",
   "execution_count": null,
   "metadata": {},
   "outputs": [],
   "source": []
  },
  {
   "cell_type": "markdown",
   "metadata": {},
   "source": [
    "<details>\n",
    "<summary>Ответ:</summary>\n",
    "<pre>\n",
    "answer = sum([i for i in range(1, 101) if i % 7 == 0])\n",
    "print(answer)\n",
    "</pre>\n",
    "</details>"
   ]
  },
  {
   "cell_type": "markdown",
   "metadata": {},
   "source": [
    "**Задание**: определите среднее значение чисел в списке:"
   ]
  },
  {
   "cell_type": "code",
   "execution_count": 5,
   "metadata": {},
   "outputs": [],
   "source": [
    "numbers = [1.4, 1.6, 0, 2.5, 33]\n"
   ]
  },
  {
   "cell_type": "markdown",
   "metadata": {},
   "source": [
    "<details>\n",
    "<summary>Ответ:</summary>\n",
    "<pre>\n",
    "answer = sum(numbers) / len(numbers)\n",
    "print(answer)\n",
    "</pre>\n",
    "</details>"
   ]
  },
  {
   "cell_type": "markdown",
   "metadata": {},
   "source": [
    "Функция `sorted()` всегда возвращает список, отсортированный по возрастанию (по умолчанию):"
   ]
  },
  {
   "cell_type": "code",
   "execution_count": null,
   "metadata": {},
   "outputs": [
    {
     "name": "stdout",
     "output_type": "stream",
     "text": [
      "['word1', 'word2', 'word3']\n",
      "['word3', 'word2', 'word1']\n"
     ]
    }
   ],
   "source": [
    "b = [\"word3\", \"word1\", \"word2\"]\n",
    "b_sorted = sorted(b)\n",
    "print(b_sorted)\n",
    "b_sorted_reverse = sorted(b, reverse=True)\n",
    "print(b_sorted_reverse)"
   ]
  },
  {
   "cell_type": "markdown",
   "metadata": {},
   "source": [
    "Можно задать ключ (принцип) сортировки:"
   ]
  },
  {
   "cell_type": "code",
   "execution_count": null,
   "metadata": {},
   "outputs": [
    {
     "name": "stdout",
     "output_type": "stream",
     "text": [
      "[-1, 2, 5, -6, -8]\n"
     ]
    }
   ],
   "source": [
    "c = [-1, 5, -8, -6, 2]\n",
    "print(sorted(c, key=abs)) # сортируем по модулю (функция abs())"
   ]
  },
  {
   "cell_type": "code",
   "execution_count": null,
   "metadata": {},
   "outputs": [
    {
     "name": "stdout",
     "output_type": "stream",
     "text": [
      "['ac', 'bac', 'acb', 'acba', 'aaaac', 'baaaaac']\n"
     ]
    }
   ],
   "source": [
    "d = [\"bac\", \"ac\", \"aaaac\", \"acba\", \"baaaaac\", \"acb\"]\n",
    "print(sorted(d, key=len)) # сортируем по длине (функция len())"
   ]
  },
  {
   "cell_type": "markdown",
   "metadata": {},
   "source": [
    "А если нам нужен более сложный принцип сортировки? Об этом позже!"
   ]
  },
  {
   "cell_type": "markdown",
   "metadata": {},
   "source": [
    "Сортировка в Python стабильна: это значит, что два элемента останутся в том же порядке друг относительно друга, если их менять местами не нужно."
   ]
  },
  {
   "cell_type": "markdown",
   "metadata": {},
   "source": [
    "Параметр `key` можно передавать и в функции `min()` и `max()`!"
   ]
  },
  {
   "cell_type": "code",
   "execution_count": null,
   "metadata": {},
   "outputs": [
    {
     "name": "stdout",
     "output_type": "stream",
     "text": [
      "baaaaac\n"
     ]
    }
   ],
   "source": [
    "print(max(d, key=len))"
   ]
  },
  {
   "cell_type": "markdown",
   "metadata": {},
   "source": [
    "Некоторые полезные методы списков (методы &ndash; это то, что вызывается через точку):"
   ]
  },
  {
   "cell_type": "code",
   "execution_count": null,
   "metadata": {},
   "outputs": [
    {
     "name": "stdout",
     "output_type": "stream",
     "text": [
      "2\n"
     ]
    }
   ],
   "source": [
    "aa = [4, 1, 5, 3, 2, 5]\n",
    "print(aa.index(5))  # индекс первого элемента с таким значением"
   ]
  },
  {
   "cell_type": "code",
   "execution_count": null,
   "metadata": {},
   "outputs": [
    {
     "ename": "ValueError",
     "evalue": "8 is not in list",
     "output_type": "error",
     "traceback": [
      "\u001b[1;31m---------------------------------------------------------------------------\u001b[0m\n",
      "\u001b[1;31mValueError\u001b[0m                                Traceback (most recent call last)\n",
      "Cell \u001b[1;32mIn[26], line 1\u001b[0m\n",
      "\u001b[1;32m----> 1\u001b[0m \u001b[38;5;28mprint\u001b[39m(\u001b[43maa\u001b[49m\u001b[38;5;241;43m.\u001b[39;49m\u001b[43mindex\u001b[49m\u001b[43m(\u001b[49m\u001b[38;5;241;43m8\u001b[39;49m\u001b[43m)\u001b[49m)  \u001b[38;5;66;03m# ошибка! такого элемента в списке нет\u001b[39;00m\n",
      "\n",
      "\u001b[1;31mValueError\u001b[0m: 8 is not in list"
     ]
    }
   ],
   "source": [
    "print(aa.index(8))  # ошибка! такого элемента в списке нет"
   ]
  },
  {
   "cell_type": "code",
   "execution_count": null,
   "metadata": {},
   "outputs": [
    {
     "name": "stdout",
     "output_type": "stream",
     "text": [
      "2\n"
     ]
    }
   ],
   "source": [
    "print(aa.count(5))  # сколько раз элемент встретился"
   ]
  },
  {
   "cell_type": "markdown",
   "metadata": {},
   "source": [
    "Для строк (также работает и с подстроками!):"
   ]
  },
  {
   "cell_type": "code",
   "execution_count": null,
   "metadata": {},
   "outputs": [
    {
     "name": "stdout",
     "output_type": "stream",
     "text": [
      "4\n"
     ]
    }
   ],
   "source": [
    "text = \"абрикос крабам собака краб жаба\"\n",
    "print(text.count(\"аб\"))"
   ]
  },
  {
   "cell_type": "markdown",
   "metadata": {},
   "source": [
    "### Практические задания"
   ]
  },
  {
   "cell_type": "markdown",
   "metadata": {},
   "source": [
    " #### Задание 1\n",
    "\n",
    "Дан список слов. Назовём серединой слова его часть без первой и последней буквы (гарантируется, что в каждом слове как минимум три буквы). Создать список слов, в середине которых есть последовательность \"аб\".\n",
    "\n",
    "Подсказка: используйте срезы."
   ]
  },
  {
   "cell_type": "code",
   "execution_count": 10,
   "metadata": {},
   "outputs": [],
   "source": [
    "wordlist = [\"абрикос\", \"крабам\", \"собака\", \"краб\", \"жаба\"]\n"
   ]
  },
  {
   "cell_type": "markdown",
   "metadata": {},
   "source": [
    "#### Задание 2\n",
    "\n",
    "Дан список слов. Создайте новый список, где будут все слова, где есть как минимум две буквы \"а\", отсортированные по длине."
   ]
  },
  {
   "cell_type": "code",
   "execution_count": 11,
   "metadata": {},
   "outputs": [],
   "source": [
    "words = [\n",
    "    \"собака\", \"пират\", \"мама\", \"тарелка\", \"арба\",\n",
    "    \"стол\", \"парта\", \"ананас\", \"сад\"\n",
    "]\n"
   ]
  },
  {
   "cell_type": "markdown",
   "metadata": {},
   "source": [
    "#### Задание 3\n",
    "\n",
    "Дан список оценок ученика за период и список весов каждой оценки. Определите средневзвешенную оценку.\n",
    "\n",
    "$$ average = \\frac{ \\sum\\limits_{i}{grade_i \\cdot weight_i} }{\\sum\\limits_{i}{weight_i}} $$\n",
    "\n",
    "Подсказка: используйте list comprehension, `zip()` и `sum()`."
   ]
  },
  {
   "cell_type": "code",
   "execution_count": 12,
   "metadata": {},
   "outputs": [],
   "source": [
    "grades = [5, 5, 4, 3, 2, 5]\n",
    "weights = [1, 1, 1.2, 1.5, 1.5, 1]\n"
   ]
  },
  {
   "cell_type": "markdown",
   "metadata": {},
   "source": [
    "#### Задание 4\n",
    "\n",
    "Напишите программу, которая принимает на вход две строки и определяет, являются ли они анаграммами друг друга. Используйте сортировку."
   ]
  },
  {
   "cell_type": "code",
   "execution_count": null,
   "metadata": {},
   "outputs": [],
   "source": []
  },
  {
   "cell_type": "markdown",
   "metadata": {},
   "source": [
    "#### Задание 5\n",
    "\n",
    "Даны списки русских прилагательных и существительных. Сгенерируйте список всех возможных словосочетаний, напечатайте его на экран в порядке от самого длинного к самому короткому."
   ]
  },
  {
   "cell_type": "code",
   "execution_count": null,
   "metadata": {},
   "outputs": [],
   "source": [
    "nouns = [\n",
    "    \"дом\", \"стол\", \"город\", \"человек\", \"день\", \"вопрос\", \"номер\",\n",
    "    \"голос\", \"ход\", \"отец\", \"друг\"\n",
    "]\n",
    "\n",
    "adjectives = [\n",
    "    \"большой\", \"новый\", \"хороший\", \"последний\", \"молодой\", \"старый\",\n",
    "    \"медленный\", \"тёплый\", \"холодный\", \"дорогой\", \"дешёвый\", \"интересный\"\n",
    "]"
   ]
  },
  {
   "cell_type": "markdown",
   "metadata": {},
   "source": [
    "### Домашнее задание"
   ]
  },
  {
   "cell_type": "markdown",
   "metadata": {},
   "source": [
    "#### Задание 1\n",
    "\n",
    "Определите сумму всех чисел от 1 до 1000, в которых есть цифры 7 или 8."
   ]
  },
  {
   "cell_type": "markdown",
   "metadata": {},
   "source": [
    "#### Задание 2\n",
    "\n",
    "Напишите программу, которая:\n",
    "\n",
    "1. Принимает на вход три целых положительных числа\n",
    "2. Вычисляет их произведение, выводит его на экран\n",
    "3. Для каждой цифры от 0 до 9 определяет, есть ли она в этом числе, и, если есть, выводит на экран позицию, на которой она встретилась в первый раз. Например:\n",
    "\n",
    "Ввод:\n",
    "\n",
    "```\n",
    "121\n",
    "32\n",
    "56\n",
    "```\n",
    "\n",
    "Вывод:\n",
    "\n",
    "```\n",
    "216832\n",
    "0 не встречается\n",
    "1 2\n",
    "2 1\n",
    "3 5\n",
    "4 не встречается\n",
    "5 не встречается\n",
    "6 3\n",
    "7 не встречается\n",
    "8 4\n",
    "9 не встречается\n",
    "```"
   ]
  },
  {
   "cell_type": "markdown",
   "metadata": {},
   "source": [
    "#### Задание 3\n",
    "\n",
    "Пусть пользователь в бесконечном цикле вводит с клавиатуры слова. Для каждого слова:\n",
    "* если он уже вводил такое слово, сообщите об этом\n",
    "* если это слово stop, завершите цикл\n",
    "* иначе напишите, какое бы место занимало введённое слово: а) в алфавитном списке всех введённых слов, б) в списке, отсортированном по длине\n",
    "\n",
    "Используйте сортировку и метод `.index()`."
   ]
  }
 ],
 "metadata": {
  "kernelspec": {
   "display_name": "Python 3",
   "language": "python",
   "name": "python3"
  },
  "language_info": {
   "codemirror_mode": {
    "name": "ipython",
    "version": 3
   },
   "file_extension": ".py",
   "mimetype": "text/x-python",
   "name": "python",
   "nbconvert_exporter": "python",
   "pygments_lexer": "ipython3",
   "version": "3.13.2"
  }
 },
 "nbformat": 4,
 "nbformat_minor": 2
}
