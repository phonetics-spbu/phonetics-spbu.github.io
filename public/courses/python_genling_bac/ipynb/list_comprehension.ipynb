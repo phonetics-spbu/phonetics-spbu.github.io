{
 "cells": [
  {
   "cell_type": "markdown",
   "id": "55f1d009",
   "metadata": {},
   "source": [
    "###  List comprehension\n",
    "\n",
    "List comprehension &ndash; инструмент для генерации списков на основе цикла `for` (иногда его называют генератором списков или списковым включением)."
   ]
  },
  {
   "cell_type": "markdown",
   "id": "8fc33dbe",
   "metadata": {},
   "source": [
    "Синтаксис такой:\n",
    "\n",
    "`название переменной = [какое-то_выражение for переменная_итерации in итерируемый_объект]`\n",
    "\n",
    "Например: дан список `x`, содержащий целые числа. Создадим список `y`, каждый элемент которого будет равен соответствующему (по порядку) элементу `x` &ndash; то есть копию `x`. Обратите внимание, что списки разные (хотя они и равны) &ndash; они занимают разное место в памяти."
   ]
  },
  {
   "cell_type": "code",
   "execution_count": 1,
   "id": "1b55da0a",
   "metadata": {},
   "outputs": [
    {
     "name": "stdout",
     "output_type": "stream",
     "text": [
      "[1, 2, 3, 4, 5] False\n"
     ]
    }
   ],
   "source": [
    "x = [1, 2, 3, 4, 5]\n",
    "y = [i for i in x]\n",
    "print(y, x is y)"
   ]
  },
  {
   "cell_type": "markdown",
   "id": "6c07cf4d",
   "metadata": {},
   "source": [
    "Создадим список `y`, каждый элемент которого будет равен **квадрату** соответствующего (по порядку) элемента `x`."
   ]
  },
  {
   "cell_type": "code",
   "execution_count": 2,
   "id": "b155c03e",
   "metadata": {},
   "outputs": [
    {
     "name": "stdout",
     "output_type": "stream",
     "text": [
      "[1, 4, 9, 16, 25]\n"
     ]
    }
   ],
   "source": [
    "y = [i ** 2 for i in x]\n",
    "print(y)"
   ]
  },
  {
   "cell_type": "markdown",
   "id": "892ea476",
   "metadata": {},
   "source": [
    "По сути, это способ записать в одну строчку следующее:"
   ]
  },
  {
   "cell_type": "code",
   "execution_count": 9,
   "id": "e8134e30",
   "metadata": {},
   "outputs": [
    {
     "name": "stdout",
     "output_type": "stream",
     "text": [
      "[1, 4, 9, 16, 25]\n"
     ]
    }
   ],
   "source": [
    "y = []\n",
    "for i in x:\n",
    "    y.append(i ** 2)\n",
    "\n",
    "print(y)"
   ]
  },
  {
   "cell_type": "markdown",
   "id": "06301191",
   "metadata": {},
   "source": [
    "Теперь вместо списка `x` будем использовать функцию `range()`, которая, как мы помним, генерирует последовательности целых чисел. Теперь `y` будет содержать квадраты всех чисел от 0 до 10 (не включая)."
   ]
  },
  {
   "cell_type": "code",
   "execution_count": 5,
   "id": "741b29dc",
   "metadata": {},
   "outputs": [
    {
     "name": "stdout",
     "output_type": "stream",
     "text": [
      "[0, 1, 4, 9, 16, 25, 36, 49, 64, 81]\n"
     ]
    }
   ],
   "source": [
    "y = [i ** 2 for i in range(10)]\n",
    "print(y)"
   ]
  },
  {
   "cell_type": "markdown",
   "id": "58c26976",
   "metadata": {},
   "source": [
    "Мы можем из исходного списка отбирать не все элементы, а только те, которые удовлетворяют какому-то условию. Теперь в `y` будут квадраты не всех чисел, а только чётных."
   ]
  },
  {
   "cell_type": "code",
   "execution_count": 6,
   "id": "bf9cd9eb",
   "metadata": {},
   "outputs": [
    {
     "name": "stdout",
     "output_type": "stream",
     "text": [
      "[0, 4, 16, 36, 64]\n"
     ]
    }
   ],
   "source": [
    "y = [i ** 2 for i in range(10) if i % 2 == 0]\n",
    "print(y)"
   ]
  },
  {
   "cell_type": "markdown",
   "id": "3a2d61a7",
   "metadata": {},
   "source": [
    "По сути, это эквивалентно следующему коду:"
   ]
  },
  {
   "cell_type": "code",
   "execution_count": 8,
   "id": "96d5b4ef",
   "metadata": {},
   "outputs": [
    {
     "name": "stdout",
     "output_type": "stream",
     "text": [
      "[0, 4, 16, 36, 64]\n"
     ]
    }
   ],
   "source": [
    "y = []\n",
    "for i in range(10):\n",
    "    if i % 2 == 0:\n",
    "        y.append(i ** 2)\n",
    "\n",
    "print(y)"
   ]
  },
  {
   "cell_type": "markdown",
   "id": "a694eb93",
   "metadata": {},
   "source": [
    "А что делать, если мы хотим, чтобы в случае выполнения условия в список добавлялось одно значение, а в противном случае другое? Для этого есть специальная конструкция &mdash; тернарный оператор."
   ]
  },
  {
   "cell_type": "markdown",
   "id": "d041bbf2",
   "metadata": {},
   "source": [
    "#### Тернарный оператор\n",
    "\n",
    "Тернарный оператор позволяет присвоить в переменную одно или другое значение в зависимости от какого-то условия в одну строчку. Мы уже умеем делать это в пять строчек:"
   ]
  },
  {
   "cell_type": "code",
   "execution_count": null,
   "id": "dfe98e8d",
   "metadata": {},
   "outputs": [],
   "source": [
    "x = 0\n",
    "if x == 0:\n",
    "    y = 0\n",
    "else:\n",
    "    y = 1 / x\n",
    "print(y)"
   ]
  },
  {
   "cell_type": "markdown",
   "id": "310c534b",
   "metadata": {},
   "source": [
    "А так выглядит тернарный оператор:"
   ]
  },
  {
   "cell_type": "code",
   "execution_count": null,
   "id": "d52baa15",
   "metadata": {},
   "outputs": [],
   "source": [
    "y = 0 if x == 0 else 1 / x\n",
    "print(y)"
   ]
  },
  {
   "cell_type": "markdown",
   "id": "aaba41e4",
   "metadata": {},
   "source": [
    "Выражение, которое показывает, как из элемента исходного списка сделать элемент нового, может включать тернарный оператор. Например: теперь в `y` будут квадраты, если число делится на три, а в противном случае &ndash; кубы."
   ]
  },
  {
   "cell_type": "code",
   "execution_count": 7,
   "id": "c3480611",
   "metadata": {},
   "outputs": [
    {
     "name": "stdout",
     "output_type": "stream",
     "text": [
      "[0, 1, 8, 9, 64, 125, 36, 343, 512, 81]\n"
     ]
    }
   ],
   "source": [
    "y = [i ** 2 if i % 3 == 0 else i ** 3 for i in range(10)]\n",
    "print(y)"
   ]
  },
  {
   "cell_type": "markdown",
   "id": "0d98307e",
   "metadata": {},
   "source": [
    "Это эквивалентно следующему коду:"
   ]
  },
  {
   "cell_type": "code",
   "execution_count": 10,
   "id": "2976fe70",
   "metadata": {},
   "outputs": [
    {
     "name": "stdout",
     "output_type": "stream",
     "text": [
      "[0, 1, 8, 9, 64, 125, 36, 343, 512, 81]\n"
     ]
    }
   ],
   "source": [
    "y = []\n",
    "for i in range(10):\n",
    "    if i % 3 == 0:\n",
    "        y.append(i ** 2)\n",
    "    else:\n",
    "        y.append(i ** 3)\n",
    "\n",
    "print(y)"
   ]
  },
  {
   "cell_type": "markdown",
   "id": "02098a2b",
   "metadata": {},
   "source": [
    "Можем совместить:\n",
    "\n",
    "Из `range()` отберём только чётные числа. Если они делятся на 3, возведём в квадрат, иначе &ndash; в куб."
   ]
  },
  {
   "cell_type": "code",
   "execution_count": 11,
   "id": "e8a34d83",
   "metadata": {},
   "outputs": [
    {
     "name": "stdout",
     "output_type": "stream",
     "text": [
      "[0, 8, 64, 36, 512]\n"
     ]
    }
   ],
   "source": [
    "y = [i ** 2 if i % 3 == 0 else i ** 3 for i in range(10) if i % 2 == 0]\n",
    "print(y)"
   ]
  },
  {
   "cell_type": "markdown",
   "id": "966698d9",
   "metadata": {},
   "source": [
    "Эквивалентный код:"
   ]
  },
  {
   "cell_type": "code",
   "execution_count": 12,
   "id": "6455ef38",
   "metadata": {},
   "outputs": [
    {
     "name": "stdout",
     "output_type": "stream",
     "text": [
      "[0, 8, 64, 36, 512]\n"
     ]
    }
   ],
   "source": [
    "y = []\n",
    "for i in range(10):\n",
    "    if i % 2 == 0:\n",
    "        if i % 3 == 0:\n",
    "            y.append(i ** 2)\n",
    "        else:\n",
    "            y.append(i ** 3)\n",
    "\n",
    "print(y)"
   ]
  },
  {
   "cell_type": "markdown",
   "id": "a5238596",
   "metadata": {},
   "source": [
    "#### Вложенные циклы\n",
    "\n",
    "1) без list comprehension:\n",
    "\n",
    "Вопрос: сколько элементов будет в списке `y`?"
   ]
  },
  {
   "cell_type": "code",
   "execution_count": null,
   "id": "8ad17fcc",
   "metadata": {},
   "outputs": [],
   "source": [
    "y = []\n",
    "for j in range(1, 4):\n",
    "    for i in range(1, 4):\n",
    "        y.append(i * j)\n",
    "print(y)"
   ]
  },
  {
   "cell_type": "markdown",
   "id": "a4647c65",
   "metadata": {},
   "source": [
    "2. с list comprehension"
   ]
  },
  {
   "cell_type": "code",
   "execution_count": null,
   "id": "27402e51",
   "metadata": {},
   "outputs": [],
   "source": [
    "y = [i * j for i in range(1, 4) for j in range(1, 4)]\n",
    "print(y)"
   ]
  },
  {
   "cell_type": "markdown",
   "id": "83f6e30e",
   "metadata": {},
   "source": [
    "Порядок важен!\n",
    "\n",
    "В списке `big_list` содержится три списка, которые содержат целые числа (назовём это вложенными списками)."
   ]
  },
  {
   "cell_type": "code",
   "execution_count": null,
   "id": "c63d9a39",
   "metadata": {},
   "outputs": [],
   "source": [
    "big_list = [[1, 2, 3], [4, 5, 6], [7, 8, 9]]\n",
    "y = [el ** 2 for sub_list in big_list for el in sub_list]\n",
    "print(y)"
   ]
  },
  {
   "cell_type": "code",
   "execution_count": null,
   "id": "6b0d09eb",
   "metadata": {},
   "outputs": [],
   "source": [
    "y = [[el ** 2 for el in sub_list] for sub_list in big_list]\n",
    "print(y)"
   ]
  },
  {
   "cell_type": "markdown",
   "id": "5f674b6d",
   "metadata": {},
   "source": [
    "Разница между этими двумя фрагментами кода в том, что первый &ndash; это один сложный list comprehension с двумя циклами, а второй &ndash; два list comprehension, вложенные один в другой. Первый создаёт список целых чисел, второй &ndash; список списков."
   ]
  },
  {
   "cell_type": "markdown",
   "id": "95105934",
   "metadata": {},
   "source": [
    "#### Контрольные вопросы\n",
    "\n",
    "1. Как записать код ниже в одну строку?"
   ]
  },
  {
   "cell_type": "code",
   "execution_count": null,
   "id": "fbd06673",
   "metadata": {},
   "outputs": [],
   "source": [
    "a = []\n",
    "for i in range(3, 20):\n",
    "    if i % 3 == 0:\n",
    "        continue\n",
    "    if i % 2 == 0:\n",
    "        a.append(i // 2)\n",
    "    else:\n",
    "        a.append(i * 2)\n",
    "print(a)"
   ]
  },
  {
   "cell_type": "code",
   "execution_count": null,
   "id": "f9ba6d12",
   "metadata": {},
   "outputs": [],
   "source": []
  },
  {
   "cell_type": "markdown",
   "id": "46f00ec5",
   "metadata": {},
   "source": [
    "<details>\n",
    "    <summary>Ответ:</summary>\n",
    "    <p>\n",
    "        <pre>a = [i // 2 if i % 2 == 0 else i * 2 for i in range(3, 20) if i % 3 != 0]</pre>\n",
    "    </p>\n",
    "</details>"
   ]
  },
  {
   "cell_type": "markdown",
   "id": "8f7adcdf",
   "metadata": {},
   "source": [
    "2. Пусть программа принимает на вход целое число `N`. Создайте список длины `N` такого вида: `[\"a\", \"aa\", \"aaa\", ...]`.\n",
    "\n",
    "Подсказка: используйте `range()` и list comprehension. Помните, что если строку умножить на целое число, она повторится это число раз:"
   ]
  },
  {
   "cell_type": "code",
   "execution_count": null,
   "id": "c17d53d2",
   "metadata": {},
   "outputs": [],
   "source": []
  },
  {
   "cell_type": "markdown",
   "id": "4d0d2d86",
   "metadata": {},
   "source": [
    "<details>\n",
    "    <summary>Ответ:</summary>\n",
    "    <p>\n",
    "        <pre>\n",
    "N = int(input())\n",
    "alist = [\"a\" * i for i in range(1, N + 1)]\n",
    "print(alist)\n",
    "        </pre>\n",
    "    </p>\n",
    "</details>"
   ]
  },
  {
   "cell_type": "markdown",
   "id": "7acfa198",
   "metadata": {},
   "source": [
    "### Срезы (slice)\n",
    "\n",
    "Мы помним, что к интересующему нас элементу списка можно обратиться по индексу:"
   ]
  },
  {
   "cell_type": "code",
   "execution_count": 14,
   "id": "096b5433",
   "metadata": {},
   "outputs": [
    {
     "name": "stdout",
     "output_type": "stream",
     "text": [
      "0.2\n",
      "0.9\n"
     ]
    }
   ],
   "source": [
    "a = [0.1, 0.2, 0.3, 0.4, 0.5, 0.6, 0.7, 0.8, 0.9, 1]\n",
    "print(a[1]) # второй с начала\n",
    "print(a[-2]) # второй с конца"
   ]
  },
  {
   "cell_type": "markdown",
   "id": "95105be5",
   "metadata": {},
   "source": [
    "Кроме этого, мы можем получать подпоследовательности элементов (они будут новыми списками):"
   ]
  },
  {
   "cell_type": "code",
   "execution_count": 15,
   "id": "731ed85e",
   "metadata": {},
   "outputs": [
    {
     "name": "stdout",
     "output_type": "stream",
     "text": [
      "[0.1, 0.2, 0.3, 0.4, 0.5, 0.6, 0.7, 0.8]\n",
      "[0.2, 0.3, 0.4, 0.5, 0.6, 0.7, 0.8, 0.9, 1]\n",
      "[0.2, 0.3, 0.4, 0.5, 0.6, 0.7, 0.8]\n"
     ]
    }
   ],
   "source": [
    "print(a[:-2])  # все до второго с конца (не включая)\n",
    "print(a[1:])  # все, начиная с первого с начала\n",
    "print(a[1:-2])  # все, начиная с первого с начала и до второго с конца\n",
    "# (не включая)"
   ]
  },
  {
   "cell_type": "code",
   "execution_count": 16,
   "id": "9e98f380",
   "metadata": {},
   "outputs": [
    {
     "name": "stdout",
     "output_type": "stream",
     "text": [
      "[0.2, 0.4, 0.6, 0.8, 1]\n",
      "[0.1, 0.3, 0.5, 0.7]\n",
      "[0.2, 0.4, 0.6, 0.8]\n"
     ]
    }
   ],
   "source": [
    "print(a[1::2]) # все, начиная с первого с начала и до самого конца\n",
    "# но берём каждый второй\n",
    "print(a[:-2:2]) # все до второго с конца (не включая)\n",
    "# но берём каждый второй\n",
    "print(a[1:-2:2]) # все, начиная с первого с начала и до второго с конца\n",
    "# (не включая)\n",
    "# но берём каждый второй"
   ]
  },
  {
   "cell_type": "markdown",
   "id": "68797243",
   "metadata": {},
   "source": [
    "Общий синтаксис такой:\n",
    "```\n",
    "a[start:]\n",
    "a[:stop]\n",
    "a[start:stop]\n",
    "a[::step]\n",
    "a[start::step]\n",
    "a[:stop:step]\n",
    "a[start:stop:step]\n",
    "```"
   ]
  },
  {
   "cell_type": "markdown",
   "id": "5f00e02d",
   "metadata": {},
   "source": [
    "Можно задать отрицательный шаг: тогда будем двигаться в обратную сторону!"
   ]
  },
  {
   "cell_type": "code",
   "execution_count": 17,
   "id": "6727558c",
   "metadata": {},
   "outputs": [
    {
     "name": "stdout",
     "output_type": "stream",
     "text": [
      "[1, 0.9, 0.8, 0.7, 0.6, 0.5, 0.4, 0.3, 0.2, 0.1]\n"
     ]
    }
   ],
   "source": [
    "print(a[::-1])"
   ]
  },
  {
   "cell_type": "markdown",
   "id": "1c03052d",
   "metadata": {},
   "source": [
    "Срезы можно использовать не только со списками, но и с другими индексируемыми объектами &mdash; например, со строками.\n",
    "\n",
    "#### Контрольные вопросы\n",
    "\n",
    "1. Как получить строку, содержащую только чётные буквы слова?"
   ]
  },
  {
   "cell_type": "code",
   "execution_count": null,
   "id": "f3290e17",
   "metadata": {},
   "outputs": [],
   "source": [
    "word = \"linguistics\"\n"
   ]
  },
  {
   "cell_type": "markdown",
   "id": "dd952df3",
   "metadata": {},
   "source": [
    "<details>\n",
    "    <summary>Ответ:</summary>\n",
    "    <p>\n",
    "        <pre>\n",
    "even_letters = word[1::2]\n",
    "print(even_letters)\n",
    "        </pre>\n",
    "    </p>\n",
    "</details>"
   ]
  },
  {
   "cell_type": "markdown",
   "id": "a9bafce0",
   "metadata": {},
   "source": [
    "2. В землю вбито N колышков. Координаты колышков хранятся в списке `stakes`. Как создать новый список, в котором будут храниться расстояния между каждой парой соседних колышков?\n",
    "\n",
    "Подсказка: необходимо использовать list comprehension, срезы и функцию `zip()`."
   ]
  },
  {
   "cell_type": "code",
   "execution_count": null,
   "id": "383ef8e5",
   "metadata": {},
   "outputs": [],
   "source": [
    "stakes = [0.1, 0.86, 1.54, 2.04, 2.99, 3.78, 4.24]\n"
   ]
  },
  {
   "cell_type": "markdown",
   "id": "24318d8e",
   "metadata": {},
   "source": [
    "<details>\n",
    "    <summary>Ответ:</summary>\n",
    "    <p>\n",
    "        <pre>\n",
    "distances = [j - i for i, j in zip(stakes, stakes[1:])]\n",
    "print(distances)\n",
    "        </pre>\n",
    "    </p>\n",
    "</details>"
   ]
  },
  {
   "cell_type": "markdown",
   "id": "35a353e5",
   "metadata": {},
   "source": [
    "### Задания для выполнения в классе"
   ]
  },
  {
   "cell_type": "markdown",
   "id": "dd40802f",
   "metadata": {},
   "source": [
    "#### Задание 1\n",
    "\n",
    "Дан список слов. Создать новый список, где каждым элементом будет длина слова из первого списка.\n",
    "\n",
    "а) С помощью цикла `for`"
   ]
  },
  {
   "cell_type": "code",
   "execution_count": null,
   "id": "86363107",
   "metadata": {},
   "outputs": [],
   "source": [
    "words = [\"apple\", \"banana\", \"orange\", \"pear\", \"pineapple\"]\n"
   ]
  },
  {
   "cell_type": "markdown",
   "id": "1c59cf31",
   "metadata": {},
   "source": [
    "б) с помощью list comprehension"
   ]
  },
  {
   "cell_type": "code",
   "execution_count": null,
   "id": "14eb2da7",
   "metadata": {},
   "outputs": [],
   "source": [
    "words = [\"apple\", \"banana\", \"orange\", \"pear\", \"pineapple\"]\n"
   ]
  },
  {
   "cell_type": "markdown",
   "id": "3a31fca1",
   "metadata": {},
   "source": [
    "#### Задание 2\n",
    "\n",
    "Дана переменная, содержащая фамилию, и список, содержащий имена. Создать новый список, где каждым элементом будет полное имя (имя и фамилия)."
   ]
  },
  {
   "cell_type": "code",
   "execution_count": null,
   "id": "adc4bf3f",
   "metadata": {},
   "outputs": [],
   "source": [
    "lastname = \"Smith\"\n",
    "firstnames = [\"John\", \"Mary\", \"Peter\", \"Aerith\", \"Bob\"]\n",
    "# не забудем поставить между фамилией и именем пробел\n"
   ]
  },
  {
   "cell_type": "markdown",
   "id": "cca59bfc",
   "metadata": {},
   "source": [
    "#### Задание 3\n",
    "\n",
    "Из списка полных имён создать новый, в котором будут только те, длина которых не превышает 10 символов."
   ]
  },
  {
   "cell_type": "code",
   "execution_count": null,
   "id": "def31ce8",
   "metadata": {},
   "outputs": [],
   "source": []
  },
  {
   "cell_type": "markdown",
   "id": "b121c6a2",
   "metadata": {},
   "source": [
    "#### Задание 4\n",
    "\n",
    "Дана последовательность букв. Создайте новую строку, в которой будет каждая четвёртая буква из старой, начиная с четвёртой."
   ]
  },
  {
   "cell_type": "code",
   "execution_count": null,
   "id": "500ef9c6",
   "metadata": {},
   "outputs": [],
   "source": [
    "text = \"lorhmipeumdllorlitaoetcwnseotetrradlpisding\"\n"
   ]
  },
  {
   "cell_type": "markdown",
   "id": "07714ef3",
   "metadata": {},
   "source": [
    "#### Задание 5\n",
    "\n",
    "Дан список строк. Постройте новый список, в котором будут все те же строки, но написанные задом наперёд."
   ]
  },
  {
   "cell_type": "code",
   "execution_count": null,
   "id": "c9ff8911",
   "metadata": {},
   "outputs": [],
   "source": [
    "words = [\"elbairav\", \"noitareti\", \"tsil\", \"nohtyp\"]\n"
   ]
  },
  {
   "cell_type": "markdown",
   "id": "a0657ea6",
   "metadata": {},
   "source": [
    "#### Задание 6\n",
    "\n",
    "Дан список слов. Из-за плохого алгоритма OCR в конце каждого слова стоит по одному лишнему символу. Создайте новый список, где будут все слова без последнего символа."
   ]
  },
  {
   "cell_type": "code",
   "execution_count": null,
   "id": "d9bc0b91",
   "metadata": {},
   "outputs": [],
   "source": [
    "words = [\"computer%\", \"language#\", \"variable!\", \"phonetics*\", \"classroom$\", \"grammar^\", \"syntax<\", \"semantics?\"]\n"
   ]
  },
  {
   "cell_type": "markdown",
   "id": "322650e4",
   "metadata": {},
   "source": [
    "#### Задание 7\n",
    "\n",
    "Напишите программу, которая принимает на вход целое число N и выводит список всех чисел от 1 до N включительно, поделённых на 2, если они делятся на 2, и умноженных на 2 в противном случае. Используйте list comprehension.\n",
    "\n",
    "Например:\n",
    "\n",
    "```\n",
    "Введите число: 13\n",
    "```\n",
    "```\n",
    "[2, 1, 6, 2, 10, 3, 14, 4, 18, 5, 22, 6, 26]\n",
    "```"
   ]
  },
  {
   "cell_type": "code",
   "execution_count": null,
   "id": "9b724a21",
   "metadata": {},
   "outputs": [],
   "source": []
  },
  {
   "cell_type": "markdown",
   "id": "c0ac1a20",
   "metadata": {},
   "source": [
    "#### Задание 8\n",
    "\n",
    "Модифицируйте программу так, чтобы числа, делящиеся на 5, пропускались. Например:\n",
    "\n",
    "```\n",
    "Введите число: 13\n",
    "```\n",
    "```\n",
    "[2, 1, 6, 2, 3, 14, 4, 18, 22, 6, 26]\n",
    "```"
   ]
  },
  {
   "cell_type": "code",
   "execution_count": null,
   "id": "14b34aa3",
   "metadata": {},
   "outputs": [],
   "source": []
  },
  {
   "cell_type": "markdown",
   "id": "7ee77afb",
   "metadata": {},
   "source": [
    "### Домашнее задание\n",
    "\n",
    "#### Задание 1\n",
    "\n",
    "Напишите программу, которая считывает с клавиатуры два целых числа M и N, с помощью list comprehension создаёт список, в котором будут частные от деления на N всех чисел от 0 до M и выводит его на экран. Если число N равно 0 или число M меньше или равно 0, выведите на экран текст, сообщающий об этом."
   ]
  },
  {
   "cell_type": "markdown",
   "id": "59cd7c41",
   "metadata": {},
   "source": [
    "#### Задание 2\n",
    "\n",
    "Дан список целых чисел:\n",
    "\n",
    "```python\n",
    "numbers = [85, 234, 48, 841, 3, 8, 902, 8563, 4, 0, 800000]\n",
    "```\n",
    "\n",
    "Создать новый список, в котором будут только числа, первая цифра которых – 8. Используйте list comprehension и преобразование чисел в строки (с помощью функции `str()`)."
   ]
  },
  {
   "cell_type": "markdown",
   "id": "78da99d4",
   "metadata": {},
   "source": [
    "#### Задание 3\n",
    "\n",
    "Дана строка. Определите количество случаев, когда на двух соседних позициях стоят одинаковые символы.\n",
    "\n",
    "```python\n",
    "text = \"aecddaffedbbdfaccac\"\n",
    "```"
   ]
  }
 ],
 "metadata": {
  "kernelspec": {
   "display_name": "Python 3",
   "language": "python",
   "name": "python3"
  },
  "language_info": {
   "codemirror_mode": {
    "name": "ipython",
    "version": 3
   },
   "file_extension": ".py",
   "mimetype": "text/x-python",
   "name": "python",
   "nbconvert_exporter": "python",
   "pygments_lexer": "ipython3",
   "version": "3.13.2"
  }
 },
 "nbformat": 4,
 "nbformat_minor": 5
}
