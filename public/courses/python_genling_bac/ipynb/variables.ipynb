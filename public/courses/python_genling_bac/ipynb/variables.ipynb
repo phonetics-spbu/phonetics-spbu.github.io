{
 "cells": [
  {
   "cell_type": "markdown",
   "metadata": {},
   "source": [
    "### Инструкция по установке Python\n",
    "\n",
    "1. Скачайте Python по [ссылке](https://www.python.org/downloads/).\n",
    "2. Установите Python. Можно на первом экране нажать \"Customize installation\" и на следующем выбрать \"Install for all users\" и \"Add Python to environment variables\".\n",
    "3. Выберите среду разработки: VS Code, IDLE или свой вариант.\n",
    "\n",
    "### Инструкция по установке VS Code\n",
    "\n",
    "1. Скачайте VS Code по [ссылке](https://code.visualstudio.com/).\n",
    "2. Установите расширение VS Code для Python. Нажмите на кнопку расширений (четыре квадратика), введите в строке поиска \"Python\", выберите первое расширение и нажмите кнопку Install.\n",
    "3. После этого вы можете создавать файлы .py (File -> New file) и запускать код с помощью меню Run.\n",
    "\n",
    "### Инструкция по установке IDLE\n",
    "\n",
    "1. Устанавливать ничего не нужно, IDLE идёт вместе с Python по умолчанию. Найдите IDLE в меню \"Пуск\".\n",
    "2. После этого вы можете создавать файлы .py (File -> New file) и запускать код с помощью меню Run.\n",
    "\n",
    "### Инструкция по использованию Google Colab\n",
    "\n",
    "1. Убедитесь, что у вас есть аккаунт Google.\n",
    "2. Перейдите по [ссылке](https://colab.research.google.com/).\n",
    "3. Нажмите кнопку \"New notebook\"."
   ]
  },
  {
   "cell_type": "markdown",
   "metadata": {},
   "source": [
    "### Дзен Python"
   ]
  },
  {
   "cell_type": "code",
   "execution_count": 5,
   "metadata": {},
   "outputs": [
    {
     "name": "stdout",
     "output_type": "stream",
     "text": [
      "The Zen of Python, by Tim Peters\n",
      "\n",
      "Beautiful is better than ugly.\n",
      "Explicit is better than implicit.\n",
      "Simple is better than complex.\n",
      "Complex is better than complicated.\n",
      "Flat is better than nested.\n",
      "Sparse is better than dense.\n",
      "Readability counts.\n",
      "Special cases aren't special enough to break the rules.\n",
      "Although practicality beats purity.\n",
      "Errors should never pass silently.\n",
      "Unless explicitly silenced.\n",
      "In the face of ambiguity, refuse the temptation to guess.\n",
      "There should be one-- and preferably only one --obvious way to do it.\n",
      "Although that way may not be obvious at first unless you're Dutch.\n",
      "Now is better than never.\n",
      "Although never is often better than *right* now.\n",
      "If the implementation is hard to explain, it's a bad idea.\n",
      "If the implementation is easy to explain, it may be a good idea.\n",
      "Namespaces are one honking great idea -- let's do more of those!\n"
     ]
    }
   ],
   "source": [
    "import this"
   ]
  },
  {
   "attachments": {},
   "cell_type": "markdown",
   "metadata": {},
   "source": [
    "### Вывод данных на экран (в командной строке)\n",
    "\n",
    "Программа &mdash; это набор инструкций к выполнению. Самая простая инструкция &mdash; вывести на экран какой-либо текст. Для этого используем функцию **print**: в круглых скобках после этого слова укажем текст, заключённый в кавычки. Текст появится в командной строке (терминале) или под ячейкой тетрадки."
   ]
  },
  {
   "cell_type": "code",
   "execution_count": 5,
   "metadata": {},
   "outputs": [
    {
     "name": "stdout",
     "output_type": "stream",
     "text": [
      "Hello world\n"
     ]
    }
   ],
   "source": [
    "print(\"Hello world\")"
   ]
  },
  {
   "attachments": {},
   "cell_type": "markdown",
   "metadata": {},
   "source": [
    "В кавычках пишется любой текст. Такой текст в кавычках называется **строкой**. Кавычки могут быть одинарными или двойными, но открывающая и закрывающая кавычка должны совпадать. Если вы хотите, чтобы ваш текст включал одинарные кавычки, вам придётся заключить его в двойные, и наоборот:"
   ]
  },
  {
   "cell_type": "code",
   "execution_count": 13,
   "metadata": {},
   "outputs": [],
   "source": [
    "a = \"Bob's your uncle\"\n",
    "b = 'I like \"War and Peace\".'"
   ]
  },
  {
   "cell_type": "markdown",
   "metadata": {},
   "source": [
    "### Переменные"
   ]
  },
  {
   "attachments": {},
   "cell_type": "markdown",
   "metadata": {},
   "source": [
    "Данные, с которыми работает программа, существуют в памяти в виде объектов. Чтобы иметь доступ к этим объектам в коде программы, мы заводим специальные имена, с помощью которых будем обращаться к этим объектам. Это **переменные**."
   ]
  },
  {
   "attachments": {},
   "cell_type": "markdown",
   "metadata": {},
   "source": [
    "Чтобы привязать переменную к какому-либо значению, напишем имя переменной слева от знака равно, а справа напишем наше значение. Эта операция называется **присвоением** переменной значения.\n",
    "\n",
    "Имя переменной может состоять практически из любых символов, кроме ряда специальных символов, выполняющих разные операции в коде (в основном это знаки пунктуации и арифметические операции). Лучше всего использовать названия переменных, использующие только латинские буквы, цифры и знак подчёркивания _. Название переменной не может начинаться с цифры. Лучше всего, чтобы название переменной как-то отражало её суть."
   ]
  },
  {
   "attachments": {},
   "cell_type": "markdown",
   "metadata": {},
   "source": [
    "NB: О переменных лучше думать не как о коробочках с данными, а как о ярлычках, которые наклеиваются на эти коробочки. Две разные переменные могут ссылаться на один и тот же объект."
   ]
  },
  {
   "cell_type": "code",
   "execution_count": 1,
   "metadata": {},
   "outputs": [],
   "source": [
    "a = 5\n",
    "b = \"some words\"\n",
    "c = 7.8"
   ]
  },
  {
   "cell_type": "markdown",
   "metadata": {},
   "source": [
    "Переменную нельзя использовать до инициализации:"
   ]
  },
  {
   "cell_type": "code",
   "execution_count": 28,
   "metadata": {},
   "outputs": [
    {
     "ename": "NameError",
     "evalue": "name 'x' is not defined",
     "output_type": "error",
     "traceback": [
      "\u001b[31m---------------------------------------------------------------------------\u001b[39m",
      "\u001b[31mNameError\u001b[39m                                 Traceback (most recent call last)",
      "\u001b[36mCell\u001b[39m\u001b[36m \u001b[39m\u001b[32mIn[28]\u001b[39m\u001b[32m, line 1\u001b[39m\n\u001b[32m----> \u001b[39m\u001b[32m1\u001b[39m \u001b[38;5;28mprint\u001b[39m(\u001b[43mx\u001b[49m)\n\u001b[32m      2\u001b[39m x = \u001b[32m5\u001b[39m\n",
      "\u001b[31mNameError\u001b[39m: name 'x' is not defined"
     ]
    }
   ],
   "source": [
    "print(x)\n",
    "x = 5"
   ]
  },
  {
   "attachments": {},
   "cell_type": "markdown",
   "metadata": {},
   "source": [
    "### Типы данных\n",
    "\n",
    "Объектами могут быть самые разные данные. Например, это могут быть **целые числа** (5), **вещественные числа** (7.8) или **строки** (\"some words\"). Помните, что в качестве десятичного разделителя (то, что отделяет целую часть от дробной) используется **не запятая, а точка**!\n",
    "\n",
    "От того, какие данные вы помещаете в переменную, будет зависеть её **тип**. Тип переменной можно определить с помощью функции `type()`:"
   ]
  },
  {
   "cell_type": "code",
   "execution_count": 9,
   "metadata": {},
   "outputs": [
    {
     "name": "stdout",
     "output_type": "stream",
     "text": [
      "<class 'int'>\n"
     ]
    }
   ],
   "source": [
    "a = 5\n",
    "print(type(a))"
   ]
  },
  {
   "cell_type": "markdown",
   "metadata": {},
   "source": [
    "|Данные|Тип Python|\n",
    "|---|---|\n",
    "|Целое число|`int`|\n",
    "|Вещественное число|`float`|\n",
    "|Текст|`str`|"
   ]
  },
  {
   "cell_type": "markdown",
   "metadata": {},
   "source": [
    "В Python так называемая динамическая типизация, которая позволяет переопределять тип переменной:"
   ]
  },
  {
   "cell_type": "code",
   "execution_count": 10,
   "metadata": {},
   "outputs": [
    {
     "name": "stdout",
     "output_type": "stream",
     "text": [
      "<class 'int'>\n",
      "<class 'float'>\n"
     ]
    }
   ],
   "source": [
    "a = 5\n",
    "print(type(a))\n",
    "a = 5.5\n",
    "print(type(a))"
   ]
  },
  {
   "cell_type": "markdown",
   "metadata": {},
   "source": [
    "Это допустимо не во всех языках, поэтому хорошим тоном считается не переопределять тип переменной, а также использовать аннотации типов, чтобы тип переменной был очевиден:"
   ]
  },
  {
   "cell_type": "code",
   "execution_count": 12,
   "metadata": {},
   "outputs": [],
   "source": [
    "a: int = 5\n",
    "b: float = 5.6\n",
    "c: str = \"hello\""
   ]
  },
  {
   "cell_type": "markdown",
   "metadata": {},
   "source": [
    "Аннотации не влияют на сам код и не будут вызывать ошибок, если они будут неправильными."
   ]
  },
  {
   "cell_type": "markdown",
   "metadata": {},
   "source": [
    "Некоторые типы позволяют преобразование из одного в другой. Для этого название типа можно использовать как функцию. Например:"
   ]
  },
  {
   "cell_type": "code",
   "execution_count": 18,
   "metadata": {},
   "outputs": [
    {
     "name": "stdout",
     "output_type": "stream",
     "text": [
      "5\n",
      "<class 'int'>\n"
     ]
    }
   ],
   "source": [
    "a = 5.6\n",
    "b = int(a)\n",
    "print(b)\n",
    "print(type(b))"
   ]
  },
  {
   "cell_type": "code",
   "execution_count": 16,
   "metadata": {},
   "outputs": [
    {
     "name": "stdout",
     "output_type": "stream",
     "text": [
      "5.6\n",
      "<class 'str'>\n"
     ]
    }
   ],
   "source": [
    "a = 5.6\n",
    "b = str(a)\n",
    "print(b)\n",
    "print(type(b))"
   ]
  },
  {
   "cell_type": "code",
   "execution_count": 19,
   "metadata": {},
   "outputs": [
    {
     "name": "stdout",
     "output_type": "stream",
     "text": [
      "5.6\n",
      "<class 'float'>\n"
     ]
    }
   ],
   "source": [
    "a = \"5.6\"\n",
    "b = float(a)\n",
    "print(b)\n",
    "print(type(b))"
   ]
  },
  {
   "cell_type": "code",
   "execution_count": 20,
   "metadata": {},
   "outputs": [
    {
     "name": "stdout",
     "output_type": "stream",
     "text": [
      "5\n",
      "<class 'int'>\n"
     ]
    }
   ],
   "source": [
    "a = \"5\"\n",
    "b = int(a)\n",
    "print(b)\n",
    "print(type(b))"
   ]
  },
  {
   "cell_type": "markdown",
   "metadata": {},
   "source": [
    "Обратите внимание, что в каждой ячейке мы в строке 2 присваиваем в переменную значение, которое **возвращает** функция, а в строке 4 передаём такое значение в следующую функцию.\n",
    "\n",
    "Значения, возвращаемые функциями, можно передавать и по более длинным цепочкам:"
   ]
  },
  {
   "cell_type": "code",
   "execution_count": 24,
   "metadata": {},
   "outputs": [
    {
     "name": "stdout",
     "output_type": "stream",
     "text": [
      "5\n"
     ]
    }
   ],
   "source": [
    "print(int(float(\"5.6\")))"
   ]
  },
  {
   "cell_type": "markdown",
   "metadata": {},
   "source": [
    "В этом случае нужно следить, чтобы все открывающие и закрывающие скобки были на своих местах. Большинство редакторов показывает, где находится парная скобочка к выделенной."
   ]
  },
  {
   "cell_type": "code",
   "execution_count": 26,
   "metadata": {},
   "outputs": [
    {
     "ename": "SyntaxError",
     "evalue": "unmatched ')' (625200682.py, line 1)",
     "output_type": "error",
     "traceback": [
      "  \u001b[36mCell\u001b[39m\u001b[36m \u001b[39m\u001b[32mIn[26]\u001b[39m\u001b[32m, line 1\u001b[39m\n\u001b[31m    \u001b[39m\u001b[31mprint(int(float(\"5.6\"))))\u001b[39m\n                            ^\n\u001b[31mSyntaxError\u001b[39m\u001b[31m:\u001b[39m unmatched ')'\n"
     ]
    }
   ],
   "source": [
    "print(int(float(\"5.6\"))))"
   ]
  },
  {
   "cell_type": "markdown",
   "metadata": {},
   "source": [
    "Что выведет такой код?"
   ]
  },
  {
   "cell_type": "code",
   "execution_count": null,
   "metadata": {},
   "outputs": [],
   "source": [
    "print(str(int(4.9)))"
   ]
  },
  {
   "cell_type": "markdown",
   "metadata": {},
   "source": [
    "Данные должны подходить для преобразования: что будет, если мы попробуем сделать целое число из строки \"abc\"?"
   ]
  },
  {
   "cell_type": "code",
   "execution_count": 23,
   "metadata": {},
   "outputs": [
    {
     "ename": "ValueError",
     "evalue": "invalid literal for int() with base 10: 'abc'",
     "output_type": "error",
     "traceback": [
      "\u001b[31m---------------------------------------------------------------------------\u001b[39m",
      "\u001b[31mValueError\u001b[39m                                Traceback (most recent call last)",
      "\u001b[36mCell\u001b[39m\u001b[36m \u001b[39m\u001b[32mIn[23]\u001b[39m\u001b[32m, line 1\u001b[39m\n\u001b[32m----> \u001b[39m\u001b[32m1\u001b[39m \u001b[38;5;28mprint\u001b[39m(\u001b[38;5;28;43mint\u001b[39;49m\u001b[43m(\u001b[49m\u001b[33;43m\"\u001b[39;49m\u001b[33;43mabc\u001b[39;49m\u001b[33;43m\"\u001b[39;49m\u001b[43m)\u001b[49m)\n",
      "\u001b[31mValueError\u001b[39m: invalid literal for int() with base 10: 'abc'"
     ]
    }
   ],
   "source": [
    "print(int(\"abc\"))"
   ]
  },
  {
   "cell_type": "markdown",
   "metadata": {},
   "source": [
    "### Присваивание значений переменных в другие переменные"
   ]
  },
  {
   "cell_type": "markdown",
   "metadata": {},
   "source": [
    "В переменную можно, кроме готовых данных или результата работы какой-либо функции, присвоить значение другой переменной. Например:"
   ]
  },
  {
   "cell_type": "code",
   "execution_count": 27,
   "metadata": {},
   "outputs": [
    {
     "name": "stdout",
     "output_type": "stream",
     "text": [
      "5\n"
     ]
    }
   ],
   "source": [
    "a = 5\n",
    "b = a\n",
    "print(a)"
   ]
  },
  {
   "cell_type": "markdown",
   "metadata": {},
   "source": [
    "Напишем вместе программу, которая меняет значения двух переменных местами и выводит их значения на экран."
   ]
  },
  {
   "cell_type": "code",
   "execution_count": 1,
   "metadata": {},
   "outputs": [
    {
     "name": "stdout",
     "output_type": "stream",
     "text": [
      "6 5\n"
     ]
    }
   ],
   "source": [
    "a = 5\n",
    "b = 6\n",
    "\n",
    "c = a\n",
    "a = b\n",
    "b = c\n",
    "\n",
    "print(a, b)"
   ]
  },
  {
   "cell_type": "markdown",
   "metadata": {},
   "source": [
    "### Выражения. Арифметические операции"
   ]
  },
  {
   "attachments": {},
   "cell_type": "markdown",
   "metadata": {},
   "source": [
    "В переменную можно также присвоить результат вычисления какого-либо **выражения**. Если речь идёт о числах, то это могут быть какие-то арифметические операции. Например:"
   ]
  },
  {
   "cell_type": "code",
   "execution_count": 2,
   "metadata": {},
   "outputs": [
    {
     "name": "stdout",
     "output_type": "stream",
     "text": [
      "12\n"
     ]
    }
   ],
   "source": [
    "a = 5 + 7\n",
    "print(a)"
   ]
  },
  {
   "attachments": {},
   "cell_type": "markdown",
   "metadata": {},
   "source": [
    "В выражениях можно использовать имена переменных: в таком случае при вычислении программа подставит их значения."
   ]
  },
  {
   "cell_type": "code",
   "execution_count": 3,
   "metadata": {},
   "outputs": [
    {
     "name": "stdout",
     "output_type": "stream",
     "text": [
      "12\n"
     ]
    }
   ],
   "source": [
    "a = 5\n",
    "b = 7\n",
    "c = a + b\n",
    "print(c)"
   ]
  },
  {
   "attachments": {},
   "cell_type": "markdown",
   "metadata": {},
   "source": [
    "Кроме операции сложения `+`, мы можем проводить с числами следующие операции:\n",
    "\n",
    "`a - b`   вычитание\n",
    "\n",
    "`a * b`   умножение\n",
    "\n",
    "`a / b`   деление\n",
    "\n",
    "`a // b`  деление нацело (в результате получается целое число)\n",
    "\n",
    "`a ** b`  возведение в степень\n",
    "\n",
    "`a % b`   остаток от деления"
   ]
  },
  {
   "cell_type": "markdown",
   "metadata": {},
   "source": [
    "Общие правила определения приоритетов операций такие:<br/>\n",
    "\n",
    "Сначала выполняются операции возведения в степень справа налево, то есть 2 ** 3 ** 2 — это 2 ** (3 ** 2) = 512\n",
    "\n",
    "Затем выполняются унарные минусы (отрицания).\n",
    "\n",
    "Далее выполняются умножения и деления слева направо. Операции умножения и деления имеют одинаковый приоритет.\n",
    "\n",
    "И последними выполняются сложения и вычитания слева направо. Операции сложения и вычитания имеют одинаковый приоритет."
   ]
  },
  {
   "cell_type": "markdown",
   "metadata": {},
   "source": [
    "Что выведет такая программа?"
   ]
  },
  {
   "cell_type": "code",
   "execution_count": null,
   "metadata": {},
   "outputs": [],
   "source": [
    "print(3 * 2 ** 2)"
   ]
  },
  {
   "cell_type": "markdown",
   "metadata": {},
   "source": [
    "А такая программа?"
   ]
  },
  {
   "cell_type": "code",
   "execution_count": null,
   "metadata": {},
   "outputs": [],
   "source": [
    "print(4 * 2 ** (2 ** 2 ** 3 - 252))"
   ]
  },
  {
   "cell_type": "markdown",
   "metadata": {},
   "source": [
    "Обратите внимание, что деление будет всегда возвращать данные типа `float`!"
   ]
  },
  {
   "cell_type": "code",
   "execution_count": 13,
   "metadata": {},
   "outputs": [
    {
     "name": "stdout",
     "output_type": "stream",
     "text": [
      "2.5\n",
      "2.0\n"
     ]
    }
   ],
   "source": [
    "print(5 / 2)\n",
    "print(4 / 2)"
   ]
  },
  {
   "cell_type": "markdown",
   "metadata": {},
   "source": [
    "### Операции со строками"
   ]
  },
  {
   "attachments": {},
   "cell_type": "markdown",
   "metadata": {},
   "source": [
    "Со строками также можно проводить операцию сложения:"
   ]
  },
  {
   "cell_type": "code",
   "execution_count": 4,
   "metadata": {},
   "outputs": [
    {
     "name": "stdout",
     "output_type": "stream",
     "text": [
      "abcdef\n"
     ]
    }
   ],
   "source": [
    "a = \"abc\"\n",
    "b = \"def\"\n",
    "print(a + b)"
   ]
  },
  {
   "cell_type": "markdown",
   "metadata": {},
   "source": [
    "И операцию умножения на (целое!) число:"
   ]
  },
  {
   "cell_type": "code",
   "execution_count": 21,
   "metadata": {},
   "outputs": [
    {
     "name": "stdout",
     "output_type": "stream",
     "text": [
      "abcabcabcabcabc\n"
     ]
    }
   ],
   "source": [
    "a = \"abc\"\n",
    "print(a * 5)"
   ]
  },
  {
   "attachments": {},
   "cell_type": "markdown",
   "metadata": {},
   "source": [
    "Заметим, что в функцию `print()` можно подавать не только переменные, но и выражения."
   ]
  },
  {
   "cell_type": "markdown",
   "metadata": {},
   "source": [
    "Как написать программу, которая выводит на экран текст \"Your number is X!\", если дана переменная number с числом X?"
   ]
  },
  {
   "cell_type": "code",
   "execution_count": null,
   "metadata": {},
   "outputs": [],
   "source": [
    "number = 5"
   ]
  },
  {
   "cell_type": "markdown",
   "metadata": {},
   "source": [
    "А что будет, если мы попробуем сложить строку и число?"
   ]
  },
  {
   "cell_type": "code",
   "execution_count": 22,
   "metadata": {},
   "outputs": [
    {
     "ename": "TypeError",
     "evalue": "unsupported operand type(s) for +: 'int' and 'str'",
     "output_type": "error",
     "traceback": [
      "\u001b[31m---------------------------------------------------------------------------\u001b[39m",
      "\u001b[31mTypeError\u001b[39m                                 Traceback (most recent call last)",
      "\u001b[36mCell\u001b[39m\u001b[36m \u001b[39m\u001b[32mIn[22]\u001b[39m\u001b[32m, line 3\u001b[39m\n\u001b[32m      1\u001b[39m a: \u001b[38;5;28mint\u001b[39m = \u001b[32m5\u001b[39m\n\u001b[32m      2\u001b[39m b: \u001b[38;5;28mstr\u001b[39m = \u001b[33m\"\u001b[39m\u001b[33m6\u001b[39m\u001b[33m\"\u001b[39m\n\u001b[32m----> \u001b[39m\u001b[32m3\u001b[39m \u001b[38;5;28mprint\u001b[39m(\u001b[43ma\u001b[49m\u001b[43m \u001b[49m\u001b[43m+\u001b[49m\u001b[43m \u001b[49m\u001b[43mb\u001b[49m)\n",
      "\u001b[31mTypeError\u001b[39m: unsupported operand type(s) for +: 'int' and 'str'"
     ]
    }
   ],
   "source": [
    "a: int = 5\n",
    "b: str = \"6\"\n",
    "print(a + b)"
   ]
  },
  {
   "cell_type": "markdown",
   "metadata": {},
   "source": [
    "### Переопределение переменных"
   ]
  },
  {
   "attachments": {},
   "cell_type": "markdown",
   "metadata": {},
   "source": [
    "Имена переменных можно использовать заново и присваивать в них новые значения, в том числе с использованием старых:"
   ]
  },
  {
   "cell_type": "code",
   "execution_count": 10,
   "metadata": {},
   "outputs": [
    {
     "name": "stdout",
     "output_type": "stream",
     "text": [
      "6\n"
     ]
    }
   ],
   "source": [
    "a = 5\n",
    "a = a + 1\n",
    "print(a)"
   ]
  },
  {
   "cell_type": "markdown",
   "metadata": {},
   "source": [
    "Эквивалентная запись:"
   ]
  },
  {
   "cell_type": "code",
   "execution_count": 1,
   "metadata": {},
   "outputs": [
    {
     "name": "stdout",
     "output_type": "stream",
     "text": [
      "12\n"
     ]
    }
   ],
   "source": [
    "a = 5\n",
    "b = 7\n",
    "a = a + b\n",
    "print(a)"
   ]
  },
  {
   "cell_type": "code",
   "execution_count": 4,
   "metadata": {},
   "outputs": [
    {
     "name": "stdout",
     "output_type": "stream",
     "text": [
      "12\n"
     ]
    }
   ],
   "source": [
    "a = 5\n",
    "b = 7\n",
    "a += b\n",
    "print(a)"
   ]
  },
  {
   "cell_type": "markdown",
   "metadata": {},
   "source": [
    "`a += b` <-> `a = a + b`  \n",
    "`a -= b` <-> `a = a - b`  \n",
    "`a *= b` <-> `a = a * b`  \n",
    "`a /= b` <-> `a = a / b`  \n",
    "`a //= b` <-> `a = a // b`  \n",
    "`a **= b` <-> `a = a ** b`  \n",
    "`a %= b` <-> `a = a % b`  "
   ]
  },
  {
   "cell_type": "markdown",
   "metadata": {},
   "source": [
    "Со строками:"
   ]
  },
  {
   "cell_type": "code",
   "execution_count": 2,
   "metadata": {},
   "outputs": [
    {
     "name": "stdout",
     "output_type": "stream",
     "text": [
      "abcdef\n"
     ]
    }
   ],
   "source": [
    "a = \"abc\"\n",
    "a += \"def\"\n",
    "print(a)"
   ]
  },
  {
   "cell_type": "markdown",
   "metadata": {},
   "source": [
    "### Комментарии"
   ]
  },
  {
   "attachments": {},
   "cell_type": "markdown",
   "metadata": {},
   "source": [
    "В коде можно оставлять **комментарии**: это текст, который игнорируется программой и виден только человеку. Для этого перед таким текстом поставим символ решётки #\n",
    "\n",
    "Комментарии могут быть на той же строке, что и код, или занимать отдельную строку. В комментариях стоит писать пояснения к коду, чтобы его было легче читать и понимать, что он выполняет. Комментарии стоит писать по-английски, если только вы не уверены на 100 %, что больше никто этот код читать не будет."
   ]
  },
  {
   "cell_type": "code",
   "execution_count": 3,
   "metadata": {},
   "outputs": [
    {
     "name": "stdout",
     "output_type": "stream",
     "text": [
      "abc\n"
     ]
    }
   ],
   "source": [
    "# this program prints out the string \"abc\"\n",
    "print(\"abc\")  # we call the print() function"
   ]
  },
  {
   "cell_type": "markdown",
   "metadata": {},
   "source": [
    "### Задача об объёме параллелепипеда"
   ]
  },
  {
   "attachments": {},
   "cell_type": "markdown",
   "metadata": {},
   "source": [
    "Вместе напишем программу, которая выводит на экран объём параллелепипеда:"
   ]
  },
  {
   "cell_type": "code",
   "execution_count": null,
   "metadata": {},
   "outputs": [],
   "source": [
    "# заведём три переменные: длина, ширина и высота\n",
    "length = 5\n",
    "width = 7\n",
    "height = 2\n",
    "\n",
    "# объём параллелепипеда равен произведению его длины, ширины и высоты\n",
    "volume = length * width * height\n",
    "# выведем это произведение на экран\n",
    "print(volume)"
   ]
  },
  {
   "cell_type": "markdown",
   "metadata": {},
   "source": [
    "### Функция `input()`"
   ]
  },
  {
   "cell_type": "markdown",
   "metadata": {},
   "source": [
    "Данные можно не только задавать в переменных, но и вводить с клавиатуры. Для этого есть функция `input()`, в которую вы передаёте подсказку для пользователя:"
   ]
  },
  {
   "cell_type": "code",
   "execution_count": null,
   "metadata": {},
   "outputs": [],
   "source": [
    "name = input(\"Введите имя: \")\n",
    "print(name)"
   ]
  },
  {
   "cell_type": "markdown",
   "metadata": {},
   "source": [
    "Данные из `input()` всегда передаются в строковом виде, поэтому, если вы хотите получить число, воспользуйтесь встроенными функциями для преобразования:"
   ]
  },
  {
   "cell_type": "code",
   "execution_count": null,
   "metadata": {},
   "outputs": [],
   "source": [
    "integer_number = int(input(\"Введите целое число: \"))\n",
    "real_number = float(input(\"Введите вещественное число: \"))\n",
    "\n",
    "print(integer_number, real_number)"
   ]
  },
  {
   "cell_type": "markdown",
   "metadata": {},
   "source": [
    "Модифицируем программу про параллелепипед:"
   ]
  },
  {
   "cell_type": "code",
   "execution_count": null,
   "metadata": {},
   "outputs": [],
   "source": [
    "# заведём три переменные: длина, ширина и высота\n",
    "length = float(input(\"Введите длину: \"))\n",
    "width = float(input(\"Введите ширину: \"))\n",
    "height = float(input(\"Введите высоту: \"))\n",
    "\n",
    "# объём параллелепипеда равен произведению его длины, ширины и высоты\n",
    "volume = length * width * height\n",
    "# выведем это произведение на экран\n",
    "print(volume)"
   ]
  },
  {
   "cell_type": "markdown",
   "metadata": {},
   "source": [
    "### Задание на самостоятельное выполнение"
   ]
  },
  {
   "attachments": {},
   "cell_type": "markdown",
   "metadata": {},
   "source": [
    "Напишите программу, которая бы вычисляла расстояние между двумя точками на плоскости. Для каждой точки известны её координаты по осям x и y (задаются каждая в своей переменной). Пусть пользователь по очереди вводит необходимые данные с клавиатуры."
   ]
  },
  {
   "attachments": {},
   "cell_type": "markdown",
   "metadata": {},
   "source": [
    "Результат вывести на экран с помощью функции `print`.\n",
    "\n",
    "Подсказка: квадратный корень числа можно вычислить, используя операцию возведения в степень 0.5:"
   ]
  },
  {
   "cell_type": "code",
   "execution_count": 12,
   "metadata": {},
   "outputs": [
    {
     "name": "stdout",
     "output_type": "stream",
     "text": [
      "1.4142135623730951\n"
     ]
    }
   ],
   "source": [
    "print(2 ** 0.5)"
   ]
  },
  {
   "cell_type": "markdown",
   "metadata": {},
   "source": [
    "Решение:"
   ]
  },
  {
   "cell_type": "code",
   "execution_count": null,
   "metadata": {},
   "outputs": [],
   "source": [
    "x1 = float(input(\"Введите координату X первой точки: \"))\n",
    "y1 = float(input(\"Введите координату Y первой точки: \"))\n",
    "x2 = float(input(\"Введите координату X второй точки: \"))\n",
    "y2 = float(input(\"Введите координату Y второй точки: \"))\n",
    "\n",
    "distance = ((x2 - x1) ** 2 + (y2 - y1) ** 2) ** 0.5"
   ]
  },
  {
   "cell_type": "markdown",
   "metadata": {},
   "source": [
    "### Домашнее задание"
   ]
  },
  {
   "cell_type": "markdown",
   "metadata": {},
   "source": [
    "Напишите программу, которая считывает целое число и выводит текст, аналогичный приведённому в примере. Пробелы, знаки препинания, заглавные и строчные буквы важны!\n",
    "\n",
    "Входные данные:\n",
    "\n",
    "Вводится целое число, по модулю не превосходящее 10000\n",
    "\n",
    "Выходные данные:\n",
    "\n",
    "На экран выводится фраза \"X times 2 equals Y\", где Y &mdash; введённое число, а X &mdash; половина от него.\n",
    "\n",
    "Например:\n",
    "\n",
    "Пользователь вводит число 7. Программа выводит текст \"3.5 times 2 equals 7\""
   ]
  }
 ],
 "metadata": {
  "kernelspec": {
   "display_name": "Python 3",
   "language": "python",
   "name": "python3"
  },
  "language_info": {
   "codemirror_mode": {
    "name": "ipython",
    "version": 3
   },
   "file_extension": ".py",
   "mimetype": "text/x-python",
   "name": "python",
   "nbconvert_exporter": "python",
   "pygments_lexer": "ipython3",
   "version": "3.13.5"
  },
  "orig_nbformat": 4,
  "vscode": {
   "interpreter": {
    "hash": "364dcd152da2692276e72902df2858159ccc300c15062838033fe03303e9b26c"
   }
  }
 },
 "nbformat": 4,
 "nbformat_minor": 2
}
