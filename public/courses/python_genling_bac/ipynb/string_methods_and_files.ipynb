{
 "cells": [
  {
   "cell_type": "markdown",
   "metadata": {},
   "source": [
    "### Escape-последовательности\n",
    "\n",
    "`\\n` &mdash; новая строка  \n",
    "`\\r` &mdash; возврат каретки  \n",
    "`\\t` &mdash; табуляция  \n",
    "\n",
    "Вместе с пробелом (`' '`) они составляют пробельные символы.\n",
    "\n",
    "`\\\\` &mdash; обратный слэш"
   ]
  },
  {
   "cell_type": "code",
   "execution_count": 1,
   "metadata": {},
   "outputs": [
    {
     "name": "stdout",
     "output_type": "stream",
     "text": [
      "a\n",
      "b\tc\n"
     ]
    }
   ],
   "source": [
    "print(\"a\\nb\\tc\")"
   ]
  },
  {
   "cell_type": "markdown",
   "metadata": {},
   "source": [
    "### Методы для работы со строками\n",
    "\n",
    "Python поддерживает ряд методов для работы со строками. Так как строки неизменяемы, методы возвращают новые строки, а старые остаются без изменений.\n",
    "\n",
    "Вспомним, что чтобы вызвать метод, нужно после переменной, указывающей на строку, поставить точку (без пробелов) и написать имя нужного метода с круглыми скобками, в которых нужно перечислтить аргументы, если они есть.\n",
    "\n",
    "Метод `.split()` позволяет разбить строку на подстроки по какому-нибудь символу-разделителю. Он возвращает список строк. По умолчанию разделитель &ndash; любая последовательность пробельных символов."
   ]
  },
  {
   "cell_type": "code",
   "execution_count": 2,
   "metadata": {},
   "outputs": [
    {
     "name": "stdout",
     "output_type": "stream",
     "text": [
      "['1,', '2,', '3', '4']\n"
     ]
    }
   ],
   "source": [
    "a = \"1, 2, 3\\t4\"\n",
    "a = a.split()\n",
    "print(a)"
   ]
  },
  {
   "cell_type": "code",
   "execution_count": 3,
   "metadata": {},
   "outputs": [
    {
     "name": "stdout",
     "output_type": "stream",
     "text": [
      "['1,', '2,', '3', '4']\n"
     ]
    }
   ],
   "source": [
    "a = \"1, 2, 3\\t   4\"\n",
    "a = a.split()\n",
    "print(a)"
   ]
  },
  {
   "cell_type": "code",
   "execution_count": 4,
   "metadata": {},
   "outputs": [
    {
     "name": "stdout",
     "output_type": "stream",
     "text": [
      "['1', '2', '3']\n"
     ]
    }
   ],
   "source": [
    "a = \"1, 2, 3\"\n",
    "a = a.split(\", \")\n",
    "print(a)"
   ]
  },
  {
   "cell_type": "code",
   "execution_count": 1,
   "metadata": {},
   "outputs": [
    {
     "name": "stdout",
     "output_type": "stream",
     "text": [
      "['1', '2', '3']\n"
     ]
    }
   ],
   "source": [
    "a = \"1-2-3\"\n",
    "a = a.split(\"-\")\n",
    "print(a)"
   ]
  },
  {
   "cell_type": "markdown",
   "metadata": {},
   "source": [
    "Параметр `maxsplit` позволяет указать максимальное количество разбиений."
   ]
  },
  {
   "cell_type": "code",
   "execution_count": 5,
   "metadata": {},
   "outputs": [
    {
     "name": "stdout",
     "output_type": "stream",
     "text": [
      "['1', '2, 3']\n"
     ]
    }
   ],
   "source": [
    "a = \"1, 2, 3\"\n",
    "a = a.split(\", \", maxsplit=1)\n",
    "print(a)"
   ]
  },
  {
   "cell_type": "markdown",
   "metadata": {},
   "source": [
    "Если мы хотим отсчитывать разбиения справа, используем метод `.rsplit()`."
   ]
  },
  {
   "cell_type": "code",
   "execution_count": 6,
   "metadata": {},
   "outputs": [
    {
     "name": "stdout",
     "output_type": "stream",
     "text": [
      "['1, 2', '3']\n"
     ]
    }
   ],
   "source": [
    "a = \"1, 2, 3\"\n",
    "a = a.rsplit(\", \", maxsplit=1)\n",
    "print(a)"
   ]
  },
  {
   "cell_type": "markdown",
   "metadata": {},
   "source": [
    "Метод `.strip()` позволяет обрезать пробельные символы по краям строки. `.lstrip()` делает это только слева, `.rstrip()` &ndash; только справа."
   ]
  },
  {
   "cell_type": "code",
   "execution_count": 7,
   "metadata": {},
   "outputs": [
    {
     "name": "stdout",
     "output_type": "stream",
     "text": [
      "['a', '   a', 'a\\t']\n"
     ]
    }
   ],
   "source": [
    "a = \"   a\\t\"\n",
    "print([a.strip(), a.rstrip(), a.lstrip()])"
   ]
  },
  {
   "cell_type": "markdown",
   "metadata": {},
   "source": [
    "#### Контрольный вопрос\n",
    "\n",
    "Дан список строк, в каждой из которых содержится следующая информация: имя студента, курс и тема курсовой через запятую. При этом тема курсовой может содержать запятые. Постройте список, в котором каждый элемент &ndash; список из этих трёх элементов: `[\"Имя\", \"Курс\", \"Тема\"]`. Используйте `.split()`."
   ]
  },
  {
   "cell_type": "code",
   "execution_count": 2,
   "metadata": {},
   "outputs": [],
   "source": [
    "data = [\n",
    "    \"Петр Иванов, 2, Культура, литература и религия Британских островов\",\n",
    "    \"Василий Сидоров, 3, Популярная культура как измерение постпостмодернизма: феноменология, теория, критика\",\n",
    "    \"Анна Петрова, 3, Выражение иронии в речи, жестах и мимике\",\n",
    "    \"Валерия Смирнова, 2, Региональные варианты русской интонации\",\n",
    "]"
   ]
  },
  {
   "cell_type": "markdown",
   "metadata": {},
   "source": [
    "<details>\n",
    "<summary>Ответ</summary>\n",
    "<pre>\n",
    "data_split = []\n",
    "for row in data:\n",
    "    row = row.split(\", \", maxsplit=2)\n",
    "    data_split.append(row)\n",
    "print(data_split)\n",
    "</pre>\n",
    "</details>"
   ]
  },
  {
   "cell_type": "markdown",
   "metadata": {},
   "source": [
    "Метод `.join()` позволяет объединить список строк (или любой другой итерируемый объект, например, строку) с некоторой строкой как разделителем."
   ]
  },
  {
   "cell_type": "code",
   "execution_count": 8,
   "metadata": {},
   "outputs": [
    {
     "name": "stdout",
     "output_type": "stream",
     "text": [
      "1-2-3\n"
     ]
    }
   ],
   "source": [
    "a = [\"1\", \"2\", \"3\"]\n",
    "print(\"-\".join(a))"
   ]
  },
  {
   "cell_type": "code",
   "execution_count": null,
   "metadata": {},
   "outputs": [
    {
     "name": "stdout",
     "output_type": "stream",
     "text": [
      "1-2-3\n"
     ]
    }
   ],
   "source": [
    "a = \"123\"\n",
    "print(\"-\".join(a))"
   ]
  },
  {
   "cell_type": "markdown",
   "metadata": {},
   "source": [
    "Если разделитель не нужен, укажем в качестве него пустую строку."
   ]
  },
  {
   "cell_type": "code",
   "execution_count": null,
   "metadata": {},
   "outputs": [
    {
     "name": "stdout",
     "output_type": "stream",
     "text": [
      "1 2 3\n"
     ]
    }
   ],
   "source": [
    "a = [\"1\", \"2\", \"3\"]\n",
    "print(\"\".join(a))"
   ]
  },
  {
   "cell_type": "markdown",
   "metadata": {},
   "source": [
    "#### Контрольный вопрос\n",
    "\n",
    "Дан список слов. Постройте новый список, где между буквами слов будут знаки `+`. Используйте метод `.join()`."
   ]
  },
  {
   "cell_type": "code",
   "execution_count": 3,
   "metadata": {},
   "outputs": [],
   "source": [
    "words = [\"собака\", \"арба\", \"карандаш\", \"мама\", \"стол\"]"
   ]
  },
  {
   "cell_type": "markdown",
   "metadata": {},
   "source": [
    "<details>\n",
    "<summary>Ответ:</summary>\n",
    "<pre>\n",
    "newwords = [\"+\".join(w) for w in words]\n",
    "print(newwords)\n",
    "</pre>\n",
    "</details>"
   ]
  },
  {
   "cell_type": "markdown",
   "metadata": {},
   "source": [
    "Метод `.replace()` позволяет заменить заданные подстроки в строке на что-то другое."
   ]
  },
  {
   "cell_type": "code",
   "execution_count": 10,
   "metadata": {},
   "outputs": [
    {
     "name": "stdout",
     "output_type": "stream",
     "text": [
      "1+2+3+4+5\n"
     ]
    }
   ],
   "source": [
    "a = \"1_2_3_4_5\"\n",
    "print(a.replace(\"_\", \"+\"))"
   ]
  },
  {
   "cell_type": "code",
   "execution_count": 11,
   "metadata": {},
   "outputs": [
    {
     "name": "stdout",
     "output_type": "stream",
     "text": [
      "12345\n"
     ]
    }
   ],
   "source": [
    "a = \"1_2_3_4_5\"\n",
    "print(a.replace(\"_\", \"\"))"
   ]
  },
  {
   "cell_type": "markdown",
   "metadata": {},
   "source": [
    "#### Контрольный вопрос\n",
    "\n",
    "Дан список слов. Замените в каждом слове все гласные буквы на нижнее подчёркивание `_`."
   ]
  },
  {
   "cell_type": "code",
   "execution_count": 4,
   "metadata": {},
   "outputs": [],
   "source": [
    "words = [\n",
    "    \"собака\", \"арба\", \"карандаш\", \"мама\", \"стол\",\n",
    "    \"парашют\", \"ананас\", \"табурет\", \"старатель\"\n",
    "]\n"
   ]
  },
  {
   "cell_type": "markdown",
   "metadata": {},
   "source": [
    "<details>\n",
    "<summary>Ответ:</summary>\n",
    "<pre>\n",
    "newwords = []\n",
    "vowels = \"аяоёуюыиэе\"\n",
    "for word in words:\n",
    "    for v in vowels:\n",
    "        word = word.replace(v, \"_\")\n",
    "        # обратите внимание, что внутренний цикл нужен!\n",
    "        # мы перебираем все гласные и по очереди каждую заменяем на _\n",
    "    newwords.append(word)\n",
    "print(newwords)\n",
    "</pre>\n",
    "</details>"
   ]
  },
  {
   "cell_type": "markdown",
   "metadata": {},
   "source": [
    "Метод `.startswith()` позволяет определить, начинается ли строка с заданной подстроки (`True`) или нет (`False`). `.endswith()` &ndash; то же самое для конца строки."
   ]
  },
  {
   "cell_type": "code",
   "execution_count": 12,
   "metadata": {},
   "outputs": [
    {
     "name": "stdout",
     "output_type": "stream",
     "text": [
      "True\n"
     ]
    }
   ],
   "source": [
    "a = \"this is a test\"\n",
    "print(a.endswith(\"est\"))"
   ]
  },
  {
   "cell_type": "markdown",
   "metadata": {},
   "source": [
    "#### Контрольный вопрос\n",
    "\n",
    "Дан список слов. Постройте новый список слов, где будут только слова, начинающиеся на \"аб\". Выведите на экран все эти слова через дефис."
   ]
  },
  {
   "cell_type": "code",
   "execution_count": 5,
   "metadata": {},
   "outputs": [],
   "source": [
    "words = [\"абрикос\", \"арба\", \"алтын\", \"абак\", \"аббатство\", \"аркан\"]\n"
   ]
  },
  {
   "cell_type": "markdown",
   "metadata": {},
   "source": [
    "<details>\n",
    "<summary>Ответ:</summary>\n",
    "<pre>\n",
    "ab_words = [w for w in words if w.startswith(\"аб\")]\n",
    "print(ab_words)\n",
    "</pre>\n",
    "</details>"
   ]
  },
  {
   "cell_type": "markdown",
   "metadata": {},
   "source": [
    "Методы `.upper()`, `.lower()` и `.capitalize()` управляют регистром строки."
   ]
  },
  {
   "cell_type": "code",
   "execution_count": 13,
   "metadata": {},
   "outputs": [
    {
     "name": "stdout",
     "output_type": "stream",
     "text": [
      "THIS IS A TEST\n",
      "this is a test\n",
      "This is a test\n"
     ]
    }
   ],
   "source": [
    "a = \"tHiS iS a TeSt\"\n",
    "print(a.upper())\n",
    "print(a.lower())\n",
    "print(a.capitalize())"
   ]
  },
  {
   "cell_type": "markdown",
   "metadata": {},
   "source": [
    "С полным списком строковых методов можно ознакомиться в [документации](https://docs.python.org/3/library/stdtypes.html#string-methods)."
   ]
  },
  {
   "cell_type": "markdown",
   "metadata": {},
   "source": [
    "### Особые типы строк\n",
    "\n",
    "\"Сырые\" строки (r-строки) не учитывают escape-последовательности."
   ]
  },
  {
   "cell_type": "code",
   "execution_count": 14,
   "metadata": {},
   "outputs": [
    {
     "name": "stdout",
     "output_type": "stream",
     "text": [
      "a\tb\n",
      "a\\tb\n"
     ]
    }
   ],
   "source": [
    "a = \"a\\tb\"\n",
    "b = r\"a\\tb\"\n",
    "print(a)\n",
    "print(b)"
   ]
  },
  {
   "cell_type": "markdown",
   "metadata": {},
   "source": [
    "Форматные строки (f-строки) позволяют вставлять в строку значения переменных."
   ]
  },
  {
   "cell_type": "code",
   "execution_count": 15,
   "metadata": {},
   "outputs": [
    {
     "name": "stdout",
     "output_type": "stream",
     "text": [
      "some value: 4,  another value: 1\n"
     ]
    }
   ],
   "source": [
    "a = 4\n",
    "b = \"1\"\n",
    "c = f\"some value: {a},  another value: {b}\"\n",
    "print(c)"
   ]
  },
  {
   "cell_type": "markdown",
   "metadata": {},
   "source": [
    "С названиями переменных:"
   ]
  },
  {
   "cell_type": "code",
   "execution_count": 16,
   "metadata": {},
   "outputs": [
    {
     "name": "stdout",
     "output_type": "stream",
     "text": [
      "some value: a=4,  another value: b='1'\n"
     ]
    }
   ],
   "source": [
    "c = f\"some value: {a=},  another value: {b=}\"\n",
    "print(c)"
   ]
  },
  {
   "cell_type": "markdown",
   "metadata": {},
   "source": [
    "Если хотим \"добить\" нулями до определённой длины:"
   ]
  },
  {
   "cell_type": "code",
   "execution_count": 17,
   "metadata": {},
   "outputs": [
    {
     "name": "stdout",
     "output_type": "stream",
     "text": [
      "0011\n"
     ]
    }
   ],
   "source": [
    "x = 11\n",
    "print(f\"{x:04d}\")"
   ]
  },
  {
   "cell_type": "markdown",
   "metadata": {},
   "source": [
    "#### Контрольный вопрос\n",
    "\n",
    "Напишите программу, которая принимает на вход два целых числа (от 0 до 23 и от 0 до 59) и выводит на экран время в формате `HH:mm`."
   ]
  },
  {
   "cell_type": "code",
   "execution_count": null,
   "metadata": {},
   "outputs": [],
   "source": []
  },
  {
   "cell_type": "markdown",
   "metadata": {},
   "source": [
    "<details>\n",
    "<summary>Ответ:</summary>\n",
    "<pre>\n",
    "h = int(input())\n",
    "m = int(input())\n",
    "if not (0 <= h <= 23 or 0 <= m <= 59):\n",
    "    print(\"Invalid time!\")\n",
    "else:\n",
    "    print(f\"{h:02d}:{m:02d}\")\n",
    "</pre>\n",
    "\n",
    "</details>"
   ]
  },
  {
   "cell_type": "markdown",
   "metadata": {},
   "source": [
    "Если нужна определённая точность:"
   ]
  },
  {
   "cell_type": "code",
   "execution_count": 18,
   "metadata": {},
   "outputs": [
    {
     "name": "stdout",
     "output_type": "stream",
     "text": [
      "11.1231\n"
     ]
    }
   ],
   "source": [
    "y = 11.123123123123\n",
    "print(f\"{y:.4f}\")"
   ]
  },
  {
   "cell_type": "markdown",
   "metadata": {},
   "source": [
    "Полную спецификацию можно посмотреть в [документации](https://docs.python.org/3/library/string.html#format-specification-mini-language)."
   ]
  },
  {
   "cell_type": "markdown",
   "metadata": {},
   "source": [
    "Многострочные строки:"
   ]
  },
  {
   "cell_type": "code",
   "execution_count": 19,
   "metadata": {},
   "outputs": [
    {
     "name": "stdout",
     "output_type": "stream",
     "text": [
      "Line 1\n",
      "Line 2\n",
      "Line 3\n",
      "Line 4\n"
     ]
    }
   ],
   "source": [
    "text = \"\"\"Line 1\n",
    "Line 2\n",
    "Line 3\n",
    "Line 4\"\"\"\n",
    "print(text)"
   ]
  },
  {
   "cell_type": "markdown",
   "metadata": {},
   "source": [
    "В таких строках часто оформляют документацию (т.н. doc-строки). Обратите внимание, что это не комментарии!"
   ]
  },
  {
   "cell_type": "markdown",
   "metadata": {},
   "source": [
    "### Работа с текстовыми файлами"
   ]
  },
  {
   "cell_type": "markdown",
   "metadata": {},
   "source": [
    "Python обладает удобным интерфейсом, позволяющим считывать данные из текстовых файлов и записывать в них новые. Обычно у таких файлов расширение .txt, но оно на самом деле может быть любым. Такие файлы можно открыть в программе &laquo;Блокнот&raquo; или прямо в редакторе исходного кода.\n",
    "\n",
    "Чтобы работать с файлом, его нужно открыть. Для этого есть функция `open()`. В неё передаётся два аргумента:\n",
    "* имя файла (или путь к нему) в виде строки &mdash; полностью, вместе с расширением\n",
    "* специальная строка, которая показывает, в каком режиме будет открыт файл: `\"r\"` &mdash; режим чтения, `\"w\"` &mdash; режим записи, `\"a\"` &mdash; режим дописывания в конец существующего файла.\n",
    "* третий (опциональный аргумент) &mdash; `encoding`, в который передадим название кодировки\n",
    "\n",
    "Функция возвращает специальный объект, через который можно получать доступ к файлу с помощью специальных методов."
   ]
  },
  {
   "cell_type": "markdown",
   "metadata": {},
   "source": [
    "1. Чтение\n",
    "\n",
    "Файл будет читаться из текущей директории! Если такого файла нет, возникнет ошибка."
   ]
  },
  {
   "cell_type": "markdown",
   "metadata": {},
   "source": [
    "Скачаем тестовый файл (обратите внимание, что это консольная команда, которая не будет работать в файле .py)."
   ]
  },
  {
   "cell_type": "code",
   "execution_count": null,
   "metadata": {},
   "outputs": [],
   "source": [
    "!wget https://phonetics-spbu.github.io/courses/python_genling_bac/files/test.txt"
   ]
  },
  {
   "cell_type": "code",
   "execution_count": null,
   "metadata": {},
   "outputs": [
    {
     "name": "stdout",
     "output_type": "stream",
     "text": [
      "Был тихий серый вечер.\n",
      "Дул ветер, слабый и тёплый.\n",
      "Небо было покрыто тучами, сквозь которые иногда прорывались лучи заходящего солнца.\n",
      "\n"
     ]
    }
   ],
   "source": [
    "f = open(\"test.txt\", \"r\", encoding=\"utf-8\")\n",
    "text = f.read()  # считываем весь текст одной строкой\n",
    "f.close()  # закроем файл\n",
    "print(text)"
   ]
  },
  {
   "cell_type": "code",
   "execution_count": null,
   "metadata": {},
   "outputs": [
    {
     "name": "stdout",
     "output_type": "stream",
     "text": [
      "['Был тихий серый вечер.\\n', 'Дул ветер, слабый и тёплый.\\n', 'Небо было покрыто тучами, сквозь которые иногда прорывались лучи заходящего солнца.\\n']\n"
     ]
    }
   ],
   "source": [
    "f = open(\"test.txt\", \"r\", encoding=\"utf-8\")\n",
    "lines = f.readlines()  # считываем весь текст построчно, получаем список строк\n",
    "f.close()\n",
    "print(lines)"
   ]
  },
  {
   "cell_type": "markdown",
   "metadata": {},
   "source": [
    "Принято использовать т.н. context manager, чтобы файл закрывался автоматически:"
   ]
  },
  {
   "cell_type": "code",
   "execution_count": null,
   "metadata": {},
   "outputs": [],
   "source": [
    "with open(\"test.txt\", \"r\", encoding=\"utf-8\") as f:\n",
    "    lines = f.readlines()\n",
    "print(lines)"
   ]
  },
  {
   "cell_type": "markdown",
   "metadata": {},
   "source": [
    "2. Запись\n",
    "\n",
    "Если файла с таким названием не существует, он будет создан. Существующий файл будет перезаписан."
   ]
  },
  {
   "cell_type": "code",
   "execution_count": null,
   "metadata": {},
   "outputs": [],
   "source": [
    "with open(\"test_out.txt\", \"w\", encoding=\"utf-8\") as f:\n",
    "    f.write(\"test\")"
   ]
  },
  {
   "cell_type": "markdown",
   "metadata": {},
   "source": [
    "3. Добавление в существующий файл\n",
    "\n",
    "Если файла с таким названием не существует, он будет создан."
   ]
  },
  {
   "cell_type": "code",
   "execution_count": null,
   "metadata": {},
   "outputs": [],
   "source": [
    "with open(\"test_out.txt\", \"a\", encoding=\"utf-8\") as f:\n",
    "    f.write(\"test\")"
   ]
  },
  {
   "cell_type": "markdown",
   "metadata": {},
   "source": [
    "Также можно задать путь к файлу, относительный или абсолютный.\n",
    "\n",
    "Таким образом: чтобы работать с файлом, либо поместите его в ту же директорию, где лежит ваш код, либо пропишите перед именем файла его полный путь (можно посмотреть в Проводнике в меню &laquo;Свойства&raquo;).\n",
    "\n",
    "Путь можно задать с помощью прямых слешей:"
   ]
  },
  {
   "cell_type": "code",
   "execution_count": null,
   "metadata": {},
   "outputs": [],
   "source": [
    "with open(\"C:/users/user/downloads/test.txt\", \"r\", encoding=\"utf-8\") as f:\n",
    "    lines = f.readlines()\n",
    "print(lines)"
   ]
  },
  {
   "cell_type": "markdown",
   "metadata": {},
   "source": [
    "Или, на Windows, с помощью обратных (обратите внимание, что во втором случае используется r-строка!):"
   ]
  },
  {
   "cell_type": "code",
   "execution_count": null,
   "metadata": {},
   "outputs": [],
   "source": [
    "with open(\"C:\\\\users\\\\user\\\\downloads\\\\test.txt\", \"r\", encoding=\"utf-8\") as f:\n",
    "    lines = f.readlines()\n",
    "print(lines)"
   ]
  },
  {
   "cell_type": "code",
   "execution_count": null,
   "metadata": {},
   "outputs": [],
   "source": [
    "with open(r\"C:\\users\\user\\downloads\\test.txt\", \"r\", encoding=\"utf-8\") as f:\n",
    "    lines = f.readlines()\n",
    "print(lines)"
   ]
  },
  {
   "cell_type": "markdown",
   "metadata": {},
   "source": [
    "### Практические задания"
   ]
  },
  {
   "cell_type": "markdown",
   "metadata": {},
   "source": [
    "#### Задание 1\n",
    "\n",
    "а) Дан список слов. Создайте новый список, где все буквы \"а\" будут заменены на \"ы\"."
   ]
  },
  {
   "cell_type": "code",
   "execution_count": 7,
   "metadata": {},
   "outputs": [],
   "source": [
    "words = [\"абрикос\", \"арба\", \"алтын\", \"абак\", \"аббатство\", \"аркан\"]\n"
   ]
  },
  {
   "cell_type": "markdown",
   "metadata": {},
   "source": [
    "\n",
    "б) Дан текст. Сделайте так, чтобы после каждой точки был перевод строки."
   ]
  },
  {
   "cell_type": "code",
   "execution_count": 6,
   "metadata": {},
   "outputs": [],
   "source": [
    "text = \"Text text.Text text text.Text.Text text text\"\n"
   ]
  },
  {
   "cell_type": "markdown",
   "metadata": {},
   "source": [
    "#### Задание 2\n",
    "\n",
    "Откройте файл *test.txt* и прочитайте из него текст. Уберите из него запятые и точки с помощью `.replace()`, приведите к нижнему регистру и создайте список всех слов, которые начинаются на букву \"т\". Выведите на экран все эти слова через нижнее подчёркнивание."
   ]
  },
  {
   "cell_type": "code",
   "execution_count": null,
   "metadata": {},
   "outputs": [],
   "source": []
  }
 ],
 "metadata": {
  "kernelspec": {
   "display_name": "Python 3",
   "language": "python",
   "name": "python3"
  },
  "language_info": {
   "codemirror_mode": {
    "name": "ipython",
    "version": 3
   },
   "file_extension": ".py",
   "mimetype": "text/x-python",
   "name": "python",
   "nbconvert_exporter": "python",
   "pygments_lexer": "ipython3",
   "version": "3.13.2"
  }
 },
 "nbformat": 4,
 "nbformat_minor": 2
}
