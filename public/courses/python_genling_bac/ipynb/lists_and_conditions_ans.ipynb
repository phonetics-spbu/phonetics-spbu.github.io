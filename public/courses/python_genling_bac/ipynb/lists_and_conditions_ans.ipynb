{
 "cells": [
  {
   "cell_type": "markdown",
   "id": "2216fa98",
   "metadata": {},
   "source": [
    "#### Задание 1\n",
    "\n",
    "Напишите программу, которая принимает на вход координаты точки (x, y) и определяет, в каком месте плоскости она находится: в одной из четвертей, на одной из осей или в начале координат."
   ]
  },
  {
   "cell_type": "markdown",
   "id": "931626ba",
   "metadata": {},
   "source": [
    "![image](https://phonetics-spbu.github.io/courses/python_genling_bac/images/plane.png)"
   ]
  },
  {
   "cell_type": "code",
   "execution_count": 2,
   "id": "5d2e00cc",
   "metadata": {},
   "outputs": [
    {
     "name": "stdout",
     "output_type": "stream",
     "text": [
      "IV четверть\n"
     ]
    }
   ],
   "source": [
    "x = float(input(\"Введите координату X: \"))\n",
    "y = float(input(\"Введите координату Y: \"))\n",
    "if x > 0 and y > 0:\n",
    "    print(\"I четверть\")\n",
    "elif x < 0 and y > 0:\n",
    "    print(\"II четверть\")\n",
    "elif x < 0 and y < 0:\n",
    "    print(\"III четверть\")\n",
    "elif x > 0 and y < 0:\n",
    "    print(\"IV четверть\")\n",
    "elif x == 0 and y != 0:\n",
    "    print(\"Ось Y\")\n",
    "elif x != 0 and y == 0:\n",
    "    print(\"Ось X\")\n",
    "elif x == 0 and y == 0:\n",
    "    print(\"Начало координат\")"
   ]
  },
  {
   "cell_type": "markdown",
   "id": "e0dd65da",
   "metadata": {},
   "source": [
    "#### Задание 2\n",
    "\n",
    "Напишите программу, которая считывает с клавиатуры целое число от 1 до 12 и выводит на экран название соответствующего месяца. Если число меньше 1 или больше 12, выведите на экран, что такого месяца не существует.\n",
    "\n",
    "Подсказка: создайте список, содержащий названия всех месяцев в строковом представлении. Помните, что индексация списков в Python начинается с 0!"
   ]
  },
  {
   "cell_type": "code",
   "execution_count": null,
   "id": "52a4c690",
   "metadata": {},
   "outputs": [
    {
     "name": "stdout",
     "output_type": "stream",
     "text": [
      "апрель\n"
     ]
    }
   ],
   "source": [
    "months = [\n",
    "    \"январь\",\n",
    "    \"февраль\",\n",
    "    \"март\",\n",
    "    \"апрель\",\n",
    "    \"май\",\n",
    "    \"июнь\",\n",
    "    \"июль\",\n",
    "    \"август\",\n",
    "    \"сентябрь\",\n",
    "    \"октябрь\",\n",
    "    \"ноябрь\",\n",
    "    \"декабрь\"\n",
    "]\n",
    "\n",
    "month_number = int(input(\"Введите номер месяца\")) - 1\n",
    "if month_number < 0 or month_number > 11:\n",
    "    print(\"Такого месяца не существует\")\n",
    "else:\n",
    "    print(months[month_number])"
   ]
  },
  {
   "cell_type": "markdown",
   "id": "796ee704",
   "metadata": {},
   "source": [
    "#### Задание 3\n",
    "\n",
    "Напишите программу, которая принимает на вход длины трёх сторон треугольника и классифицирует его как равносторонний, равнобедренный или разносторонний."
   ]
  },
  {
   "cell_type": "code",
   "execution_count": 3,
   "id": "dc08425d",
   "metadata": {},
   "outputs": [
    {
     "name": "stdout",
     "output_type": "stream",
     "text": [
      "Треугольник равносторонний\n"
     ]
    }
   ],
   "source": [
    "a = float(input(\"Сторона A: \"))\n",
    "b = float(input(\"Сторона B: \"))\n",
    "c = float(input(\"Сторона C: \"))\n",
    "if a == b == c:\n",
    "    print(\"Треугольник равносторонний\")\n",
    "elif a == b or a == c or b == c:\n",
    "    print(\"Треугольник равнобедренный\")\n",
    "else:\n",
    "    print(\"Треугольник равносторонний\")"
   ]
  }
 ],
 "metadata": {
  "kernelspec": {
   "display_name": "Python 3",
   "language": "python",
   "name": "python3"
  },
  "language_info": {
   "codemirror_mode": {
    "name": "ipython",
    "version": 3
   },
   "file_extension": ".py",
   "mimetype": "text/x-python",
   "name": "python",
   "nbconvert_exporter": "python",
   "pygments_lexer": "ipython3",
   "version": "3.13.2"
  }
 },
 "nbformat": 4,
 "nbformat_minor": 5
}
