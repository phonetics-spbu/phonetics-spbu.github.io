{
  "nbformat": 4,
  "nbformat_minor": 0,
  "metadata": {
    "colab": {
      "provenance": []
    },
    "kernelspec": {
      "name": "python3",
      "display_name": "Python 3"
    },
    "language_info": {
      "name": "python"
    }
  },
  "cells": [
    {
      "cell_type": "markdown",
      "source": [
        "<h2>Классы в Python</h2>\n",
        "\n",
        "<p> Классы - это фундаментальная концепция объектно-ориентированного программирования (ООП). Они позволяют создавать собственные типы данных.</p>\n",
        "\n",
        "<p>Класс - это шаблон для создания объектов. Объекты - это экземпляры классов.</p>\n",
        "\n",
        "<p>\n",
        "Классы в Python предоставляют мощный инструмент для организации кода, делая его более:\n",
        "\n",
        "* Модульным - легче поддерживать и изменять\n",
        "\n",
        "* Переиспользуемым - код можно использовать многократно\n",
        "\n",
        "* Расширяемым - легко добавлять новую функциональность\n",
        "\n",
        "* Понятным - лучше отражает реальные объекты и процессы</p>\n"
      ],
      "metadata": {
        "id": "bbvRedChpbUN"
      }
    },
    {
      "cell_type": "code",
      "execution_count": null,
      "metadata": {
        "id": "PPSU7hmupTP3"
      },
      "outputs": [],
      "source": [
        "class Dog:\n",
        "    # Атрибут класса (общий для всех экземпляров)\n",
        "    species = \"Canis familiaris\"\n",
        "\n",
        "    # Конструктор (инициализатор)\n",
        "    def __init__(self, name, age):\n",
        "        # Атрибуты экземпляра\n",
        "        self.name = name\n",
        "        self.age = age\n",
        "\n",
        "    # Метод экземпляра\n",
        "    def bark(self):\n",
        "        return f\"{self.name} говорит: Гав!\"\n",
        "\n",
        "    # Еще один метод\n",
        "    def get_info(self):\n",
        "        return f\"{self.name} - {self.age} лет, вид: {self.species}\"\n"
      ]
    },
    {
      "cell_type": "code",
      "source": [
        "# Создание объектов (экземпляров класса)\n",
        "dog1 = Dog(\"Бобик\", 3)\n",
        "dog2 = Dog(\"Шарик\", 5)\n",
        "\n",
        "dog1.name"
      ],
      "metadata": {
        "colab": {
          "base_uri": "https://localhost:8080/",
          "height": 35
        },
        "id": "H1e4HoP5pmC2",
        "outputId": "53bdabc9-9192-4103-e3fc-c448c2db585d"
      },
      "execution_count": null,
      "outputs": [
        {
          "output_type": "execute_result",
          "data": {
            "text/plain": [
              "'Бобик'"
            ],
            "application/vnd.google.colaboratory.intrinsic+json": {
              "type": "string"
            }
          },
          "metadata": {},
          "execution_count": 2
        }
      ]
    },
    {
      "cell_type": "code",
      "source": [
        "print(dog1.bark())\n",
        "print(dog2.get_info())"
      ],
      "metadata": {
        "colab": {
          "base_uri": "https://localhost:8080/"
        },
        "id": "WvJAN_rdppYv",
        "outputId": "240a755a-3210-4b5c-fcea-86a8472e50f7"
      },
      "execution_count": null,
      "outputs": [
        {
          "output_type": "stream",
          "name": "stdout",
          "text": [
            "Бобик говорит: Гав!\n",
            "Шарик - 5 лет, вид: Canis familiaris\n"
          ]
        }
      ]
    },
    {
      "cell_type": "code",
      "source": [
        "# Доступ к атрибутам\n",
        "print(dog1.name)\n",
        "print(dog2.age)"
      ],
      "metadata": {
        "colab": {
          "base_uri": "https://localhost:8080/"
        },
        "id": "yNRAQMZBprPO",
        "outputId": "a95f5730-7401-45c2-8c97-36ce32bda6a0"
      },
      "execution_count": null,
      "outputs": [
        {
          "output_type": "stream",
          "name": "stdout",
          "text": [
            "Бобик\n",
            "5\n"
          ]
        }
      ]
    },
    {
      "cell_type": "markdown",
      "source": [
        "Ключевые понятия ООП\n",
        "1. Инкапсуляция"
      ],
      "metadata": {
        "id": "FmtzX5sspjsJ"
      }
    },
    {
      "cell_type": "code",
      "source": [
        "class BankAccount:\n",
        "    def __init__(self, owner, balance=0):\n",
        "        self.owner = owner\n",
        "        self.__balance = balance  # Приватный атрибут\n",
        "\n",
        "    def deposit(self, amount):\n",
        "        if amount > 0:\n",
        "            self.__balance += amount\n",
        "            return f\"Пополнено: {amount}. Баланс: {self.__balance}\"\n",
        "        return \"Неверная сумма\"\n",
        "\n",
        "    def withdraw(self, amount):\n",
        "        if 0 < amount <= self.__balance:\n",
        "            self.__balance -= amount\n",
        "            return f\"Снято: {amount}. Баланс: {self.__balance}\"\n",
        "        return \"Недостаточно средств\"\n",
        "\n",
        "    def get_balance(self):\n",
        "        return self.__balance"
      ],
      "metadata": {
        "id": "fBdK1SrypyKo"
      },
      "execution_count": null,
      "outputs": []
    },
    {
      "cell_type": "code",
      "source": [
        "account = BankAccount(\"Иван Иванов\", 1000)\n",
        "print(account.deposit(500))  # Пополнено: 500. Баланс: 1500\n",
        "print(account.withdraw(200)) # Снято: 200. Баланс: 1300\n",
        "account.get_balance()"
      ],
      "metadata": {
        "colab": {
          "base_uri": "https://localhost:8080/"
        },
        "id": "vuSaxu0Jp0fi",
        "outputId": "09143cec-0269-4408-af2f-1a690537e198"
      },
      "execution_count": null,
      "outputs": [
        {
          "output_type": "stream",
          "name": "stdout",
          "text": [
            "Пополнено: 500. Баланс: 1500\n",
            "Снято: 200. Баланс: 1300\n"
          ]
        },
        {
          "output_type": "execute_result",
          "data": {
            "text/plain": [
              "1300"
            ]
          },
          "metadata": {},
          "execution_count": 6
        }
      ]
    },
    {
      "cell_type": "markdown",
      "source": [
        "2. Наследование"
      ],
      "metadata": {
        "id": "O63zSPTwp31O"
      }
    },
    {
      "cell_type": "code",
      "source": [
        "# Базовый класс\n",
        "class Animal:\n",
        "    def __init__(self, name):\n",
        "        self.name = name\n",
        "\n",
        "    def speak(self):\n",
        "        raise NotImplementedError(\"Должен быть реализован в подклассе\")\n",
        "\n",
        "# Подкласс\n",
        "class Cat(Animal):\n",
        "    def speak(self):\n",
        "        return f\"{self.name} говорит: Мяу!\"\n",
        "\n",
        "# Другой подкласс\n",
        "class Dog(Animal):\n",
        "    def speak(self):\n",
        "        return f\"{self.name} говорит: Гав!\"\n",
        "\n",
        "    def fetch(self):\n",
        "        return f\"{self.name} принес палку!\"\n"
      ],
      "metadata": {
        "id": "tSJaALs0p6D-"
      },
      "execution_count": null,
      "outputs": []
    },
    {
      "cell_type": "code",
      "source": [
        "animals = [Cat(\"Мурка\"), Dog(\"Бобик\")]\n",
        "\n",
        "for animal in animals:\n",
        "    print(animal.speak())"
      ],
      "metadata": {
        "colab": {
          "base_uri": "https://localhost:8080/"
        },
        "id": "eSBXdjnPp9w7",
        "outputId": "a92922ca-c2d9-42b8-b9ca-6bc6e2d06e0b"
      },
      "execution_count": null,
      "outputs": [
        {
          "output_type": "stream",
          "name": "stdout",
          "text": [
            "Мурка говорит: Мяу!\n",
            "Бобик говорит: Гав!\n"
          ]
        }
      ]
    },
    {
      "cell_type": "markdown",
      "source": [
        "3. Полиморфизм"
      ],
      "metadata": {
        "id": "D8IckXlMqBK3"
      }
    },
    {
      "cell_type": "code",
      "source": [
        "class Rectangle:\n",
        "    def __init__(self, width, height):\n",
        "        self.width = width\n",
        "        self.height = height\n",
        "\n",
        "    def area(self):\n",
        "        return self.width * self.height\n",
        "\n",
        "class Circle:\n",
        "    def __init__(self, radius):\n",
        "        self.radius = radius\n",
        "\n",
        "    def area(self):\n",
        "        return 3.14 * self.radius ** 2"
      ],
      "metadata": {
        "id": "sWvgMl1JqEVV"
      },
      "execution_count": null,
      "outputs": []
    },
    {
      "cell_type": "code",
      "source": [
        "shapes = [Rectangle(5, 10), Circle(7)]\n",
        "\n",
        "for shape in shapes:\n",
        "    print(f\"Площадь: {shape.area()}\")"
      ],
      "metadata": {
        "colab": {
          "base_uri": "https://localhost:8080/"
        },
        "id": "CRi38uVhqGXE",
        "outputId": "45d9ef16-a3db-433e-c0f3-034795361857"
      },
      "execution_count": null,
      "outputs": [
        {
          "output_type": "stream",
          "name": "stdout",
          "text": [
            "Площадь: 50\n",
            "Площадь: 153.86\n"
          ]
        }
      ]
    },
    {
      "cell_type": "markdown",
      "source": [
        "<h4>Специальные методы</h4>"
      ],
      "metadata": {
        "id": "XDaouCXvqKZN"
      }
    },
    {
      "cell_type": "code",
      "source": [
        "class Vector:\n",
        "    def __init__(self, x, y):\n",
        "        self.x = x\n",
        "        self.y = y\n",
        "\n",
        "    def __str__(self):\n",
        "        return f\"Vector({self.x}, {self.y})\"\n",
        "\n",
        "    def __add__(self, other):\n",
        "        return Vector(self.x + other.x, self.y + other.y)\n",
        "\n",
        "    def __mul__(self, scalar):\n",
        "        return Vector(self.x * scalar, self.y * scalar)"
      ],
      "metadata": {
        "id": "2ZoUgo0XqPPq"
      },
      "execution_count": null,
      "outputs": []
    },
    {
      "cell_type": "code",
      "source": [
        "v1 = Vector(2, 3)\n",
        "v2 = Vector(1, 4)\n",
        "\n",
        "print(v1)\n",
        "print(v1 + v2)\n",
        "print(v1 * 3)"
      ],
      "metadata": {
        "colab": {
          "base_uri": "https://localhost:8080/"
        },
        "id": "9NDX1KKPqUgU",
        "outputId": "33ec404f-8ad6-4c35-eb65-b8c55d623437"
      },
      "execution_count": null,
      "outputs": [
        {
          "output_type": "stream",
          "name": "stdout",
          "text": [
            "Vector(2, 3)\n",
            "Vector(3, 7)\n",
            "Vector(6, 9)\n"
          ]
        }
      ]
    },
    {
      "cell_type": "markdown",
      "source": [
        "Еще пример использования:"
      ],
      "metadata": {
        "id": "89NWZhICqXxB"
      }
    },
    {
      "cell_type": "code",
      "source": [
        "class Student:\n",
        "    def __init__(self, name, student_id):\n",
        "        self.name = name\n",
        "        self.student_id = student_id\n",
        "        self.grades = []\n",
        "\n",
        "    def add_grade(self, grade):\n",
        "        if 0 <= grade <= 100:\n",
        "            self.grades.append(grade)\n",
        "        else:\n",
        "            print(\"Оценка должна быть от 0 до 100\")\n",
        "\n",
        "    def average_grade(self):\n",
        "        if not self.grades:\n",
        "            return 0\n",
        "        return sum(self.grades) / len(self.grades)\n",
        "\n",
        "    def __str__(self):\n",
        "        return f\"Студент: {self.name} (ID: {self.student_id}), Средний балл: {self.average_grade():.2f}\"\n",
        "\n",
        "class Course:\n",
        "    def __init__(self, name):\n",
        "        self.name = name\n",
        "        self.students = []\n",
        "\n",
        "    def add_student(self, student):\n",
        "        self.students.append(student)\n",
        "\n",
        "    def get_top_student(self):\n",
        "        if not self.students:\n",
        "            return None\n",
        "        return max(self.students, key=lambda s: s.average_grade())"
      ],
      "metadata": {
        "id": "lBzEOOvqqcAU"
      },
      "execution_count": null,
      "outputs": []
    },
    {
      "cell_type": "code",
      "source": [
        "course = Course(\"Программирование на Python\")\n",
        "\n",
        "student1 = Student(\"Алексей\", \"001\")\n",
        "student1.add_grade(95)\n",
        "student1.add_grade(88)\n",
        "\n",
        "student2 = Student(\"Мария\", \"002\")\n",
        "student2.add_grade(92)\n",
        "student2.add_grade(96)\n",
        "\n",
        "course.add_student(student1)\n",
        "course.add_student(student2)\n",
        "\n",
        "for student in course.students:\n",
        "    print(student)\n",
        "\n",
        "top_student = course.get_top_student()\n",
        "print(f\"\\nЛучший студент: {top_student.name}\")"
      ],
      "metadata": {
        "colab": {
          "base_uri": "https://localhost:8080/"
        },
        "id": "tv_8qJYkqeLZ",
        "outputId": "d1aa1f4f-6a4a-40c2-c249-50ff4ab1d4b0"
      },
      "execution_count": null,
      "outputs": [
        {
          "output_type": "stream",
          "name": "stdout",
          "text": [
            "Студент: Алексей (ID: 001), Средний балл: 91.50\n",
            "Студент: Мария (ID: 002), Средний балл: 94.00\n",
            "\n",
            "Лучший студент: Мария\n"
          ]
        }
      ]
    },
    {
      "cell_type": "markdown",
      "source": [
        "Задание 1.\n",
        "\n",
        "Написать класс для работы с seg-файлами.\n",
        "\n",
        "Поля класса:\n",
        "\n",
        "* filename: str - имя файла\n",
        "* labels: list - список меток, объектов класса Label\n",
        "* params: Params - параметры аудио файла (получаем из seg)\n",
        "\n",
        "Методы класса:\n",
        "* чтение файла\n",
        "* запись в файл\n",
        "\n",
        "Класс Params содержит поля: samplerate, sampwidth, num_channels\n",
        "\n",
        "Класс Label содержит поля: name, position, level"
      ],
      "metadata": {
        "id": "NHEPANBNrRDs"
      }
    },
    {
      "cell_type": "markdown",
      "source": [
        "Задание 2.\n",
        "\n",
        "Написать класс для работы с аудио. Поля класса:\n",
        "\n",
        "* signal: list - отсчёты силнала\n",
        "* filename: str - имя файла\n",
        "* seg: Seg - соответствующий seg-файл\n",
        "* params: Params - параметры аудио\n",
        "\n",
        "Методы класса:\n",
        "\n",
        "* чтение wav\n",
        "* чтение sbl\n",
        "* любые нужные вам методы (разрезание файла по меткам, склеивание файлов одно аудио и т.д.)"
      ],
      "metadata": {
        "id": "Nsv8k97Eqix2"
      }
    },
    {
      "cell_type": "code",
      "source": [],
      "metadata": {
        "id": "88-bFKGqt77t"
      },
      "execution_count": null,
      "outputs": []
    }
  ]
}