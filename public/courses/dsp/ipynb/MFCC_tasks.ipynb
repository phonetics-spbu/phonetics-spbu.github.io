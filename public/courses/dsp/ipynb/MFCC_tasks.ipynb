{
  "nbformat": 4,
  "nbformat_minor": 0,
  "metadata": {
    "colab": {
      "provenance": []
    },
    "kernelspec": {
      "name": "python3",
      "display_name": "Python 3"
    },
    "language_info": {
      "name": "python"
    }
  },
  "cells": [
    {
      "cell_type": "code",
      "source": [
        "!wget https://raw.githubusercontent.com/phonetics-spbu/phonetics-spbu.github.io/main/public/courses/dsp/audio/ata0003.wav\n",
        "!wget https://raw.githubusercontent.com/phonetics-spbu/phonetics-spbu.github.io/main/public/courses/dsp/audio/kta0003.wav\n",
        "!wget https://raw.githubusercontent.com/phonetics-spbu/phonetics-spbu.github.io/main/public/courses/dsp/audio/atb0001.wav\n",
        "!wget https://raw.githubusercontent.com/phonetics-spbu/phonetics-spbu.github.io/main/public/courses/dsp/audio/atb0004.wav\n",
        "!wget https://raw.githubusercontent.com/phonetics-spbu/phonetics-spbu.github.io/main/public/courses/dsp/audio/ktc0001.wav\n",
        "!wget https://raw.githubusercontent.com/phonetics-spbu/phonetics-spbu.github.io/main/public/courses/dsp/audio/ktc0002.wav"
      ],
      "metadata": {
        "id": "P4GB_7DFf5pN"
      },
      "execution_count": null,
      "outputs": []
    },
    {
      "cell_type": "code",
      "execution_count": 3,
      "metadata": {
        "id": "m7SF1DsiXiTl"
      },
      "outputs": [],
      "source": [
        "import librosa\n",
        "import librosa.display\n",
        "import matplotlib.pyplot as plt\n",
        "import numpy as np\n",
        "from sklearn.metrics.pairwise import cosine_similarity\n",
        "\n",
        "\n",
        "FRAME_HOP = 0.010    # Шаг фрейма в секундах (10 мс)\n",
        "N_FFT = 512         # Размер БПФ\n",
        "N_MELS = 26         # Количество Mel-фильтров\n",
        "N_MFCC = 13         # Количество MFCC коэффициентов\n",
        "\n",
        "\n",
        "def load_audio_and_compute_mfcc(file_path, n_mfcc=N_MFCC, n_fft=N_FFT, hop_length=FRAME_HOP,\n",
        "                                   n_mels=N_MELS, htk=True):\n",
        "\n",
        "    signal, sr = librosa.load(file_path, sr=None)\n",
        "    frame_step = int(FRAME_HOP * sr)\n",
        "\n",
        "    mfccs = librosa.feature.mfcc(y=signal, sr=sr, n_mfcc=n_mfcc)\n",
        "\n",
        "    mfcc_delta = librosa.feature.delta(mfccs)\n",
        "    mfcc_delta2 = librosa.feature.delta(mfccs, order=2)\n",
        "\n",
        "    return mfccs, mfcc_delta, mfcc_delta2, sr\n",
        "\n",
        "\n",
        "def plot_mfcc(mfccs, sr):\n",
        "    plt.figure(figsize=(10, 4))\n",
        "    librosa.display.specshow(mfccs, sr=sr, x_axis='time')\n",
        "    plt.colorbar()\n",
        "    plt.title(\"MFCC\")\n",
        "    plt.tight_layout()\n",
        "    plt.show()\n"
      ]
    },
    {
      "cell_type": "markdown",
      "source": [
        "Задача 1.\n",
        "\n",
        "Вырезать несколько фрагментов аудио с разными ударными гласными.\n",
        "\n",
        "Для каждого аудио вычислить MFCC и построить спектрограмму.\n",
        "\n",
        "Визуально сравнить спектрограммы и определить, какие коэффициенты наиболее сильно отличаются для разных гласных."
      ],
      "metadata": {
        "id": "NuxJIDdpXmP1"
      }
    },
    {
      "cell_type": "code",
      "source": [],
      "metadata": {
        "id": "4SZGVkzTZRnX"
      },
      "execution_count": null,
      "outputs": []
    },
    {
      "cell_type": "markdown",
      "source": [
        "Задача 2.\n",
        "\n",
        "Для короткой фразы визуализируйте mfcc коэффициенты, дельты и дельта-дельта признаки. По картинке попробуйте определить границы звуков."
      ],
      "metadata": {
        "id": "Cp7n7E8qaJX5"
      }
    },
    {
      "cell_type": "code",
      "source": [],
      "metadata": {
        "id": "VZ6IHSTWfgn8"
      },
      "execution_count": null,
      "outputs": []
    },
    {
      "cell_type": "markdown",
      "source": [
        "Задача 3.\n",
        "\n",
        "Даны 2 аудио с произнесением одной и той же фразы двумя дикторами (kta0003.wav, ata0003.wav), а также несколько других фраз, произнесенных этими же дикторами.\n",
        "\n",
        "Вычислить MFCC для эталонной фразы каждого диктора.\n",
        "\n",
        "Написать функцию, которая сравнивает MFCC \"неизвестной\" фразы с эталонными по косинусному расстоянию и определяет, какой диктор ее сказал."
      ],
      "metadata": {
        "id": "k5LYChtaZSQ-"
      }
    },
    {
      "cell_type": "code",
      "source": [],
      "metadata": {
        "id": "CV7Ir-sHfRWz"
      },
      "execution_count": null,
      "outputs": []
    }
  ]
}