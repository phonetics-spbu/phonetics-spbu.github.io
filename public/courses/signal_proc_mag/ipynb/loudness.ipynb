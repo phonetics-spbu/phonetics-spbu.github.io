{
 "cells": [
  {
   "cell_type": "markdown",
   "metadata": {},
   "source": [
    "Задание 1: напишите функцию для перевода частоты:\n",
    "* из герцев в полутона и обратно\n",
    "* из герцев в мелы и обратно\n",
    "* из герцев в барки и обратно "
   ]
  },
  {
   "cell_type": "code",
   "execution_count": null,
   "metadata": {},
   "outputs": [],
   "source": []
  },
  {
   "cell_type": "markdown",
   "metadata": {},
   "source": [
    "Задание 2: обработайте подкорпус cta и представьте мелодический контур cta0001 в октавно-медианной шкале."
   ]
  },
  {
   "cell_type": "code",
   "execution_count": null,
   "metadata": {},
   "outputs": [],
   "source": []
  },
  {
   "cell_type": "markdown",
   "metadata": {},
   "source": [
    "Задание: вычислить громкость сигнала по алгоритму GeMAPS.\n",
    "\n",
    "1. Обработать сигнал окнами\n",
    "2. Для каждого окна вычислить спектр (спектр мощности, т.е. не забыть возвести в квадрат)\n",
    "3. Применить 26 треугольных мел-фильтров от 20 до 8000 Гц\n",
    "4. Умножить мел-спектр на кривую равной громкости\n",
    "5. Извлечь кубический корень\n",
    "6. Сложить полученные значения\n",
    "7. Построить график"
   ]
  },
  {
   "cell_type": "markdown",
   "metadata": {},
   "source": [
    "$$E(f) = \\frac{(f^2 + 56.8 \\cdot 10^6) \\cdot f ^ 4}{(f^2 + 6.3 \\cdot 10^6)^2 \\cdot (f^2 + 0.38 \\cdot 10^9) \\cdot (f^6 + 9.58 \\cdot 10^{26})}$$"
   ]
  },
  {
   "cell_type": "code",
   "execution_count": null,
   "metadata": {},
   "outputs": [],
   "source": []
  }
 ],
 "metadata": {
  "kernelspec": {
   "display_name": "Python 3",
   "language": "python",
   "name": "python3"
  },
  "language_info": {
   "codemirror_mode": {
    "name": "ipython",
    "version": 3
   },
   "file_extension": ".py",
   "mimetype": "text/x-python",
   "name": "python",
   "nbconvert_exporter": "python",
   "pygments_lexer": "ipython3",
   "version": "3.9.0"
  }
 },
 "nbformat": 4,
 "nbformat_minor": 2
}
