{
  "nbformat": 4,
  "nbformat_minor": 0,
  "metadata": {
    "colab": {
      "provenance": []
    },
    "kernelspec": {
      "name": "python3",
      "display_name": "Python 3"
    },
    "language_info": {
      "name": "python"
    }
  },
  "cells": [
    {
      "cell_type": "markdown",
      "source": [
        "<h2>Работа с аудио</h2>"
      ],
      "metadata": {
        "id": "RWdvhfPI-cyy"
      }
    },
    {
      "cell_type": "markdown",
      "source": [
        "Научимся читать звуковые файлы с помощью библиотеки pydub.\n",
        "\n"
      ],
      "metadata": {
        "id": "yN0GFYVC-Pzk"
      }
    },
    {
      "cell_type": "code",
      "source": [
        "!wget https://raw.githubusercontent.com/phonetics-spbu/phonetics-spbu.github.io/main/public/courses/python_2_mag/files/s18-27s.wav\n",
        "!wget https://raw.githubusercontent.com/phonetics-spbu/phonetics-spbu.github.io/main/public/courses/python_2_mag/files/guitar-background-sound.wav\n"
      ],
      "metadata": {
        "id": "lp5QKjP-Wume"
      },
      "execution_count": null,
      "outputs": []
    },
    {
      "cell_type": "code",
      "source": [
        "from pydub import AudioSegment\n",
        "import os\n",
        "\n",
        "# 1. Загружаем аудиофайл\n",
        "audio = AudioSegment.from_file(\"guitar-background-sound.wav\")\n",
        "\n",
        "print(\"Файл успешно загружен!\")\n",
        "\n",
        "# 2. Узнаем информацию о файле\n",
        "# Длина в миллисекундах\n",
        "duration_ms = len(audio)\n",
        "# Переводим в секунды\n",
        "duration_seconds = duration_ms / 1000\n",
        "# Переводим в минуты и секунды\n",
        "minutes = int(duration_seconds // 60)\n",
        "seconds = int(duration_seconds % 60)\n",
        "\n",
        "print(f\"📊 ИНФОРМАЦИЯ О ФАЙЛЕ:\")\n",
        "print(f\"Длина: {minutes} минут {seconds} секунд\")\n",
        "print(f\"Длина в миллисекундах: {duration_ms} мс\")\n",
        "print(f\"Частота: {audio.frame_rate} Hz\")\n",
        "print(f\"Каналы: {'стерео' if audio.channels > 1 else 'моно'}\")\n",
        "\n",
        "# 3. Сохраняем копию в другом формате\n",
        "audio.export(\"copy_of_guitar.wav\", format=\"wav\")\n",
        "print(\"Копия сохранена как 'copy_of_guitar.wav'\")"
      ],
      "metadata": {
        "id": "UyIn29KE-CeB"
      },
      "execution_count": null,
      "outputs": []
    },
    {
      "cell_type": "code",
      "source": [
        "audio"
      ],
      "metadata": {
        "id": "GSIIeU6ODXje"
      },
      "execution_count": null,
      "outputs": []
    },
    {
      "cell_type": "code",
      "source": [
        "audio = AudioSegment.from_file(\"guitar-background-sound.wav\")\n",
        "\n",
        "print(\"=== ПРОСТЫЕ ОПЕРАЦИИ СО ЗВУКОМ ===\")\n",
        "\n",
        "# 1. Обрезаем звук (первые 3 секунды)\n",
        "first_3_seconds = audio[:3000]  # 3000 миллисекунд = 3 секунды\n",
        "first_3_seconds.export(\"first_3_seconds.wav\", format=\"wav\")\n",
        "print(\"Обрезали первые 10 секунд\")\n",
        "\n",
        "# 2. Делаем звук тише\n",
        "quieter = audio - 10  # Уменьшаем громкость на 10 децибел\n",
        "quieter.export(\"quieter_version.wav\", format=\"wav\")\n",
        "print(\"Создали тихую версию\")\n",
        "\n",
        "# 3. Делаем звук громче\n",
        "louder = audio + 5  # Увеличиваем громкость на 5 децибел\n",
        "louder.export(\"louder_version.wav\", format=\"wav\")\n",
        "print(\"Создали громкую версию\")\n",
        "\n",
        "# 4. Добавляем тишину в начале\n",
        "silence = AudioSegment.silent(duration=2000)  # 2 секунды тишины\n",
        "with_silence = silence + audio\n",
        "with_silence.export(\"with_silence_at_start.wav\", format=\"wav\")\n",
        "print(\"Добавили 2 секунды тишины в начало\")"
      ],
      "metadata": {
        "id": "KmU2S8OtBJiU"
      },
      "execution_count": null,
      "outputs": []
    },
    {
      "cell_type": "code",
      "source": [
        "first_3_seconds"
      ],
      "metadata": {
        "id": "bskLZMZ0DtID"
      },
      "execution_count": null,
      "outputs": []
    },
    {
      "cell_type": "code",
      "source": [
        "quieter"
      ],
      "metadata": {
        "id": "qwL2XbQ8EVec"
      },
      "execution_count": null,
      "outputs": []
    },
    {
      "cell_type": "code",
      "source": [
        "louder"
      ],
      "metadata": {
        "id": "5pXRxo6eEXtX"
      },
      "execution_count": null,
      "outputs": []
    },
    {
      "cell_type": "code",
      "source": [
        "with_silence"
      ],
      "metadata": {
        "id": "abM7La-_Ecbt"
      },
      "execution_count": null,
      "outputs": []
    },
    {
      "cell_type": "code",
      "source": [
        "from pydub.generators import Sine\n",
        "\n",
        "print(\"=== СОЗДАЕМ СВОЙ ЗВУК ===\")\n",
        "\n",
        "# Создаем простой тон\n",
        "# 440 Hz - нота \"Ля\"\n",
        "beep = Sine(440).to_audio_segment(duration=1000)  # 1000 мс = 1 секунда\n",
        "\n",
        "# Сохраняем наш звук\n",
        "beep.export(\"my_beep.wav\", format=\"wav\")\n",
        "print(\"Создан файл 'my_beep.wav'\")\n",
        "\n",
        "# Создаем несколько разных звуков\n",
        "# Низкий звук\n",
        "low_beep = Sine(220).to_audio_segment(duration=1000)\n",
        "low_beep.export(\"low_beep.wav\", format=\"wav\")\n",
        "\n",
        "# Высокий звук\n",
        "high_beep = Sine(880).to_audio_segment(duration=1000)\n",
        "high_beep.export(\"high_beep.wav\", format=\"wav\")"
      ],
      "metadata": {
        "id": "9UdzKPuvEoOm"
      },
      "execution_count": null,
      "outputs": []
    },
    {
      "cell_type": "code",
      "source": [
        "beep"
      ],
      "metadata": {
        "id": "t7LLrqjPGBek"
      },
      "execution_count": null,
      "outputs": []
    },
    {
      "cell_type": "code",
      "source": [
        "low_beep"
      ],
      "metadata": {
        "id": "gYgpFhyoGFxF"
      },
      "execution_count": null,
      "outputs": []
    },
    {
      "cell_type": "code",
      "source": [
        "high_beep"
      ],
      "metadata": {
        "id": "GrMBDZ-nGIok"
      },
      "execution_count": null,
      "outputs": []
    },
    {
      "cell_type": "code",
      "source": [
        "print(\"=== СОЗДАЕМ ПРОСТУЮ МЕЛОДИЮ ===\")\n",
        "\n",
        "# Создаем три разных звука (три ноты)\n",
        "note1 = Sine(261).to_audio_segment(duration=500)  # Нота До (500 мс)\n",
        "note2 = Sine(329).to_audio_segment(duration=500)  # Нота Ми (500 мс)\n",
        "note3 = Sine(392).to_audio_segment(duration=500)  # Нота Соль (500 мс)\n",
        "\n",
        "# Добавляем тишину между нотами (200 миллисекунд)\n",
        "silence = AudioSegment.silent(duration=200)\n",
        "\n",
        "# Собираем мелодию: нота1 - тишина - нота2 - тишина - нота3\n",
        "melody = note1 + silence + note2 + silence + note3\n",
        "\n",
        "# Сохраняем нашу мелодию\n",
        "melody.export(\"simple_melody.wav\", format=\"wav\")\n",
        "print(\"Мелодия сохранена как 'simple_melody.wav'\")"
      ],
      "metadata": {
        "id": "1TAjQF7iGMj3"
      },
      "execution_count": null,
      "outputs": []
    },
    {
      "cell_type": "code",
      "source": [
        "melody"
      ],
      "metadata": {
        "id": "RyV2CQWVGmpN"
      },
      "execution_count": null,
      "outputs": []
    },
    {
      "cell_type": "code",
      "source": [
        "from pydub import AudioSegment\n",
        "from pydub.generators import Sine\n",
        "import time\n",
        "\n",
        "# Создаем тишину разной длины\n",
        "short_silence = AudioSegment.silent(duration=100)   # 0.1 секунды тишины\n",
        "medium_silence = AudioSegment.silent(duration=200)  # 0.2 секунды тишины\n",
        "long_silence = AudioSegment.silent(duration=500)    # 0.5 секунды тишины\n",
        "\n",
        "# Создаем ноты разной высоты\n",
        "beep_low = Sine(262).to_audio_segment(duration=300)   # Нота До (300 мс)\n",
        "beep_medium = Sine(330).to_audio_segment(duration=300) # Нота Ми (300 мс)\n",
        "beep_high = Sine(392).to_audio_segment(duration=300)  # Нота Соль (300 мс)\n",
        "beep_very_high = Sine(523).to_audio_segment(duration=300) # Нота До высокой октавы\n",
        "\n",
        "# МЕЛОДИЯ 1\n",
        "melody1 = (beep_medium + short_silence +\n",
        "          beep_high + short_silence +\n",
        "          beep_very_high + medium_silence +\n",
        "          beep_high + short_silence +\n",
        "          beep_medium + long_silence)\n",
        "\n",
        "melody1.export(\"simple_melody1.wav\", format=\"wav\")\n",
        "print(\"мелодия сохранена как 'simple_melody1.wav'\")\n",
        "\n",
        "# МЕЛОДИЯ 2\n",
        "melody2 = (beep_low + short_silence +\n",
        "          beep_medium + short_silence +\n",
        "          beep_high + medium_silence +\n",
        "          beep_high + short_silence +\n",
        "          beep_medium + short_silence +\n",
        "          beep_low + long_silence)\n",
        "\n",
        "melody2.export(\"simple_melody2.wav\", format=\"wav\")\n",
        "print(\"мелодия сохранена как 'simple_melody2.wav'\")\n",
        "\n",
        "# МЕЛОДИЯ 3\n",
        "# Создаем короткие бипы для ритма\n",
        "short_beep = Sine(440).to_audio_segment(duration=100)  # Короткий бип\n",
        "\n",
        "melody3 = (beep_high + short_silence +\n",
        "          short_beep + short_silence +\n",
        "          short_beep + short_silence +\n",
        "          beep_very_high + medium_silence +\n",
        "          beep_medium + short_silence +\n",
        "          beep_low + long_silence)\n",
        "\n",
        "melody3.export(\"happy_melody.wav\", format=\"wav\")\n",
        "print(\"мелодия сохранена как 'happy_melody.wav'\")\n",
        "\n",
        "print(\"\\n Все мелодии созданы!\")"
      ],
      "metadata": {
        "id": "U5oo7oDJHSL8"
      },
      "execution_count": null,
      "outputs": []
    },
    {
      "cell_type": "code",
      "source": [
        "melody1"
      ],
      "metadata": {
        "id": "Kwck2rkVHwTj"
      },
      "execution_count": null,
      "outputs": []
    },
    {
      "cell_type": "code",
      "source": [
        "melody2"
      ],
      "metadata": {
        "id": "5J5nHOpJH4um"
      },
      "execution_count": null,
      "outputs": []
    },
    {
      "cell_type": "code",
      "source": [
        "melody3"
      ],
      "metadata": {
        "id": "iO4Nin6FH7KN"
      },
      "execution_count": null,
      "outputs": []
    },
    {
      "cell_type": "markdown",
      "source": [
        "Задача 1. Программа, конвертирующая аудио к новому формату"
      ],
      "metadata": {
        "id": "_oGs_OcYKPUN"
      }
    },
    {
      "cell_type": "code",
      "source": [
        "# Конвертация аудио\n",
        "\n",
        "def convert_format(input_file, output_file, new_format):\n",
        "    audio = AudioSegment.from_file(input_file)\n",
        "    audio.export(output_file, format=new_format)\n",
        "    print(f\"✅ Файл конвертирован в {new_format}: {output_file}\")"
      ],
      "metadata": {
        "id": "1Q9h5txaH-Sy"
      },
      "execution_count": null,
      "outputs": []
    },
    {
      "cell_type": "code",
      "source": [
        "convert_format(\"violin_original.wav\", \"violin.mp3\", \"mp3\")"
      ],
      "metadata": {
        "id": "aiiyDbgEI6c4"
      },
      "execution_count": null,
      "outputs": []
    },
    {
      "cell_type": "markdown",
      "source": [
        "Задача 2. Заставка для подкаста:\n",
        "\n",
        "    * Музыка начинается громко\n",
        "    * Голос поверх музыки\n",
        "    * Музыка постепенно становится тише (fade out)\n",
        "    * В конце только голос"
      ],
      "metadata": {
        "id": "0APFvrWGKYvv"
      }
    },
    {
      "cell_type": "code",
      "source": [
        "def create_podcast_intro(voice_file, music_file, output_file, intro_duration=15000):\n",
        "    voice = AudioSegment.from_file(voice_file)\n",
        "    music = AudioSegment.from_file(music_file)\n",
        "\n",
        "    silence = AudioSegment.silent(duration=3000)\n",
        "\n",
        "    voice = silence + voice\n",
        "\n",
        "    # Обрезаем музыку до нужной длины\n",
        "    music = music[2000:intro_duration]\n",
        "\n",
        "    # Fade in и fade out для музыки\n",
        "    music = music.fade_in(2000).fade_out(3000)\n",
        "\n",
        "    # Уменьшаем громкость музыки под голосом\n",
        "    quiet_music = music - 10\n",
        "\n",
        "    # Накладываем голос поверх музыки\n",
        "    mixed = voice.overlay(quiet_music)\n",
        "\n",
        "    mixed.export(output_file, format=\"wav\")\n",
        "    print(f\"Заставка создана: {output_file}\")"
      ],
      "metadata": {
        "id": "kvZdlP3kK3IS"
      },
      "execution_count": null,
      "outputs": []
    },
    {
      "cell_type": "code",
      "source": [
        "voice_file = \"s18-27s.wav\"\n",
        "music_file = \"guitar-background-sound.wav\"\n",
        "output_file = \"podcast_with_intro.wav\""
      ],
      "metadata": {
        "id": "zTgC68xgLLC2"
      },
      "execution_count": null,
      "outputs": []
    },
    {
      "cell_type": "code",
      "source": [
        "music = AudioSegment.from_file(music_file)\n",
        "music"
      ],
      "metadata": {
        "id": "-JHKPYMeODMn"
      },
      "execution_count": null,
      "outputs": []
    },
    {
      "cell_type": "code",
      "source": [
        "create_podcast_intro(voice_file, music_file, output_file, intro_duration=15000)"
      ],
      "metadata": {
        "id": "LM_u78yAOBCV"
      },
      "execution_count": null,
      "outputs": []
    },
    {
      "cell_type": "code",
      "source": [
        "podcast = AudioSegment.from_file(output_file)\n",
        "podcast"
      ],
      "metadata": {
        "id": "WBRXqBNRNh8Z"
      },
      "execution_count": null,
      "outputs": []
    },
    {
      "cell_type": "markdown",
      "source": [
        "Задача 1\n",
        "* прочитайте TextGrid, найдите начало и конец каждой паузы в секундах\n",
        "* с помощью PyDub соберите из старого аудио новое, в котором не будет пауз"
      ],
      "metadata": {
        "id": "6pPE0UPaOwcV"
      }
    },
    {
      "cell_type": "code",
      "source": [
        "!wget https://raw.githubusercontent.com/annashell/python_mag/refs/heads/main/txt_files/av18s.wav\n",
        "!wget https://raw.githubusercontent.com/annashell/python_mag/refs/heads/main/txt_files/av18s.TextGrid"
      ],
      "metadata": {
        "id": "wqMZuMJyPe5S"
      },
      "execution_count": null,
      "outputs": []
    },
    {
      "cell_type": "code",
      "source": [],
      "metadata": {
        "id": "H0VfQqN_aNer"
      },
      "execution_count": null,
      "outputs": []
    },
    {
      "cell_type": "markdown",
      "source": [
        "Задача 2. Напишите функцию, принимающую на вход аудио-файл и соответствующий ему TextGrid, содержащий точечный слой, а также длительность паузы в секундах. Выходом функции будет новый аудио-файл, содержащий паузы указанной длительности в точках, отмеченных в TextGrid."
      ],
      "metadata": {
        "id": "Ls8Y_Dw2VjzL"
      }
    },
    {
      "cell_type": "code",
      "source": [],
      "metadata": {
        "id": "GNMq7jl9WJlv"
      },
      "execution_count": null,
      "outputs": []
    },
    {
      "cell_type": "markdown",
      "source": [
        "Задача 3. Напишите функцию, аналогичную функции в предыдущей задаче, но длительность паузы в ней будет равна длительности предшествующего ей отрывка исходного аудио."
      ],
      "metadata": {
        "id": "Fdz9fA9VWJ9q"
      }
    },
    {
      "cell_type": "code",
      "source": [],
      "metadata": {
        "id": "cHb_W_yOWcKZ"
      },
      "execution_count": null,
      "outputs": []
    }
  ]
}