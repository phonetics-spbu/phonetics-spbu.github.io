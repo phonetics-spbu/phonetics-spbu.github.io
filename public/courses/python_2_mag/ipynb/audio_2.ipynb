{
  "nbformat": 4,
  "nbformat_minor": 0,
  "metadata": {
    "colab": {
      "provenance": []
    },
    "kernelspec": {
      "name": "python3",
      "display_name": "Python 3"
    },
    "language_info": {
      "name": "python"
    }
  },
  "cells": [
    {
      "cell_type": "markdown",
      "source": [
        "Задача 1. Напишите функцию, принимающую на вход один длинный аудио-файл и один короткий, а также соответствующий длинному файлу TextGrid, содержащий точечный слой. Выходом функции будет новый аудио-файл, представляющий собой наложение короткого аудио на длинное в точках, отмеченных в TextGrid."
      ],
      "metadata": {
        "id": "csvyWwecRMaq"
      }
    },
    {
      "cell_type": "code",
      "execution_count": null,
      "metadata": {
        "id": "nuEm45KqREEF"
      },
      "outputs": [],
      "source": [
        "!wget https://raw.githubusercontent.com/phonetics-spbu/phonetics-spbu.github.io/main/public/courses/python_2_mag/files/j39s.wav\n",
        "!wget https://raw.githubusercontent.com/phonetics-spbu/phonetics-spbu.github.io/main/public/courses/python_2_mag/files/j39s_point.TextGrid\n",
        "!wget https://raw.githubusercontent.com/phonetics-spbu/phonetics-spbu.github.io/main/public/courses/python_2_mag/files/mixkit-explosion-hit-1704.wav"
      ]
    },
    {
      "cell_type": "code",
      "source": [],
      "metadata": {
        "id": "Jtmlb6ARR6uC"
      },
      "execution_count": null,
      "outputs": []
    },
    {
      "cell_type": "markdown",
      "source": [
        "Задача 2. Напишите функцию, принимающую на вход один аудио-файл и соответствующий длинному файлу TextGrid, содержащий интервальный слой. Выходом функции будет новый аудио-файл, представляющий собой случайным образом перемешанные склеенные между собой интервалы."
      ],
      "metadata": {
        "id": "blKBtDQnR6_U"
      }
    },
    {
      "cell_type": "code",
      "source": [
        "!wget https://raw.githubusercontent.com/phonetics-spbu/phonetics-spbu.github.io/main/public/courses/python_2_mag/files/j39s.wav\n",
        "!wget https://raw.githubusercontent.com/phonetics-spbu/phonetics-spbu.github.io/main/public/courses/python_2_mag/files/j39s.TextGrid"
      ],
      "metadata": {
        "id": "SutXkg1ISPek"
      },
      "execution_count": null,
      "outputs": []
    },
    {
      "cell_type": "code",
      "source": [],
      "metadata": {
        "id": "UwcpvFdzSPs6"
      },
      "execution_count": null,
      "outputs": []
    },
    {
      "cell_type": "markdown",
      "source": [
        "Задача 3. Наложите поверх аудио с речью музыку, в паузах музыка должна становиться громче с плавным нарастанием. Даны: аудио с речью + текстгрид с разметкой пауз, аудио с музыкой."
      ],
      "metadata": {
        "id": "uL0lfmmASQAc"
      }
    },
    {
      "cell_type": "code",
      "source": [
        "!wget https://raw.githubusercontent.com/annashell/python_mag/refs/heads/main/txt_files/av18s.wav\n",
        "!wget https://raw.githubusercontent.com/annashell/python_mag/refs/heads/main/txt_files/av18s.TextGrid\n",
        "!wget https://raw.githubusercontent.com/annashell/python_mag/refs/heads/main/txt_files/mixkit-synth-suspense-music-681.wav\n",
        "\n"
      ],
      "metadata": {
        "id": "jzdCq2nvSqvN",
        "outputId": "4c4f3d1d-fb14-478b-a781-aff234f2f508",
        "colab": {
          "base_uri": "https://localhost:8080/"
        }
      },
      "execution_count": 5,
      "outputs": [
        {
          "output_type": "stream",
          "name": "stdout",
          "text": [
            "--2025-10-16 08:02:37--  https://raw.githubusercontent.com/annashell/python_mag/refs/heads/main/txt_files/av18s.wav\n",
            "Resolving raw.githubusercontent.com (raw.githubusercontent.com)... 185.199.110.133, 185.199.109.133, 185.199.111.133, ...\n",
            "Connecting to raw.githubusercontent.com (raw.githubusercontent.com)|185.199.110.133|:443... connected.\n",
            "HTTP request sent, awaiting response... 200 OK\n",
            "Length: 578012 (564K) [audio/wav]\n",
            "Saving to: ‘av18s.wav’\n",
            "\n",
            "\rav18s.wav             0%[                    ]       0  --.-KB/s               \rav18s.wav           100%[===================>] 564.46K  --.-KB/s    in 0.004s  \n",
            "\n",
            "2025-10-16 08:02:37 (141 MB/s) - ‘av18s.wav’ saved [578012/578012]\n",
            "\n",
            "--2025-10-16 08:02:37--  https://raw.githubusercontent.com/annashell/python_mag/refs/heads/main/txt_files/av18s.TextGrid\n",
            "Resolving raw.githubusercontent.com (raw.githubusercontent.com)... 185.199.108.133, 185.199.109.133, 185.199.110.133, ...\n",
            "Connecting to raw.githubusercontent.com (raw.githubusercontent.com)|185.199.108.133|:443... connected.\n",
            "HTTP request sent, awaiting response... 200 OK\n",
            "Length: 59614 (58K) [text/plain]\n",
            "Saving to: ‘av18s.TextGrid’\n",
            "\n",
            "av18s.TextGrid      100%[===================>]  58.22K  --.-KB/s    in 0.001s  \n",
            "\n",
            "2025-10-16 08:02:37 (47.2 MB/s) - ‘av18s.TextGrid’ saved [59614/59614]\n",
            "\n"
          ]
        }
      ]
    },
    {
      "cell_type": "code",
      "source": [],
      "metadata": {
        "id": "z6ppP4rZSq8o"
      },
      "execution_count": null,
      "outputs": []
    },
    {
      "cell_type": "markdown",
      "source": [
        "Задача 4. Вам дано короткое аудио. Необходимо написать функцию, возвращающую \"эхо\": периодическое повторение звука с постепенным затуханием громкости."
      ],
      "metadata": {
        "id": "065Po6XCSrTn"
      }
    },
    {
      "cell_type": "code",
      "source": [
        "!wget https://raw.githubusercontent.com/phonetics-spbu/phonetics-spbu.github.io/main/public/courses/python_2_mag/files/j27s.wav"
      ],
      "metadata": {
        "id": "2efHZWAxTBR9"
      },
      "execution_count": null,
      "outputs": []
    },
    {
      "cell_type": "code",
      "source": [],
      "metadata": {
        "id": "HdsNGRaOTBbn"
      },
      "execution_count": null,
      "outputs": []
    }
  ]
}