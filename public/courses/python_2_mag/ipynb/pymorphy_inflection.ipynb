{
  "nbformat": 4,
  "nbformat_minor": 0,
  "metadata": {
    "colab": {
      "provenance": []
    },
    "kernelspec": {
      "name": "python3",
      "display_name": "Python 3"
    },
    "language_info": {
      "name": "python"
    }
  },
  "cells": [
    {
      "cell_type": "code",
      "execution_count": null,
      "metadata": {
        "id": "4gBlcMmG30Fv"
      },
      "outputs": [],
      "source": [
        "!pip install pymorphy3"
      ]
    },
    {
      "cell_type": "code",
      "source": [
        "import pymorphy3\n",
        "\n",
        "morph = pymorphy3.MorphAnalyzer()"
      ],
      "metadata": {
        "id": "XundqAqO3_oh"
      },
      "execution_count": 2,
      "outputs": []
    },
    {
      "cell_type": "code",
      "source": [
        "word = \"кошкам\"\n",
        "parsed = morph.parse(word)[0]  # Берем первый (наиболее вероятный) разбор\n",
        "\n",
        "print(f\"Слово: {word}\")\n",
        "print(f\"Нормальная форма: {parsed.normal_form}\")\n",
        "print(f\"Часть речи: {parsed.tag.POS}\")\n",
        "print(f\"Падеж: {parsed.tag.case}\")\n",
        "print(f\"Число: {parsed.tag.number}\")\n",
        "print(f\"Все грамматические признаки: {parsed.tag}\")"
      ],
      "metadata": {
        "colab": {
          "base_uri": "https://localhost:8080/"
        },
        "id": "nH14wsNN4C72",
        "outputId": "588357ad-0a01-434d-c680-8ad5884ce09c"
      },
      "execution_count": 3,
      "outputs": [
        {
          "output_type": "stream",
          "name": "stdout",
          "text": [
            "Слово: кошкам\n",
            "Нормальная форма: кошка\n",
            "Часть речи: NOUN\n",
            "Падеж: datv\n",
            "Число: plur\n",
            "Все грамматические признаки: NOUN,anim,femn plur,datv\n"
          ]
        }
      ]
    },
    {
      "cell_type": "markdown",
      "source": [
        "<h2>Изменение падежей</h2>"
      ],
      "metadata": {
        "id": "E-4R4SBr4Tlz"
      }
    },
    {
      "cell_type": "code",
      "source": [
        "def change_case(word, target_case):\n",
        "    \"\"\"Изменяет падеж слова\"\"\"\n",
        "    parsed = morph.parse(word)[0]\n",
        "    return parsed.inflect({target_case}).word if parsed.inflect({target_case}) else word\n",
        "\n",
        "words = [\"кошка\", \"стол\", \"красивый\", \"быстро\"]\n",
        "\n",
        "for word in words:\n",
        "    print(f\"{word} ->:\")\n",
        "    for case in ['nomn', 'gent', 'datv', 'accs', 'ablt', 'loct']:\n",
        "        new_form = change_case(word, case)\n",
        "        print(f\"  {case}: {new_form}\")\n",
        "    print()"
      ],
      "metadata": {
        "colab": {
          "base_uri": "https://localhost:8080/"
        },
        "collapsed": true,
        "id": "SEzh_voX4Fs6",
        "outputId": "1e3e24a8-0209-4222-c096-c517548ca0ad"
      },
      "execution_count": 4,
      "outputs": [
        {
          "output_type": "stream",
          "name": "stdout",
          "text": [
            "кошка ->:\n",
            "  nomn: кошка\n",
            "  gent: кошки\n",
            "  datv: кошке\n",
            "  accs: кошку\n",
            "  ablt: кошкой\n",
            "  loct: кошке\n",
            "\n",
            "стол ->:\n",
            "  nomn: стол\n",
            "  gent: стола\n",
            "  datv: столу\n",
            "  accs: стол\n",
            "  ablt: столом\n",
            "  loct: столе\n",
            "\n",
            "красивый ->:\n",
            "  nomn: красивый\n",
            "  gent: красивого\n",
            "  datv: красивому\n",
            "  accs: красивого\n",
            "  ablt: красивым\n",
            "  loct: красивом\n",
            "\n",
            "быстро ->:\n",
            "  nomn: быстро\n",
            "  gent: быстро\n",
            "  datv: быстро\n",
            "  accs: быстро\n",
            "  ablt: быстро\n",
            "  loct: быстро\n",
            "\n"
          ]
        }
      ]
    },
    {
      "cell_type": "code",
      "source": [
        "parsed = morph.parse(\"делаю\")[0]\n",
        "parsed.tag"
      ],
      "metadata": {
        "colab": {
          "base_uri": "https://localhost:8080/"
        },
        "id": "9KI1hXKd6J5s",
        "outputId": "36dbb406-7b99-4bdf-f773-381d8bb85844"
      },
      "execution_count": 13,
      "outputs": [
        {
          "output_type": "execute_result",
          "data": {
            "text/plain": [
              "OpencorporaTag('VERB,impf,tran sing,1per,pres,indc')"
            ]
          },
          "metadata": {},
          "execution_count": 13
        }
      ]
    },
    {
      "cell_type": "markdown",
      "source": [
        "<h2>Изменение числа</h2>"
      ],
      "metadata": {
        "id": "EuXrEDLN4ZXs"
      }
    },
    {
      "cell_type": "code",
      "source": [
        "def change_number(word, target_number):\n",
        "    \"\"\"Изменяет число слова\"\"\"\n",
        "    parsed = morph.parse(word)[0]\n",
        "    return parsed.inflect({target_number}).word if parsed.inflect({target_number}) else word\n",
        "\n",
        "words = [\"кошка\", \"стол\", \"красивый\", \"бежал\"]\n",
        "\n",
        "for word in words:\n",
        "    singular = change_number(word, 'sing')\n",
        "    plural = change_number(word, 'plur')\n",
        "    print(f\"{word} -> ед.ч.: {singular}, мн.ч.: {plural}\")"
      ],
      "metadata": {
        "colab": {
          "base_uri": "https://localhost:8080/"
        },
        "id": "pLHJ-vg84PD1",
        "outputId": "fc118bf4-9122-4787-b7a2-56b62dc874a7"
      },
      "execution_count": 6,
      "outputs": [
        {
          "output_type": "stream",
          "name": "stdout",
          "text": [
            "кошка -> ед.ч.: кошка, мн.ч.: кошки\n",
            "стол -> ед.ч.: стол, мн.ч.: столы\n",
            "красивый -> ед.ч.: красивый, мн.ч.: красивые\n",
            "бежал -> ед.ч.: бежал, мн.ч.: бежали\n"
          ]
        }
      ]
    },
    {
      "cell_type": "markdown",
      "source": [
        "<h2>Комбинированное изменение форм</h2>"
      ],
      "metadata": {
        "id": "NWgPEYSJ4etF"
      }
    },
    {
      "cell_type": "code",
      "source": [
        "def inflect_word(word, **grammemes):\n",
        "    \"\"\"Изменяет слово по заданным грамматическим признакам\"\"\"\n",
        "    parsed = morph.parse(word)[0]\n",
        "    return parsed.inflect(set(grammemes.values())).word if parsed.inflect(set(grammemes.values())) else word\n",
        "\n",
        "word = \"интересная\"\n",
        "print(f\"Исходное: {word}\")\n",
        "\n",
        "# Изменяем падеж и число\n",
        "forms = [\n",
        "    {'case': 'gent', 'number': 'sing'},  # родительный падеж, ед.ч.\n",
        "    {'case': 'datv', 'number': 'plur'},  # дательный падеж, мн.ч.\n",
        "    {'case': 'ablt', 'number': 'sing'},  # творительный падеж, ед.ч.\n",
        "]\n",
        "\n",
        "for gram_dict in forms:\n",
        "    new_form = inflect_word(word, **gram_dict)\n",
        "    print(f\"{gram_dict} -> {new_form}\")"
      ],
      "metadata": {
        "colab": {
          "base_uri": "https://localhost:8080/"
        },
        "id": "xpbPoicV4e74",
        "outputId": "3e488bff-4b85-40af-e704-bdf000f7a925"
      },
      "execution_count": 7,
      "outputs": [
        {
          "output_type": "stream",
          "name": "stdout",
          "text": [
            "Исходное: интересная\n",
            "{'case': 'gent', 'number': 'sing'} -> интересной\n",
            "{'case': 'datv', 'number': 'plur'} -> интересным\n",
            "{'case': 'ablt', 'number': 'sing'} -> интересной\n"
          ]
        }
      ]
    },
    {
      "cell_type": "markdown",
      "source": [
        "<h2>Изменение глаголов</h2>"
      ],
      "metadata": {
        "id": "qFafnIBu4k24"
      }
    },
    {
      "cell_type": "code",
      "source": [
        "def conjugate_verb(verb, **grammemes):\n",
        "    \"\"\"Спрягает глагол\"\"\"\n",
        "    parsed = morph.parse(verb)[0]\n",
        "    return parsed.inflect(set(grammemes.values())).word if parsed.inflect(set(grammemes.values())) else verb\n",
        "\n",
        "verb = \"делать\"\n",
        "print(f\"Глагол: {verb}\")\n",
        "\n",
        "# Изменяем время, лицо, число\n",
        "forms = [\n",
        "    {'number': 'sing', 'person': '1per'},  # я делаю\n",
        "    {'number': 'sing', 'person': '2per'},  # ты делаешь\n",
        "    {'number': 'sing', 'person': '3per'},  # он делает\n",
        "    {'number': 'plur', 'person': '1per'},  # мы делаем\n",
        "    {'number': 'plur', 'person': '2per'},  # вы делаете\n",
        "    {'number': 'plur', 'person': '3per'},  # они делают\n",
        "]\n",
        "\n",
        "for gram_dict in forms:\n",
        "    new_form = conjugate_verb(verb, **gram_dict)\n",
        "    print(f\"{gram_dict} -> {new_form}\")"
      ],
      "metadata": {
        "colab": {
          "base_uri": "https://localhost:8080/"
        },
        "id": "WwiG_Klj4t8A",
        "outputId": "750debc5-45bc-439d-c22b-4e1d6a5c26ee"
      },
      "execution_count": 15,
      "outputs": [
        {
          "output_type": "stream",
          "name": "stdout",
          "text": [
            "Глагол: делать\n",
            "{'number': 'sing', 'person': '1per'} -> делаю\n",
            "{'number': 'sing', 'person': '2per'} -> делаешь\n",
            "{'number': 'sing', 'person': '3per'} -> делает\n",
            "{'number': 'plur', 'person': '1per'} -> делаем\n",
            "{'number': 'plur', 'person': '2per'} -> делаете\n",
            "{'number': 'plur', 'person': '3per'} -> делают\n"
          ]
        }
      ]
    },
    {
      "cell_type": "markdown",
      "source": [
        "Практический пример: склонение ФИО"
      ],
      "metadata": {
        "id": "WsUvvo7C6iJZ"
      }
    },
    {
      "cell_type": "code",
      "source": [
        "def decline_name(full_name, case='gent'):\n",
        "    \"\"\"Склоняет ФИО в нужный падеж\"\"\"\n",
        "    parts = full_name.split()\n",
        "    declined_parts = []\n",
        "\n",
        "    for part in parts:\n",
        "        parsed = morph.parse(part)[0]\n",
        "        declined = parsed.inflect({case}).word if parsed.inflect({case}) else part\n",
        "        declined_parts.append(declined)\n",
        "\n",
        "    return ' '.join(declined_parts)\n",
        "\n",
        "name = \"Иванов Иван Иванович\"\n",
        "cases = ['nomn', 'gent', 'datv', 'accs', 'ablt', 'loct']\n",
        "case_names = ['именительный', 'родительный', 'дательный', 'винительный', 'творительный', 'предложный']\n",
        "\n",
        "for case, case_name in zip(cases, case_names):\n",
        "    declined = decline_name(name, case)\n",
        "    print(f\"{case_name:15} -> {declined}\")"
      ],
      "metadata": {
        "colab": {
          "base_uri": "https://localhost:8080/"
        },
        "id": "pHUa6wAM6lvS",
        "outputId": "910a7c60-0484-40a5-f0e7-8769ff6d197c"
      },
      "execution_count": 16,
      "outputs": [
        {
          "output_type": "stream",
          "name": "stdout",
          "text": [
            "именительный    -> иванов иван иванович\n",
            "родительный     -> иванова ивана ивановича\n",
            "дательный       -> иванову ивану ивановичу\n",
            "винительный     -> иванова ивана ивановича\n",
            "творительный    -> ивановым иваном ивановичем\n",
            "предложный      -> иванове иване ивановиче\n"
          ]
        }
      ]
    },
    {
      "cell_type": "markdown",
      "source": [
        "Получение возможных грамматических форм и проверка возможности форм\n"
      ],
      "metadata": {
        "id": "4j8DFVId61Z8"
      }
    },
    {
      "cell_type": "code",
      "source": [
        "def get_word_forms(word):\n",
        "    \"\"\"Получает все возможные формы слова\"\"\"\n",
        "    parsed = morph.parse(word)[0]\n",
        "    forms = set()\n",
        "\n",
        "    if hasattr(parsed, 'lexeme'):\n",
        "        for form in parsed.lexeme:\n",
        "            forms.add(form.word)\n",
        "\n",
        "    return sorted(forms)\n",
        "\n",
        "def is_grammatical_form_possible(word, **grammemes):\n",
        "    \"\"\"Проверяет, возможна ли данная грамматическая форма\"\"\"\n",
        "    parsed = morph.parse(word)[0]\n",
        "    return parsed.inflect(set(grammemes.values())) is not None\n",
        "\n",
        "word = \"бежать\"\n",
        "forms = get_word_forms(word)\n",
        "print(f\"Все формы слова '{word}':\")\n",
        "for form in forms[:10]:  # Покажем первые 10 форм\n",
        "    print(f\"  {form}\")\n",
        "\n",
        "# Проверка возможности формы\n",
        "test_cases = [\n",
        "    {'number': 'plur', 'person': '1per'},\n",
        "    {'gender': 'femn', 'tense': 'past'},\n",
        "    {'case': 'gent', 'number': 'sing'}\n",
        "]\n",
        "\n",
        "for gram_dict in test_cases:\n",
        "    possible = is_grammatical_form_possible(word, **gram_dict)\n",
        "    print(f\"Форма {gram_dict} возможна: {possible}\")"
      ],
      "metadata": {
        "colab": {
          "base_uri": "https://localhost:8080/"
        },
        "id": "wtCk4CmW6_yr",
        "outputId": "6271f152-7fc1-48ac-8233-36026186843d"
      },
      "execution_count": 19,
      "outputs": [
        {
          "output_type": "stream",
          "name": "stdout",
          "text": [
            "Все формы слова 'бежать':\n",
            "  беги\n",
            "  бегите\n",
            "  бегу\n",
            "  бегут\n",
            "  бегущая\n",
            "  бегущего\n",
            "  бегущее\n",
            "  бегущей\n",
            "  бегущем\n",
            "  бегущему\n",
            "Форма {'number': 'plur', 'person': '1per'} возможна: True\n",
            "Форма {'gender': 'femn', 'tense': 'past'} возможна: True\n",
            "Форма {'case': 'gent', 'number': 'sing'} возможна: True\n"
          ]
        }
      ]
    },
    {
      "cell_type": "markdown",
      "source": [
        "Согласование слов с числительными"
      ],
      "metadata": {
        "id": "Fl5cl6BF7hmD"
      }
    },
    {
      "cell_type": "code",
      "source": [
        "butyavka = morph.parse('бутявка')[0]\n",
        "nekuzyavaya = morph.parse('некузявая')[0]\n",
        "\n",
        "print(f\"1 {nekuzyavaya.make_agree_with_number(1).word} {butyavka.make_agree_with_number(1).word}\")\n",
        "print(f\"2 {nekuzyavaya.make_agree_with_number(2).word} {butyavka.make_agree_with_number(2).word}\")\n",
        "print(f\"6 {nekuzyavaya.make_agree_with_number(6).word} {butyavka.make_agree_with_number(6).word}\")\n",
        "print(f\"121 {nekuzyavaya.make_agree_with_number(121).word} {butyavka.make_agree_with_number(121).word}\")\n",
        "\n",
        "print(f\"12 {morph.parse('бятые')[0].make_agree_with_number(6).word} {morph.parse('пуськи')[0].make_agree_with_number(12).word}\")\n"
      ],
      "metadata": {
        "colab": {
          "base_uri": "https://localhost:8080/"
        },
        "id": "o9kTzoi37iKN",
        "outputId": "fbd362f7-f605-423e-e172-91081d7967e2"
      },
      "execution_count": 35,
      "outputs": [
        {
          "output_type": "stream",
          "name": "stdout",
          "text": [
            "1 некузявая бутявка\n",
            "2 некузявые бутявки\n",
            "6 некузявых бутявок\n",
            "121 некузявая бутявка\n",
            "12 бятых пусек\n"
          ]
        }
      ]
    },
    {
      "cell_type": "markdown",
      "source": [
        "Задача 1.\n",
        "\n",
        "Напишите функцию, которая определяет согласованы ли прилагательное и существительное."
      ],
      "metadata": {
        "id": "h45VDNSH-DPk"
      }
    },
    {
      "cell_type": "code",
      "source": [
        "def check_if_match_adjective_and_noun(adj, noun):\n",
        "  pass"
      ],
      "metadata": {
        "id": "Scnyn0ns-b8Z"
      },
      "execution_count": null,
      "outputs": []
    },
    {
      "cell_type": "markdown",
      "source": [
        "Задача 2.\n",
        "\n",
        "Напишите функцию, которая согласует прилагательное с существительным.\n",
        "\n"
      ],
      "metadata": {
        "id": "PnHvEsyM-7Ao"
      }
    },
    {
      "cell_type": "code",
      "source": [
        "def match_adjective_and_noun(adj, noun):\n",
        "  pass"
      ],
      "metadata": {
        "id": "ibxW98Jh_KIx"
      },
      "execution_count": null,
      "outputs": []
    },
    {
      "cell_type": "markdown",
      "source": [
        "Задача 3.\n",
        "\n",
        "Вычислите \"расстояние\" между словами на основе их грамматических характеристик - количество отличающихся грамматических характеристик, деленное на общее число характеристик."
      ],
      "metadata": {
        "id": "FoUAx2AR_6Hp"
      }
    },
    {
      "cell_type": "code",
      "source": [
        "def get_grammatical_distance(word1, word2):\n",
        "  pass"
      ],
      "metadata": {
        "id": "DvzybnyV_3Kn"
      },
      "execution_count": null,
      "outputs": []
    }
  ]
}